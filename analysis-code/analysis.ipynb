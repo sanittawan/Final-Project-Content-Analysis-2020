{
 "cells": [
  {
   "cell_type": "markdown",
   "metadata": {},
   "source": [
    "# Notebook for Preliminary Data Analysis \n",
    "\n",
    "## Date: 2/27/2020\n",
    "## Author: Sanittawan Tan"
   ]
  },
  {
   "cell_type": "code",
   "execution_count": 1,
   "metadata": {},
   "outputs": [],
   "source": [
    "import lucem_illud_2020\n",
    "from datetime import datetime\n",
    "\n",
    "import numpy as np #For arrays\n",
    "import scipy as sp #For some stats\n",
    "import pandas as pd #Gives us DataFrames\n",
    "import matplotlib.pyplot as plt #For graphics\n",
    "import seaborn as sns #Makes the graphics look nicer\n",
    "import pyanno #On python3 make sure to pip install pyanno3\n",
    "\n",
    "#We need to import these this way due to how pyanno is setup\n",
    "from pyanno.measures import pairwise_matrix, agreement, cohens_kappa, cohens_weighted_kappa, fleiss_kappa, krippendorffs_alpha, pearsons_rho, scotts_pi, spearmans_rho\n",
    "from pyanno.annotations import AnnotationsContainer\n",
    "from pyanno.models import ModelA, ModelBt, ModelB\n",
    "\n",
    "from functools import reduce\n",
    "from itertools import permutations\n",
    "import math"
   ]
  },
  {
   "cell_type": "markdown",
   "metadata": {},
   "source": [
    "## Pre-processing"
   ]
  },
  {
   "cell_type": "code",
   "execution_count": 146,
   "metadata": {},
   "outputs": [],
   "source": [
    "# read sample data\n",
    "sample_tweets = pd.read_csv('./data/sample_tweets_final.csv', encoding='utf-8',\n",
    "                           dtype={'coder1': 'Int64', 'coder2': 'Int64', 'coder3': 'Int64'})"
   ]
  },
  {
   "cell_type": "code",
   "execution_count": 63,
   "metadata": {},
   "outputs": [],
   "source": [
    "# read full data\n",
    "tweets = pd.read_csv('./data/tweets_final.csv', encoding='utf-8')"
   ]
  },
  {
   "cell_type": "code",
   "execution_count": 148,
   "metadata": {},
   "outputs": [
    {
     "data": {
      "text/plain": [
       "Index(['coder1', 'coder2', 'coder3', 'screen_name_tweets', 'fullname', 'text',\n",
       "       'timestamp', 'following', 'followers', 'num_tweets', 'user_id_users',\n",
       "       'date_joined', 'has_media', 'hashtags', 'img_urls', 'is_replied',\n",
       "       'is_reply_to', 'likes', 'links', 'parent_tweet_id', 'replies',\n",
       "       'reply_to_users', 'retweets', 'text_html', 'timestamp_epochs',\n",
       "       'tweet_id', 'tweet_url', 'user_id_tweets', 'username', 'video_url',\n",
       "       'location', 'blog', 'num_likes_users', 'lists', 'screen_name_users'],\n",
       "      dtype='object')"
      ]
     },
     "execution_count": 148,
     "metadata": {},
     "output_type": "execute_result"
    }
   ],
   "source": [
    "sample_tweets.columns"
   ]
  },
  {
   "cell_type": "code",
   "execution_count": 149,
   "metadata": {},
   "outputs": [],
   "source": [
    "# subset only useful columns\n",
    "cols_to_keep = ['coder1', 'coder2', 'coder3', 'screen_name_tweets', 'fullname',\n",
    "                'text', 'timestamp', 'following', 'followers', 'num_tweets',\n",
    "                'date_joined', 'location', 'num_likes_users', 'user_id_users']\n",
    "sample_df = sample_tweets[cols_to_keep]"
   ]
  },
  {
   "cell_type": "code",
   "execution_count": 150,
   "metadata": {},
   "outputs": [
    {
     "name": "stderr",
     "output_type": "stream",
     "text": [
      "/Users/sanittawan/anaconda3/lib/python3.7/site-packages/pandas/core/frame.py:4133: SettingWithCopyWarning: \n",
      "A value is trying to be set on a copy of a slice from a DataFrame\n",
      "\n",
      "See the caveats in the documentation: https://pandas.pydata.org/pandas-docs/stable/user_guide/indexing.html#returning-a-view-versus-a-copy\n",
      "  errors=errors,\n"
     ]
    }
   ],
   "source": [
    "sample_df.rename(columns={\"num_likes_users\": \"num_likes\",\n",
    "                         \"user_id_users\": \"id\"}, inplace=True)"
   ]
  },
  {
   "cell_type": "code",
   "execution_count": 151,
   "metadata": {},
   "outputs": [
    {
     "data": {
      "text/html": [
       "<div>\n",
       "<style scoped>\n",
       "    .dataframe tbody tr th:only-of-type {\n",
       "        vertical-align: middle;\n",
       "    }\n",
       "\n",
       "    .dataframe tbody tr th {\n",
       "        vertical-align: top;\n",
       "    }\n",
       "\n",
       "    .dataframe thead th {\n",
       "        text-align: right;\n",
       "    }\n",
       "</style>\n",
       "<table border=\"1\" class=\"dataframe\">\n",
       "  <thead>\n",
       "    <tr style=\"text-align: right;\">\n",
       "      <th></th>\n",
       "      <th>coder1</th>\n",
       "      <th>coder2</th>\n",
       "      <th>coder3</th>\n",
       "      <th>screen_name_tweets</th>\n",
       "      <th>fullname</th>\n",
       "      <th>text</th>\n",
       "      <th>timestamp</th>\n",
       "      <th>following</th>\n",
       "      <th>followers</th>\n",
       "      <th>num_tweets</th>\n",
       "      <th>date_joined</th>\n",
       "      <th>location</th>\n",
       "      <th>num_likes</th>\n",
       "      <th>id</th>\n",
       "    </tr>\n",
       "  </thead>\n",
       "  <tbody>\n",
       "    <tr>\n",
       "      <th>0</th>\n",
       "      <td>1</td>\n",
       "      <td>1</td>\n",
       "      <td>1</td>\n",
       "      <td>trueman98587845</td>\n",
       "      <td>trueman</td>\n",
       "      <td>สู้ๆ นะครับ เป็นกำลังใจให้ เจ้าหน้าที่ทุกคน มั...</td>\n",
       "      <td>2020-01-28 13:27:29</td>\n",
       "      <td>30.0</td>\n",
       "      <td>4.0</td>\n",
       "      <td>1032.0</td>\n",
       "      <td>5:13 PM - 22 Jan 2020</td>\n",
       "      <td>NaN</td>\n",
       "      <td>502.0</td>\n",
       "      <td>1.220152e+18</td>\n",
       "    </tr>\n",
       "    <tr>\n",
       "      <th>1</th>\n",
       "      <td>1</td>\n",
       "      <td>1</td>\n",
       "      <td>1</td>\n",
       "      <td>KI36bsxg8ozf6bg</td>\n",
       "      <td>ชัย สุขกายสบายใจ</td>\n",
       "      <td>เพื่อรักษา และ ระวังป้องกัน เจ้าหน้าที่รัฐ ผมด...</td>\n",
       "      <td>2020-02-03 15:58:04</td>\n",
       "      <td>36.0</td>\n",
       "      <td>22.0</td>\n",
       "      <td>2673.0</td>\n",
       "      <td>10:50 PM - 2 Dec 2019</td>\n",
       "      <td>NaN</td>\n",
       "      <td>770.0</td>\n",
       "      <td>1.201756e+18</td>\n",
       "    </tr>\n",
       "  </tbody>\n",
       "</table>\n",
       "</div>"
      ],
      "text/plain": [
       "   coder1  coder2  coder3 screen_name_tweets          fullname  \\\n",
       "0       1       1       1    trueman98587845           trueman   \n",
       "1       1       1       1    KI36bsxg8ozf6bg  ชัย สุขกายสบายใจ   \n",
       "\n",
       "                                                text            timestamp  \\\n",
       "0  สู้ๆ นะครับ เป็นกำลังใจให้ เจ้าหน้าที่ทุกคน มั...  2020-01-28 13:27:29   \n",
       "1  เพื่อรักษา และ ระวังป้องกัน เจ้าหน้าที่รัฐ ผมด...  2020-02-03 15:58:04   \n",
       "\n",
       "   following  followers  num_tweets            date_joined location  \\\n",
       "0       30.0        4.0      1032.0  5:13 PM - 22 Jan 2020      NaN   \n",
       "1       36.0       22.0      2673.0  10:50 PM - 2 Dec 2019      NaN   \n",
       "\n",
       "   num_likes            id  \n",
       "0      502.0  1.220152e+18  \n",
       "1      770.0  1.201756e+18  "
      ]
     },
     "execution_count": 151,
     "metadata": {},
     "output_type": "execute_result"
    }
   ],
   "source": [
    "sample_df.head(2)"
   ]
  },
  {
   "cell_type": "code",
   "execution_count": 152,
   "metadata": {},
   "outputs": [
    {
     "data": {
      "text/html": [
       "<div>\n",
       "<style scoped>\n",
       "    .dataframe tbody tr th:only-of-type {\n",
       "        vertical-align: middle;\n",
       "    }\n",
       "\n",
       "    .dataframe tbody tr th {\n",
       "        vertical-align: top;\n",
       "    }\n",
       "\n",
       "    .dataframe thead th {\n",
       "        text-align: right;\n",
       "    }\n",
       "</style>\n",
       "<table border=\"1\" class=\"dataframe\">\n",
       "  <thead>\n",
       "    <tr style=\"text-align: right;\">\n",
       "      <th></th>\n",
       "      <th>coder1</th>\n",
       "      <th>coder2</th>\n",
       "      <th>coder3</th>\n",
       "      <th>screen_name_tweets</th>\n",
       "      <th>fullname</th>\n",
       "      <th>text</th>\n",
       "      <th>timestamp</th>\n",
       "      <th>following</th>\n",
       "      <th>followers</th>\n",
       "      <th>num_tweets</th>\n",
       "      <th>date_joined</th>\n",
       "      <th>location</th>\n",
       "      <th>num_likes</th>\n",
       "      <th>id</th>\n",
       "    </tr>\n",
       "  </thead>\n",
       "  <tbody>\n",
       "    <tr>\n",
       "      <th>295</th>\n",
       "      <td>0</td>\n",
       "      <td>0</td>\n",
       "      <td>0</td>\n",
       "      <td>k0b_k0b</td>\n",
       "      <td>║ ⊙︿⊙™║</td>\n",
       "      <td>ทหารใกล้เกษียณ ถ้าอยากอยู่บ้านหลวงฟรีหลังเกษีย...</td>\n",
       "      <td>2020-02-14 5:48:45</td>\n",
       "      <td>1671.0</td>\n",
       "      <td>7025.0</td>\n",
       "      <td>109114.0</td>\n",
       "      <td>1:59 AM - 27 Jul 2009</td>\n",
       "      <td>NaN</td>\n",
       "      <td>2093.0</td>\n",
       "      <td>6.054160e+07</td>\n",
       "    </tr>\n",
       "    <tr>\n",
       "      <th>296</th>\n",
       "      <td>0</td>\n",
       "      <td>0</td>\n",
       "      <td>0</td>\n",
       "      <td>jssnve</td>\n",
       "      <td>NaN</td>\n",
       "      <td>พร้อมลาออก พร้อมยุบสภา เอออันนี้สนับสนุน #รัฐบ...</td>\n",
       "      <td>2020-02-13 19:14:41</td>\n",
       "      <td>NaN</td>\n",
       "      <td>NaN</td>\n",
       "      <td>NaN</td>\n",
       "      <td>NaN</td>\n",
       "      <td>NaN</td>\n",
       "      <td>NaN</td>\n",
       "      <td>NaN</td>\n",
       "    </tr>\n",
       "    <tr>\n",
       "      <th>297</th>\n",
       "      <td>0</td>\n",
       "      <td>0</td>\n",
       "      <td>0</td>\n",
       "      <td>autto002</td>\n",
       "      <td>Love Beach</td>\n",
       "      <td>เมื่อไหร่ เราจะมีระบบแจ้งเตือน ประมานว่าตอนนี้...</td>\n",
       "      <td>2020-02-14 3:08:43</td>\n",
       "      <td>212.0</td>\n",
       "      <td>164.0</td>\n",
       "      <td>93469.0</td>\n",
       "      <td>2:31 AM - 28 Aug 2009</td>\n",
       "      <td>Thailand</td>\n",
       "      <td>2046.0</td>\n",
       "      <td>6.954860e+07</td>\n",
       "    </tr>\n",
       "    <tr>\n",
       "      <th>298</th>\n",
       "      <td>0</td>\n",
       "      <td>0</td>\n",
       "      <td>0</td>\n",
       "      <td>GrahAnimation</td>\n",
       "      <td>Kritsana Assadong</td>\n",
       "      <td>ติดเทรนด์แถบข้างแล้ว \\nเชี่ย ไอโอ ดูไว้ อันนี้...</td>\n",
       "      <td>2020-02-13 18:06:49</td>\n",
       "      <td>1888.0</td>\n",
       "      <td>145.0</td>\n",
       "      <td>2920.0</td>\n",
       "      <td>2:24 AM - 15 Aug 2018</td>\n",
       "      <td>Thailand</td>\n",
       "      <td>10527.0</td>\n",
       "      <td>1.029660e+18</td>\n",
       "    </tr>\n",
       "    <tr>\n",
       "      <th>299</th>\n",
       "      <td>0</td>\n",
       "      <td>0</td>\n",
       "      <td>0</td>\n",
       "      <td>eibbbb</td>\n",
       "      <td>เอิ่บ</td>\n",
       "      <td>แล้วก็จะมีสื่อโง่ๆแคปไปลง ปชชแห่ให้กำลังใจรัฐบ...</td>\n",
       "      <td>2020-02-13 18:34:06</td>\n",
       "      <td>542.0</td>\n",
       "      <td>116.0</td>\n",
       "      <td>92484.0</td>\n",
       "      <td>8:28 AM - 18 Mar 2019</td>\n",
       "      <td>NaN</td>\n",
       "      <td>133900.0</td>\n",
       "      <td>1.107665e+18</td>\n",
       "    </tr>\n",
       "  </tbody>\n",
       "</table>\n",
       "</div>"
      ],
      "text/plain": [
       "     coder1  coder2  coder3 screen_name_tweets           fullname  \\\n",
       "295       0       0       0            k0b_k0b            ║ ⊙︿⊙™║   \n",
       "296       0       0       0             jssnve                NaN   \n",
       "297       0       0       0           autto002         Love Beach   \n",
       "298       0       0       0      GrahAnimation  Kritsana Assadong   \n",
       "299       0       0       0             eibbbb              เอิ่บ   \n",
       "\n",
       "                                                  text            timestamp  \\\n",
       "295  ทหารใกล้เกษียณ ถ้าอยากอยู่บ้านหลวงฟรีหลังเกษีย...   2020-02-14 5:48:45   \n",
       "296  พร้อมลาออก พร้อมยุบสภา เอออันนี้สนับสนุน #รัฐบ...  2020-02-13 19:14:41   \n",
       "297  เมื่อไหร่ เราจะมีระบบแจ้งเตือน ประมานว่าตอนนี้...   2020-02-14 3:08:43   \n",
       "298  ติดเทรนด์แถบข้างแล้ว \\nเชี่ย ไอโอ ดูไว้ อันนี้...  2020-02-13 18:06:49   \n",
       "299  แล้วก็จะมีสื่อโง่ๆแคปไปลง ปชชแห่ให้กำลังใจรัฐบ...  2020-02-13 18:34:06   \n",
       "\n",
       "     following  followers  num_tweets            date_joined  location  \\\n",
       "295     1671.0     7025.0    109114.0  1:59 AM - 27 Jul 2009       NaN   \n",
       "296        NaN        NaN         NaN                    NaN       NaN   \n",
       "297      212.0      164.0     93469.0  2:31 AM - 28 Aug 2009  Thailand   \n",
       "298     1888.0      145.0      2920.0  2:24 AM - 15 Aug 2018  Thailand   \n",
       "299      542.0      116.0     92484.0  8:28 AM - 18 Mar 2019       NaN   \n",
       "\n",
       "     num_likes            id  \n",
       "295     2093.0  6.054160e+07  \n",
       "296        NaN           NaN  \n",
       "297     2046.0  6.954860e+07  \n",
       "298    10527.0  1.029660e+18  \n",
       "299   133900.0  1.107665e+18  "
      ]
     },
     "execution_count": 152,
     "metadata": {},
     "output_type": "execute_result"
    }
   ],
   "source": [
    "sample_df.tail()"
   ]
  },
  {
   "cell_type": "code",
   "execution_count": 153,
   "metadata": {},
   "outputs": [
    {
     "data": {
      "text/plain": [
       "coder1                  Int64\n",
       "coder2                  Int64\n",
       "coder3                  Int64\n",
       "screen_name_tweets     object\n",
       "fullname               object\n",
       "text                   object\n",
       "timestamp              object\n",
       "following             float64\n",
       "followers             float64\n",
       "num_tweets            float64\n",
       "date_joined            object\n",
       "location               object\n",
       "num_likes             float64\n",
       "id                    float64\n",
       "dtype: object"
      ]
     },
     "execution_count": 153,
     "metadata": {},
     "output_type": "execute_result"
    }
   ],
   "source": [
    "sample_df.dtypes"
   ]
  },
  {
   "cell_type": "code",
   "execution_count": 154,
   "metadata": {},
   "outputs": [
    {
     "data": {
      "text/plain": [
       "Index(['coder1', 'coder2', 'coder3', 'screen_name_tweets', 'fullname', 'text',\n",
       "       'timestamp', 'following', 'followers', 'num_tweets', 'date_joined',\n",
       "       'location', 'num_likes', 'id'],\n",
       "      dtype='object')"
      ]
     },
     "execution_count": 154,
     "metadata": {},
     "output_type": "execute_result"
    }
   ],
   "source": [
    "sample_df.columns"
   ]
  },
  {
   "cell_type": "code",
   "execution_count": 156,
   "metadata": {},
   "outputs": [
    {
     "data": {
      "text/html": [
       "<div>\n",
       "<style scoped>\n",
       "    .dataframe tbody tr th:only-of-type {\n",
       "        vertical-align: middle;\n",
       "    }\n",
       "\n",
       "    .dataframe tbody tr th {\n",
       "        vertical-align: top;\n",
       "    }\n",
       "\n",
       "    .dataframe thead th {\n",
       "        text-align: right;\n",
       "    }\n",
       "</style>\n",
       "<table border=\"1\" class=\"dataframe\">\n",
       "  <thead>\n",
       "    <tr style=\"text-align: right;\">\n",
       "      <th></th>\n",
       "      <th>coder1</th>\n",
       "      <th>coder2</th>\n",
       "      <th>coder3</th>\n",
       "      <th>screen_name_tweets</th>\n",
       "      <th>fullname</th>\n",
       "      <th>text</th>\n",
       "      <th>timestamp</th>\n",
       "      <th>following</th>\n",
       "      <th>followers</th>\n",
       "      <th>num_tweets</th>\n",
       "      <th>date_joined</th>\n",
       "      <th>location</th>\n",
       "      <th>num_likes</th>\n",
       "      <th>id</th>\n",
       "    </tr>\n",
       "  </thead>\n",
       "  <tbody>\n",
       "    <tr>\n",
       "      <th>136</th>\n",
       "      <td>&lt;NA&gt;</td>\n",
       "      <td>0</td>\n",
       "      <td>0</td>\n",
       "      <td>juleejib</td>\n",
       "      <td>juleejib</td>\n",
       "      <td>เรามี รมต.กระทรวงแรงงานไว้ทำไม #รัฐบาลเตรียมพร...</td>\n",
       "      <td>2020-02-19 11:41:59</td>\n",
       "      <td>149.0</td>\n",
       "      <td>6.0</td>\n",
       "      <td>546.0</td>\n",
       "      <td>7:35 PM - 30 Apr 2019</td>\n",
       "      <td>Bangkok, Thailand</td>\n",
       "      <td>4045.0</td>\n",
       "      <td>1.123416e+18</td>\n",
       "    </tr>\n",
       "    <tr>\n",
       "      <th>157</th>\n",
       "      <td>&lt;NA&gt;</td>\n",
       "      <td>0</td>\n",
       "      <td>0</td>\n",
       "      <td>twentyfine2</td>\n",
       "      <td>Preset Lightroom 79฿</td>\n",
       "      <td>แต่งรูปง่ายๆด้วยคลิ๊กเดียวไม่ต้องปรับอะไร \\n79...</td>\n",
       "      <td>2020-02-14 4:02:09</td>\n",
       "      <td>17.0</td>\n",
       "      <td>7.0</td>\n",
       "      <td>17.0</td>\n",
       "      <td>8:17 AM - 13 Feb 2020</td>\n",
       "      <td>NaN</td>\n",
       "      <td>9.0</td>\n",
       "      <td>1.227990e+18</td>\n",
       "    </tr>\n",
       "    <tr>\n",
       "      <th>292</th>\n",
       "      <td>&lt;NA&gt;</td>\n",
       "      <td>0</td>\n",
       "      <td>0</td>\n",
       "      <td>meVnus</td>\n",
       "      <td>V Nus</td>\n",
       "      <td>#ชิมช้อปใช้ ก็ไม่ช่วย\\n\\nแล้วยังอยากจะมีเฟสต่อ...</td>\n",
       "      <td>2020-02-14 7:00:53</td>\n",
       "      <td>2726.0</td>\n",
       "      <td>13611.0</td>\n",
       "      <td>165456.0</td>\n",
       "      <td>12:30 AM - 18 Aug 2009</td>\n",
       "      <td>NaN</td>\n",
       "      <td>3914.0</td>\n",
       "      <td>6.662378e+07</td>\n",
       "    </tr>\n",
       "  </tbody>\n",
       "</table>\n",
       "</div>"
      ],
      "text/plain": [
       "     coder1  coder2  coder3 screen_name_tweets              fullname  \\\n",
       "136    <NA>       0       0           juleejib              juleejib   \n",
       "157    <NA>       0       0        twentyfine2  Preset Lightroom 79฿   \n",
       "292    <NA>       0       0             meVnus                 V Nus   \n",
       "\n",
       "                                                  text            timestamp  \\\n",
       "136  เรามี รมต.กระทรวงแรงงานไว้ทำไม #รัฐบาลเตรียมพร...  2020-02-19 11:41:59   \n",
       "157  แต่งรูปง่ายๆด้วยคลิ๊กเดียวไม่ต้องปรับอะไร \\n79...   2020-02-14 4:02:09   \n",
       "292  #ชิมช้อปใช้ ก็ไม่ช่วย\\n\\nแล้วยังอยากจะมีเฟสต่อ...   2020-02-14 7:00:53   \n",
       "\n",
       "     following  followers  num_tweets             date_joined  \\\n",
       "136      149.0        6.0       546.0   7:35 PM - 30 Apr 2019   \n",
       "157       17.0        7.0        17.0   8:17 AM - 13 Feb 2020   \n",
       "292     2726.0    13611.0    165456.0  12:30 AM - 18 Aug 2009   \n",
       "\n",
       "              location  num_likes            id  \n",
       "136  Bangkok, Thailand     4045.0  1.123416e+18  \n",
       "157                NaN        9.0  1.227990e+18  \n",
       "292                NaN     3914.0  6.662378e+07  "
      ]
     },
     "execution_count": 156,
     "metadata": {},
     "output_type": "execute_result"
    }
   ],
   "source": [
    "sample_df.loc[sample_df['coder1'].isna()]"
   ]
  },
  {
   "cell_type": "code",
   "execution_count": 157,
   "metadata": {},
   "outputs": [
    {
     "name": "stderr",
     "output_type": "stream",
     "text": [
      "/Users/sanittawan/anaconda3/lib/python3.7/site-packages/ipykernel_launcher.py:1: SettingWithCopyWarning: \n",
      "A value is trying to be set on a copy of a slice from a DataFrame.\n",
      "Try using .loc[row_indexer,col_indexer] = value instead\n",
      "\n",
      "See the caveats in the documentation: https://pandas.pydata.org/pandas-docs/stable/user_guide/indexing.html#returning-a-view-versus-a-copy\n",
      "  \"\"\"Entry point for launching an IPython kernel.\n"
     ]
    }
   ],
   "source": [
    "sample_df['coder1'] = np.where(sample_df['coder1'].isna(), 0, sample_df['coder1'])"
   ]
  },
  {
   "cell_type": "code",
   "execution_count": 161,
   "metadata": {},
   "outputs": [
    {
     "data": {
      "text/html": [
       "<div>\n",
       "<style scoped>\n",
       "    .dataframe tbody tr th:only-of-type {\n",
       "        vertical-align: middle;\n",
       "    }\n",
       "\n",
       "    .dataframe tbody tr th {\n",
       "        vertical-align: top;\n",
       "    }\n",
       "\n",
       "    .dataframe thead th {\n",
       "        text-align: right;\n",
       "    }\n",
       "</style>\n",
       "<table border=\"1\" class=\"dataframe\">\n",
       "  <thead>\n",
       "    <tr style=\"text-align: right;\">\n",
       "      <th></th>\n",
       "      <th>coder1</th>\n",
       "      <th>coder2</th>\n",
       "      <th>coder3</th>\n",
       "      <th>screen_name_tweets</th>\n",
       "      <th>fullname</th>\n",
       "      <th>text</th>\n",
       "      <th>timestamp</th>\n",
       "      <th>following</th>\n",
       "      <th>followers</th>\n",
       "      <th>num_tweets</th>\n",
       "      <th>date_joined</th>\n",
       "      <th>location</th>\n",
       "      <th>num_likes</th>\n",
       "      <th>id</th>\n",
       "    </tr>\n",
       "  </thead>\n",
       "  <tbody>\n",
       "  </tbody>\n",
       "</table>\n",
       "</div>"
      ],
      "text/plain": [
       "Empty DataFrame\n",
       "Columns: [coder1, coder2, coder3, screen_name_tweets, fullname, text, timestamp, following, followers, num_tweets, date_joined, location, num_likes, id]\n",
       "Index: []"
      ]
     },
     "execution_count": 161,
     "metadata": {},
     "output_type": "execute_result"
    }
   ],
   "source": [
    "sample_df.loc[sample_df['coder1'].isna()]"
   ]
  },
  {
   "cell_type": "code",
   "execution_count": 163,
   "metadata": {},
   "outputs": [
    {
     "data": {
      "text/html": [
       "<div>\n",
       "<style scoped>\n",
       "    .dataframe tbody tr th:only-of-type {\n",
       "        vertical-align: middle;\n",
       "    }\n",
       "\n",
       "    .dataframe tbody tr th {\n",
       "        vertical-align: top;\n",
       "    }\n",
       "\n",
       "    .dataframe thead th {\n",
       "        text-align: right;\n",
       "    }\n",
       "</style>\n",
       "<table border=\"1\" class=\"dataframe\">\n",
       "  <thead>\n",
       "    <tr style=\"text-align: right;\">\n",
       "      <th></th>\n",
       "      <th>coder1</th>\n",
       "      <th>coder2</th>\n",
       "      <th>coder3</th>\n",
       "      <th>screen_name_tweets</th>\n",
       "      <th>fullname</th>\n",
       "      <th>text</th>\n",
       "      <th>timestamp</th>\n",
       "      <th>following</th>\n",
       "      <th>followers</th>\n",
       "      <th>num_tweets</th>\n",
       "      <th>date_joined</th>\n",
       "      <th>location</th>\n",
       "      <th>num_likes</th>\n",
       "      <th>id</th>\n",
       "    </tr>\n",
       "  </thead>\n",
       "  <tbody>\n",
       "    <tr>\n",
       "      <th>19</th>\n",
       "      <td>1</td>\n",
       "      <td>1</td>\n",
       "      <td>&lt;NA&gt;</td>\n",
       "      <td>daengbile436</td>\n",
       "      <td>แดง ไบเล่</td>\n",
       "      <td>ข่าวปลอม  ไม่จริง ไม่ควรแชร์ต่อ\\n#ไวรัสโคโรนา\\...</td>\n",
       "      <td>2020-01-29 3:46:32</td>\n",
       "      <td>38.0</td>\n",
       "      <td>5.0</td>\n",
       "      <td>1234.0</td>\n",
       "      <td>9:12 PM - 20 Jan 2020</td>\n",
       "      <td>NaN</td>\n",
       "      <td>21.0</td>\n",
       "      <td>1.219488e+18</td>\n",
       "    </tr>\n",
       "    <tr>\n",
       "      <th>74</th>\n",
       "      <td>1</td>\n",
       "      <td>1</td>\n",
       "      <td>&lt;NA&gt;</td>\n",
       "      <td>daengbile436</td>\n",
       "      <td>แดง ไบเล่</td>\n",
       "      <td>ข่าวปลอม  ไม่จริง ไม่ควรแชร์ต่อ\\n#ไวรัสโคโรนา\\...</td>\n",
       "      <td>2020-01-29 3:47:03</td>\n",
       "      <td>38.0</td>\n",
       "      <td>5.0</td>\n",
       "      <td>1234.0</td>\n",
       "      <td>9:12 PM - 20 Jan 2020</td>\n",
       "      <td>NaN</td>\n",
       "      <td>21.0</td>\n",
       "      <td>1.219488e+18</td>\n",
       "    </tr>\n",
       "  </tbody>\n",
       "</table>\n",
       "</div>"
      ],
      "text/plain": [
       "   coder1  coder2  coder3 screen_name_tweets   fullname  \\\n",
       "19      1       1    <NA>       daengbile436  แดง ไบเล่   \n",
       "74      1       1    <NA>       daengbile436  แดง ไบเล่   \n",
       "\n",
       "                                                 text           timestamp  \\\n",
       "19  ข่าวปลอม  ไม่จริง ไม่ควรแชร์ต่อ\\n#ไวรัสโคโรนา\\...  2020-01-29 3:46:32   \n",
       "74  ข่าวปลอม  ไม่จริง ไม่ควรแชร์ต่อ\\n#ไวรัสโคโรนา\\...  2020-01-29 3:47:03   \n",
       "\n",
       "    following  followers  num_tweets            date_joined location  \\\n",
       "19       38.0        5.0      1234.0  9:12 PM - 20 Jan 2020      NaN   \n",
       "74       38.0        5.0      1234.0  9:12 PM - 20 Jan 2020      NaN   \n",
       "\n",
       "    num_likes            id  \n",
       "19       21.0  1.219488e+18  \n",
       "74       21.0  1.219488e+18  "
      ]
     },
     "execution_count": 163,
     "metadata": {},
     "output_type": "execute_result"
    }
   ],
   "source": [
    "sample_df.loc[sample_df['coder3'].isna()]"
   ]
  },
  {
   "cell_type": "code",
   "execution_count": 164,
   "metadata": {},
   "outputs": [
    {
     "name": "stderr",
     "output_type": "stream",
     "text": [
      "/Users/sanittawan/anaconda3/lib/python3.7/site-packages/ipykernel_launcher.py:1: SettingWithCopyWarning: \n",
      "A value is trying to be set on a copy of a slice from a DataFrame.\n",
      "Try using .loc[row_indexer,col_indexer] = value instead\n",
      "\n",
      "See the caveats in the documentation: https://pandas.pydata.org/pandas-docs/stable/user_guide/indexing.html#returning-a-view-versus-a-copy\n",
      "  \"\"\"Entry point for launching an IPython kernel.\n"
     ]
    }
   ],
   "source": [
    "sample_df['coder3'] = np.where(sample_df['coder3'].isna(), 1, sample_df['coder3'])"
   ]
  },
  {
   "cell_type": "code",
   "execution_count": 170,
   "metadata": {},
   "outputs": [
    {
     "data": {
      "text/html": [
       "<div>\n",
       "<style scoped>\n",
       "    .dataframe tbody tr th:only-of-type {\n",
       "        vertical-align: middle;\n",
       "    }\n",
       "\n",
       "    .dataframe tbody tr th {\n",
       "        vertical-align: top;\n",
       "    }\n",
       "\n",
       "    .dataframe thead th {\n",
       "        text-align: right;\n",
       "    }\n",
       "</style>\n",
       "<table border=\"1\" class=\"dataframe\">\n",
       "  <thead>\n",
       "    <tr style=\"text-align: right;\">\n",
       "      <th></th>\n",
       "      <th>coder1</th>\n",
       "      <th>coder2</th>\n",
       "      <th>coder3</th>\n",
       "      <th>screen_name_tweets</th>\n",
       "      <th>fullname</th>\n",
       "      <th>text</th>\n",
       "      <th>timestamp</th>\n",
       "      <th>following</th>\n",
       "      <th>followers</th>\n",
       "      <th>num_tweets</th>\n",
       "      <th>date_joined</th>\n",
       "      <th>location</th>\n",
       "      <th>num_likes</th>\n",
       "      <th>id</th>\n",
       "    </tr>\n",
       "  </thead>\n",
       "  <tbody>\n",
       "  </tbody>\n",
       "</table>\n",
       "</div>"
      ],
      "text/plain": [
       "Empty DataFrame\n",
       "Columns: [coder1, coder2, coder3, screen_name_tweets, fullname, text, timestamp, following, followers, num_tweets, date_joined, location, num_likes, id]\n",
       "Index: []"
      ]
     },
     "execution_count": 170,
     "metadata": {},
     "output_type": "execute_result"
    }
   ],
   "source": [
    "sample_df.loc[sample_df['coder3'].isna()]"
   ]
  },
  {
   "cell_type": "code",
   "execution_count": 171,
   "metadata": {},
   "outputs": [],
   "source": [
    "f_sample_df = sample_df.dropna(subset=['following', 'followers', 'num_tweets', 'date_joined', 'num_likes'])"
   ]
  },
  {
   "cell_type": "code",
   "execution_count": 172,
   "metadata": {},
   "outputs": [
    {
     "data": {
      "text/plain": [
       "(275, 14)"
      ]
     },
     "execution_count": 172,
     "metadata": {},
     "output_type": "execute_result"
    }
   ],
   "source": [
    "f_sample_df.shape # a bit smaller but still good"
   ]
  },
  {
   "cell_type": "code",
   "execution_count": 173,
   "metadata": {},
   "outputs": [],
   "source": [
    "types = {'coder1': 'int64', 'coder2': 'int64', 'coder3': 'int64',\n",
    "        'screen_name_tweets': 'str', 'text': 'str', 'following': 'int64', \n",
    "         'followers': 'int64', 'num_tweets': 'int64', 'num_likes': 'int64', 'id': 'int64'}\n",
    "f_sample_df = f_sample_df.astype(types)"
   ]
  },
  {
   "cell_type": "code",
   "execution_count": 64,
   "metadata": {},
   "outputs": [],
   "source": [
    "def change_to_timestamp(s):\n",
    "    if s == -1:\n",
    "        return s\n",
    "    new_s = s.split()\n",
    "    new_s = ''.join(new_s)\n",
    "    f = \"%I:%M%p-%d%b%Y\"\n",
    "    out = datetime.strptime(new_s, f)\n",
    "    out = pd.Timestamp(out)\n",
    "    return out"
   ]
  },
  {
   "cell_type": "code",
   "execution_count": 175,
   "metadata": {},
   "outputs": [
    {
     "data": {
      "text/plain": [
       "0     2020-01-22 17:13:00\n",
       "1     2019-12-02 22:50:00\n",
       "2     2020-01-20 21:12:00\n",
       "3     2020-01-22 17:13:00\n",
       "4     2019-12-23 00:14:00\n",
       "              ...        \n",
       "294   2018-03-25 01:18:00\n",
       "295   2009-07-27 01:59:00\n",
       "297   2009-08-28 02:31:00\n",
       "298   2018-08-15 02:24:00\n",
       "299   2019-03-18 08:28:00\n",
       "Name: new_date_joined, Length: 275, dtype: datetime64[ns]"
      ]
     },
     "execution_count": 175,
     "metadata": {},
     "output_type": "execute_result"
    }
   ],
   "source": [
    "f_sample_df['new_date_joined'] = f_sample_df['date_joined'].apply(change_to_timestamp)\n",
    "f_sample_df['new_date_joined']"
   ]
  },
  {
   "cell_type": "code",
   "execution_count": 176,
   "metadata": {},
   "outputs": [],
   "source": [
    "f_sample_df.drop(columns=['date_joined'], inplace=True)\n",
    "f_sample_df.rename(columns={\"new_date_joined\": \"date_joined\"}, inplace=True)"
   ]
  },
  {
   "cell_type": "code",
   "execution_count": 177,
   "metadata": {},
   "outputs": [],
   "source": [
    "f_sample_df.reset_index(drop=True, inplace=True)"
   ]
  },
  {
   "cell_type": "code",
   "execution_count": 200,
   "metadata": {},
   "outputs": [],
   "source": [
    "df = pd.DataFrame({'year': [2020]*f_sample_df.shape[0],\n",
    "                   'month': [2]*f_sample_df.shape[0],\n",
    "                   'day': [27]*f_sample_df.shape[0]})\n",
    "df = pd.to_datetime(df)"
   ]
  },
  {
   "cell_type": "code",
   "execution_count": 204,
   "metadata": {},
   "outputs": [],
   "source": [
    "f_sample_df['num_days_joined'] = df - f_sample_df['date_joined']"
   ]
  },
  {
   "cell_type": "code",
   "execution_count": 211,
   "metadata": {},
   "outputs": [],
   "source": [
    "f_sample_df['days_on_twitter'] = f_sample_df['num_days_joined'].apply(lambda x: x.days)"
   ]
  },
  {
   "cell_type": "code",
   "execution_count": 212,
   "metadata": {},
   "outputs": [
    {
     "data": {
      "text/plain": [
       "Index(['coder1', 'coder2', 'coder3', 'screen_name_tweets', 'fullname', 'text',\n",
       "       'timestamp', 'following', 'followers', 'num_tweets', 'location',\n",
       "       'num_likes', 'id', 'date_joined', 'num_days_joined', 'days_on_twitter'],\n",
       "      dtype='object')"
      ]
     },
     "execution_count": 212,
     "metadata": {},
     "output_type": "execute_result"
    }
   ],
   "source": [
    "f_sample_df.columns"
   ]
  },
  {
   "cell_type": "code",
   "execution_count": 213,
   "metadata": {},
   "outputs": [
    {
     "data": {
      "text/plain": [
       "35"
      ]
     },
     "execution_count": 213,
     "metadata": {},
     "output_type": "execute_result"
    }
   ],
   "source": [
    "f_sample_df.iloc[0]['num_days_joined'].days"
   ]
  },
  {
   "cell_type": "code",
   "execution_count": 214,
   "metadata": {},
   "outputs": [
    {
     "data": {
      "text/html": [
       "<div>\n",
       "<style scoped>\n",
       "    .dataframe tbody tr th:only-of-type {\n",
       "        vertical-align: middle;\n",
       "    }\n",
       "\n",
       "    .dataframe tbody tr th {\n",
       "        vertical-align: top;\n",
       "    }\n",
       "\n",
       "    .dataframe thead th {\n",
       "        text-align: right;\n",
       "    }\n",
       "</style>\n",
       "<table border=\"1\" class=\"dataframe\">\n",
       "  <thead>\n",
       "    <tr style=\"text-align: right;\">\n",
       "      <th></th>\n",
       "      <th>coder1</th>\n",
       "      <th>coder2</th>\n",
       "      <th>coder3</th>\n",
       "      <th>screen_name_tweets</th>\n",
       "      <th>fullname</th>\n",
       "      <th>text</th>\n",
       "      <th>timestamp</th>\n",
       "      <th>following</th>\n",
       "      <th>followers</th>\n",
       "      <th>num_tweets</th>\n",
       "      <th>location</th>\n",
       "      <th>num_likes</th>\n",
       "      <th>id</th>\n",
       "      <th>date_joined</th>\n",
       "      <th>num_days_joined</th>\n",
       "      <th>days_on_twitter</th>\n",
       "    </tr>\n",
       "  </thead>\n",
       "  <tbody>\n",
       "    <tr>\n",
       "      <th>0</th>\n",
       "      <td>1</td>\n",
       "      <td>1</td>\n",
       "      <td>1</td>\n",
       "      <td>trueman98587845</td>\n",
       "      <td>trueman</td>\n",
       "      <td>สู้ๆ นะครับ เป็นกำลังใจให้ เจ้าหน้าที่ทุกคน มั...</td>\n",
       "      <td>2020-01-28 13:27:29</td>\n",
       "      <td>30</td>\n",
       "      <td>4</td>\n",
       "      <td>1032</td>\n",
       "      <td>NaN</td>\n",
       "      <td>502</td>\n",
       "      <td>1220152441666039808</td>\n",
       "      <td>2020-01-22 17:13:00</td>\n",
       "      <td>35 days 06:47:00</td>\n",
       "      <td>35</td>\n",
       "    </tr>\n",
       "    <tr>\n",
       "      <th>1</th>\n",
       "      <td>1</td>\n",
       "      <td>1</td>\n",
       "      <td>1</td>\n",
       "      <td>KI36bsxg8ozf6bg</td>\n",
       "      <td>ชัย สุขกายสบายใจ</td>\n",
       "      <td>เพื่อรักษา และ ระวังป้องกัน เจ้าหน้าที่รัฐ ผมด...</td>\n",
       "      <td>2020-02-03 15:58:04</td>\n",
       "      <td>36</td>\n",
       "      <td>22</td>\n",
       "      <td>2673</td>\n",
       "      <td>NaN</td>\n",
       "      <td>770</td>\n",
       "      <td>1201755584225107968</td>\n",
       "      <td>2019-12-02 22:50:00</td>\n",
       "      <td>86 days 01:10:00</td>\n",
       "      <td>86</td>\n",
       "    </tr>\n",
       "    <tr>\n",
       "      <th>2</th>\n",
       "      <td>1</td>\n",
       "      <td>1</td>\n",
       "      <td>1</td>\n",
       "      <td>daengbile436</td>\n",
       "      <td>แดง ไบเล่</td>\n",
       "      <td>ข่าวปลอม  ไม่จริง ไม่ควรแชร์ต่อ\\n#ไวรัสโคโรนา\\...</td>\n",
       "      <td>2020-01-29 3:46:25</td>\n",
       "      <td>38</td>\n",
       "      <td>5</td>\n",
       "      <td>1234</td>\n",
       "      <td>NaN</td>\n",
       "      <td>21</td>\n",
       "      <td>1219487869049307136</td>\n",
       "      <td>2020-01-20 21:12:00</td>\n",
       "      <td>37 days 02:48:00</td>\n",
       "      <td>37</td>\n",
       "    </tr>\n",
       "    <tr>\n",
       "      <th>3</th>\n",
       "      <td>1</td>\n",
       "      <td>1</td>\n",
       "      <td>1</td>\n",
       "      <td>trueman98587845</td>\n",
       "      <td>trueman</td>\n",
       "      <td>กระผมหนึ่งในพลเมืองคนไทย ขอเป็นกำลังใจให้คุณหม...</td>\n",
       "      <td>2020-01-31 3:22:40</td>\n",
       "      <td>30</td>\n",
       "      <td>4</td>\n",
       "      <td>1032</td>\n",
       "      <td>NaN</td>\n",
       "      <td>502</td>\n",
       "      <td>1220152441666039808</td>\n",
       "      <td>2020-01-22 17:13:00</td>\n",
       "      <td>35 days 06:47:00</td>\n",
       "      <td>35</td>\n",
       "    </tr>\n",
       "    <tr>\n",
       "      <th>4</th>\n",
       "      <td>1</td>\n",
       "      <td>1</td>\n",
       "      <td>1</td>\n",
       "      <td>thaiprong</td>\n",
       "      <td>รวมใจไทยปรองดอง</td>\n",
       "      <td>ขอร้องทุกคนช่วยเสพสื่ออย่างมีสติ อย่าแชร์ข่าวป...</td>\n",
       "      <td>2020-01-28 8:28:56</td>\n",
       "      <td>304</td>\n",
       "      <td>99</td>\n",
       "      <td>78</td>\n",
       "      <td>NaN</td>\n",
       "      <td>395</td>\n",
       "      <td>1209024400651014144</td>\n",
       "      <td>2019-12-23 00:14:00</td>\n",
       "      <td>65 days 23:46:00</td>\n",
       "      <td>65</td>\n",
       "    </tr>\n",
       "    <tr>\n",
       "      <th>...</th>\n",
       "      <td>...</td>\n",
       "      <td>...</td>\n",
       "      <td>...</td>\n",
       "      <td>...</td>\n",
       "      <td>...</td>\n",
       "      <td>...</td>\n",
       "      <td>...</td>\n",
       "      <td>...</td>\n",
       "      <td>...</td>\n",
       "      <td>...</td>\n",
       "      <td>...</td>\n",
       "      <td>...</td>\n",
       "      <td>...</td>\n",
       "      <td>...</td>\n",
       "      <td>...</td>\n",
       "      <td>...</td>\n",
       "    </tr>\n",
       "    <tr>\n",
       "      <th>270</th>\n",
       "      <td>0</td>\n",
       "      <td>0</td>\n",
       "      <td>0</td>\n",
       "      <td>OlesRay124</td>\n",
       "      <td>OlesQG</td>\n",
       "      <td>ถ้ายังมั่นใจว่าประเทศไทยคือระบอบประชาธิปไตย คว...</td>\n",
       "      <td>2020-02-14 2:41:59</td>\n",
       "      <td>15</td>\n",
       "      <td>9</td>\n",
       "      <td>178</td>\n",
       "      <td>อ.สามพราน, จ.นครปฐม</td>\n",
       "      <td>164</td>\n",
       "      <td>977822121308053504</td>\n",
       "      <td>2018-03-25 01:18:00</td>\n",
       "      <td>703 days 22:42:00</td>\n",
       "      <td>703</td>\n",
       "    </tr>\n",
       "    <tr>\n",
       "      <th>271</th>\n",
       "      <td>0</td>\n",
       "      <td>0</td>\n",
       "      <td>0</td>\n",
       "      <td>k0b_k0b</td>\n",
       "      <td>║ ⊙︿⊙™║</td>\n",
       "      <td>ทหารใกล้เกษียณ ถ้าอยากอยู่บ้านหลวงฟรีหลังเกษีย...</td>\n",
       "      <td>2020-02-14 5:48:45</td>\n",
       "      <td>1671</td>\n",
       "      <td>7025</td>\n",
       "      <td>109114</td>\n",
       "      <td>NaN</td>\n",
       "      <td>2093</td>\n",
       "      <td>60541604</td>\n",
       "      <td>2009-07-27 01:59:00</td>\n",
       "      <td>3866 days 22:01:00</td>\n",
       "      <td>3866</td>\n",
       "    </tr>\n",
       "    <tr>\n",
       "      <th>272</th>\n",
       "      <td>0</td>\n",
       "      <td>0</td>\n",
       "      <td>0</td>\n",
       "      <td>autto002</td>\n",
       "      <td>Love Beach</td>\n",
       "      <td>เมื่อไหร่ เราจะมีระบบแจ้งเตือน ประมานว่าตอนนี้...</td>\n",
       "      <td>2020-02-14 3:08:43</td>\n",
       "      <td>212</td>\n",
       "      <td>164</td>\n",
       "      <td>93469</td>\n",
       "      <td>Thailand</td>\n",
       "      <td>2046</td>\n",
       "      <td>69548600</td>\n",
       "      <td>2009-08-28 02:31:00</td>\n",
       "      <td>3834 days 21:29:00</td>\n",
       "      <td>3834</td>\n",
       "    </tr>\n",
       "    <tr>\n",
       "      <th>273</th>\n",
       "      <td>0</td>\n",
       "      <td>0</td>\n",
       "      <td>0</td>\n",
       "      <td>GrahAnimation</td>\n",
       "      <td>Kritsana Assadong</td>\n",
       "      <td>ติดเทรนด์แถบข้างแล้ว \\nเชี่ย ไอโอ ดูไว้ อันนี้...</td>\n",
       "      <td>2020-02-13 18:06:49</td>\n",
       "      <td>1888</td>\n",
       "      <td>145</td>\n",
       "      <td>2920</td>\n",
       "      <td>Thailand</td>\n",
       "      <td>10527</td>\n",
       "      <td>1029660114158989312</td>\n",
       "      <td>2018-08-15 02:24:00</td>\n",
       "      <td>560 days 21:36:00</td>\n",
       "      <td>560</td>\n",
       "    </tr>\n",
       "    <tr>\n",
       "      <th>274</th>\n",
       "      <td>0</td>\n",
       "      <td>0</td>\n",
       "      <td>0</td>\n",
       "      <td>eibbbb</td>\n",
       "      <td>เอิ่บ</td>\n",
       "      <td>แล้วก็จะมีสื่อโง่ๆแคปไปลง ปชชแห่ให้กำลังใจรัฐบ...</td>\n",
       "      <td>2020-02-13 18:34:06</td>\n",
       "      <td>542</td>\n",
       "      <td>116</td>\n",
       "      <td>92484</td>\n",
       "      <td>NaN</td>\n",
       "      <td>133900</td>\n",
       "      <td>1107665196254781440</td>\n",
       "      <td>2019-03-18 08:28:00</td>\n",
       "      <td>345 days 15:32:00</td>\n",
       "      <td>345</td>\n",
       "    </tr>\n",
       "  </tbody>\n",
       "</table>\n",
       "<p>275 rows × 16 columns</p>\n",
       "</div>"
      ],
      "text/plain": [
       "     coder1  coder2  coder3 screen_name_tweets           fullname  \\\n",
       "0         1       1       1    trueman98587845            trueman   \n",
       "1         1       1       1    KI36bsxg8ozf6bg   ชัย สุขกายสบายใจ   \n",
       "2         1       1       1       daengbile436          แดง ไบเล่   \n",
       "3         1       1       1    trueman98587845            trueman   \n",
       "4         1       1       1          thaiprong    รวมใจไทยปรองดอง   \n",
       "..      ...     ...     ...                ...                ...   \n",
       "270       0       0       0         OlesRay124             OlesQG   \n",
       "271       0       0       0            k0b_k0b            ║ ⊙︿⊙™║   \n",
       "272       0       0       0           autto002         Love Beach   \n",
       "273       0       0       0      GrahAnimation  Kritsana Assadong   \n",
       "274       0       0       0             eibbbb              เอิ่บ   \n",
       "\n",
       "                                                  text            timestamp  \\\n",
       "0    สู้ๆ นะครับ เป็นกำลังใจให้ เจ้าหน้าที่ทุกคน มั...  2020-01-28 13:27:29   \n",
       "1    เพื่อรักษา และ ระวังป้องกัน เจ้าหน้าที่รัฐ ผมด...  2020-02-03 15:58:04   \n",
       "2    ข่าวปลอม  ไม่จริง ไม่ควรแชร์ต่อ\\n#ไวรัสโคโรนา\\...   2020-01-29 3:46:25   \n",
       "3    กระผมหนึ่งในพลเมืองคนไทย ขอเป็นกำลังใจให้คุณหม...   2020-01-31 3:22:40   \n",
       "4    ขอร้องทุกคนช่วยเสพสื่ออย่างมีสติ อย่าแชร์ข่าวป...   2020-01-28 8:28:56   \n",
       "..                                                 ...                  ...   \n",
       "270  ถ้ายังมั่นใจว่าประเทศไทยคือระบอบประชาธิปไตย คว...   2020-02-14 2:41:59   \n",
       "271  ทหารใกล้เกษียณ ถ้าอยากอยู่บ้านหลวงฟรีหลังเกษีย...   2020-02-14 5:48:45   \n",
       "272  เมื่อไหร่ เราจะมีระบบแจ้งเตือน ประมานว่าตอนนี้...   2020-02-14 3:08:43   \n",
       "273  ติดเทรนด์แถบข้างแล้ว \\nเชี่ย ไอโอ ดูไว้ อันนี้...  2020-02-13 18:06:49   \n",
       "274  แล้วก็จะมีสื่อโง่ๆแคปไปลง ปชชแห่ให้กำลังใจรัฐบ...  2020-02-13 18:34:06   \n",
       "\n",
       "     following  followers  num_tweets             location  num_likes  \\\n",
       "0           30          4        1032                  NaN        502   \n",
       "1           36         22        2673                  NaN        770   \n",
       "2           38          5        1234                  NaN         21   \n",
       "3           30          4        1032                  NaN        502   \n",
       "4          304         99          78                  NaN        395   \n",
       "..         ...        ...         ...                  ...        ...   \n",
       "270         15          9         178  อ.สามพราน, จ.นครปฐม        164   \n",
       "271       1671       7025      109114                  NaN       2093   \n",
       "272        212        164       93469             Thailand       2046   \n",
       "273       1888        145        2920             Thailand      10527   \n",
       "274        542        116       92484                  NaN     133900   \n",
       "\n",
       "                      id         date_joined    num_days_joined  \\\n",
       "0    1220152441666039808 2020-01-22 17:13:00   35 days 06:47:00   \n",
       "1    1201755584225107968 2019-12-02 22:50:00   86 days 01:10:00   \n",
       "2    1219487869049307136 2020-01-20 21:12:00   37 days 02:48:00   \n",
       "3    1220152441666039808 2020-01-22 17:13:00   35 days 06:47:00   \n",
       "4    1209024400651014144 2019-12-23 00:14:00   65 days 23:46:00   \n",
       "..                   ...                 ...                ...   \n",
       "270   977822121308053504 2018-03-25 01:18:00  703 days 22:42:00   \n",
       "271             60541604 2009-07-27 01:59:00 3866 days 22:01:00   \n",
       "272             69548600 2009-08-28 02:31:00 3834 days 21:29:00   \n",
       "273  1029660114158989312 2018-08-15 02:24:00  560 days 21:36:00   \n",
       "274  1107665196254781440 2019-03-18 08:28:00  345 days 15:32:00   \n",
       "\n",
       "     days_on_twitter  \n",
       "0                 35  \n",
       "1                 86  \n",
       "2                 37  \n",
       "3                 35  \n",
       "4                 65  \n",
       "..               ...  \n",
       "270              703  \n",
       "271             3866  \n",
       "272             3834  \n",
       "273              560  \n",
       "274              345  \n",
       "\n",
       "[275 rows x 16 columns]"
      ]
     },
     "execution_count": 214,
     "metadata": {},
     "output_type": "execute_result"
    }
   ],
   "source": [
    "f_sample_df"
   ]
  },
  {
   "cell_type": "code",
   "execution_count": 215,
   "metadata": {},
   "outputs": [],
   "source": [
    "f_sample_df.to_csv('sample_tweets_inter.csv', index=False, encoding='utf-8')"
   ]
  },
  {
   "cell_type": "markdown",
   "metadata": {},
   "source": [
    "## Summary Statistics"
   ]
  },
  {
   "cell_type": "code",
   "execution_count": 2,
   "metadata": {},
   "outputs": [],
   "source": [
    "# start running from this line"
   ]
  },
  {
   "cell_type": "markdown",
   "metadata": {},
   "source": [
    "#### Full train set"
   ]
  },
  {
   "cell_type": "code",
   "execution_count": 14,
   "metadata": {},
   "outputs": [],
   "source": [
    "full_train_df = pd.read_csv('./data/full_train_set.csv', encoding='utf-8')\n",
    "\n",
    "train_df = pd.read_csv('./data/sample_train_set.csv', encoding='utf-8')\n",
    "test_df = pd.read_csv('./data/sample_test_set.csv', encoding='utf-8')"
   ]
  },
  {
   "cell_type": "code",
   "execution_count": 15,
   "metadata": {},
   "outputs": [],
   "source": [
    "filtered_full_train_df = full_train_df[['following', 'followers', 'num_tweets', 'num_likes', 'days_on_twitter', 'is_IO']]"
   ]
  },
  {
   "cell_type": "code",
   "execution_count": 16,
   "metadata": {},
   "outputs": [],
   "source": [
    "sum_stats = filtered_full_train_df.describe().round(2)"
   ]
  },
  {
   "cell_type": "code",
   "execution_count": 17,
   "metadata": {},
   "outputs": [
    {
     "data": {
      "text/html": [
       "<div>\n",
       "<style scoped>\n",
       "    .dataframe tbody tr th:only-of-type {\n",
       "        vertical-align: middle;\n",
       "    }\n",
       "\n",
       "    .dataframe tbody tr th {\n",
       "        vertical-align: top;\n",
       "    }\n",
       "\n",
       "    .dataframe thead th {\n",
       "        text-align: right;\n",
       "    }\n",
       "</style>\n",
       "<table border=\"1\" class=\"dataframe\">\n",
       "  <thead>\n",
       "    <tr style=\"text-align: right;\">\n",
       "      <th></th>\n",
       "      <th>following</th>\n",
       "      <th>followers</th>\n",
       "      <th>num_tweets</th>\n",
       "      <th>num_likes</th>\n",
       "      <th>days_on_twitter</th>\n",
       "      <th>is_IO</th>\n",
       "    </tr>\n",
       "  </thead>\n",
       "  <tbody>\n",
       "    <tr>\n",
       "      <th>count</th>\n",
       "      <td>275.00</td>\n",
       "      <td>275.00</td>\n",
       "      <td>275.00</td>\n",
       "      <td>275.00</td>\n",
       "      <td>275.00</td>\n",
       "      <td>275.00</td>\n",
       "    </tr>\n",
       "    <tr>\n",
       "      <th>mean</th>\n",
       "      <td>264.09</td>\n",
       "      <td>535.35</td>\n",
       "      <td>18253.16</td>\n",
       "      <td>6175.05</td>\n",
       "      <td>856.79</td>\n",
       "      <td>0.39</td>\n",
       "    </tr>\n",
       "    <tr>\n",
       "      <th>std</th>\n",
       "      <td>439.55</td>\n",
       "      <td>3077.94</td>\n",
       "      <td>48824.80</td>\n",
       "      <td>25516.17</td>\n",
       "      <td>1161.32</td>\n",
       "      <td>0.49</td>\n",
       "    </tr>\n",
       "    <tr>\n",
       "      <th>min</th>\n",
       "      <td>1.00</td>\n",
       "      <td>1.00</td>\n",
       "      <td>11.00</td>\n",
       "      <td>1.00</td>\n",
       "      <td>13.00</td>\n",
       "      <td>0.00</td>\n",
       "    </tr>\n",
       "    <tr>\n",
       "      <th>25%</th>\n",
       "      <td>35.00</td>\n",
       "      <td>4.00</td>\n",
       "      <td>493.00</td>\n",
       "      <td>225.00</td>\n",
       "      <td>37.00</td>\n",
       "      <td>0.00</td>\n",
       "    </tr>\n",
       "    <tr>\n",
       "      <th>50%</th>\n",
       "      <td>104.00</td>\n",
       "      <td>19.00</td>\n",
       "      <td>1234.00</td>\n",
       "      <td>502.00</td>\n",
       "      <td>302.00</td>\n",
       "      <td>0.00</td>\n",
       "    </tr>\n",
       "    <tr>\n",
       "      <th>75%</th>\n",
       "      <td>302.00</td>\n",
       "      <td>99.00</td>\n",
       "      <td>7308.50</td>\n",
       "      <td>3703.50</td>\n",
       "      <td>1165.50</td>\n",
       "      <td>1.00</td>\n",
       "    </tr>\n",
       "    <tr>\n",
       "      <th>max</th>\n",
       "      <td>2726.00</td>\n",
       "      <td>29081.00</td>\n",
       "      <td>393236.00</td>\n",
       "      <td>326831.00</td>\n",
       "      <td>3974.00</td>\n",
       "      <td>1.00</td>\n",
       "    </tr>\n",
       "  </tbody>\n",
       "</table>\n",
       "</div>"
      ],
      "text/plain": [
       "       following  followers  num_tweets  num_likes  days_on_twitter   is_IO\n",
       "count     275.00     275.00      275.00     275.00           275.00  275.00\n",
       "mean      264.09     535.35    18253.16    6175.05           856.79    0.39\n",
       "std       439.55    3077.94    48824.80   25516.17          1161.32    0.49\n",
       "min         1.00       1.00       11.00       1.00            13.00    0.00\n",
       "25%        35.00       4.00      493.00     225.00            37.00    0.00\n",
       "50%       104.00      19.00     1234.00     502.00           302.00    0.00\n",
       "75%       302.00      99.00     7308.50    3703.50          1165.50    1.00\n",
       "max      2726.00   29081.00   393236.00  326831.00          3974.00    1.00"
      ]
     },
     "execution_count": 17,
     "metadata": {},
     "output_type": "execute_result"
    }
   ],
   "source": [
    "sum_stats"
   ]
  },
  {
   "cell_type": "code",
   "execution_count": 28,
   "metadata": {},
   "outputs": [
    {
     "name": "stdout",
     "output_type": "stream",
     "text": [
      "\\begin{tabular}{lrrrrrr}\n",
      "\\toprule\n",
      "{} &  following &  followers &  num\\_tweets &  num\\_likes &  days\\_on\\_twitter &   is\\_IO \\\\\n",
      "\\midrule\n",
      "count &     275.00 &     275.00 &      275.00 &     275.00 &           275.00 &  275.00 \\\\\n",
      "mean  &     264.09 &     535.35 &    18253.16 &    6175.05 &           856.79 &    0.39 \\\\\n",
      "std   &     439.55 &    3077.94 &    48824.80 &   25516.17 &          1161.32 &    0.49 \\\\\n",
      "min   &       1.00 &       1.00 &       11.00 &       1.00 &            13.00 &    0.00 \\\\\n",
      "25\\%   &      35.00 &       4.00 &      493.00 &     225.00 &            37.00 &    0.00 \\\\\n",
      "50\\%   &     104.00 &      19.00 &     1234.00 &     502.00 &           302.00 &    0.00 \\\\\n",
      "75\\%   &     302.00 &      99.00 &     7308.50 &    3703.50 &          1165.50 &    1.00 \\\\\n",
      "max   &    2726.00 &   29081.00 &   393236.00 &  326831.00 &          3974.00 &    1.00 \\\\\n",
      "\\bottomrule\n",
      "\\end{tabular}\n",
      "\n"
     ]
    }
   ],
   "source": [
    "print(sum_stats.to_latex(index=True))"
   ]
  },
  {
   "cell_type": "code",
   "execution_count": 26,
   "metadata": {},
   "outputs": [
    {
     "data": {
      "text/html": [
       "<div>\n",
       "<style scoped>\n",
       "    .dataframe tbody tr th:only-of-type {\n",
       "        vertical-align: middle;\n",
       "    }\n",
       "\n",
       "    .dataframe tbody tr th {\n",
       "        vertical-align: top;\n",
       "    }\n",
       "\n",
       "    .dataframe thead th {\n",
       "        text-align: right;\n",
       "    }\n",
       "</style>\n",
       "<table border=\"1\" class=\"dataframe\">\n",
       "  <thead>\n",
       "    <tr style=\"text-align: right;\">\n",
       "      <th></th>\n",
       "      <th>following</th>\n",
       "      <th>followers</th>\n",
       "      <th>num_tweets</th>\n",
       "      <th>num_likes</th>\n",
       "      <th>days_on_twitter</th>\n",
       "    </tr>\n",
       "    <tr>\n",
       "      <th>is_IO</th>\n",
       "      <th></th>\n",
       "      <th></th>\n",
       "      <th></th>\n",
       "      <th></th>\n",
       "      <th></th>\n",
       "    </tr>\n",
       "  </thead>\n",
       "  <tbody>\n",
       "    <tr>\n",
       "      <th>0</th>\n",
       "      <td>378.54</td>\n",
       "      <td>862.45</td>\n",
       "      <td>29070.46</td>\n",
       "      <td>9810.58</td>\n",
       "      <td>1348.82</td>\n",
       "    </tr>\n",
       "    <tr>\n",
       "      <th>1</th>\n",
       "      <td>81.61</td>\n",
       "      <td>13.85</td>\n",
       "      <td>1006.73</td>\n",
       "      <td>378.77</td>\n",
       "      <td>72.32</td>\n",
       "    </tr>\n",
       "  </tbody>\n",
       "</table>\n",
       "</div>"
      ],
      "text/plain": [
       "       following  followers  num_tweets  num_likes  days_on_twitter\n",
       "is_IO                                                              \n",
       "0         378.54     862.45    29070.46    9810.58          1348.82\n",
       "1          81.61      13.85     1006.73     378.77            72.32"
      ]
     },
     "execution_count": 26,
     "metadata": {},
     "output_type": "execute_result"
    }
   ],
   "source": [
    "mean_by_class = filtered_full_train_df.groupby('is_IO').mean().round(2)\n",
    "mean_by_class"
   ]
  },
  {
   "cell_type": "code",
   "execution_count": 27,
   "metadata": {},
   "outputs": [
    {
     "name": "stdout",
     "output_type": "stream",
     "text": [
      "\\begin{tabular}{lrrrrr}\n",
      "\\toprule\n",
      "{} &  following &  followers &  num\\_tweets &  num\\_likes &  days\\_on\\_twitter \\\\\n",
      "is\\_IO &            &            &             &            &                  \\\\\n",
      "\\midrule\n",
      "0     &     378.54 &     862.45 &    29070.46 &    9810.58 &          1348.82 \\\\\n",
      "1     &      81.61 &      13.85 &     1006.73 &     378.77 &            72.32 \\\\\n",
      "\\bottomrule\n",
      "\\end{tabular}\n",
      "\n"
     ]
    }
   ],
   "source": [
    "print(mean_by_class.to_latex())"
   ]
  },
  {
   "cell_type": "code",
   "execution_count": 29,
   "metadata": {},
   "outputs": [],
   "source": [
    "filtered_train = train_df[['following', 'followers', 'num_tweets', 'num_likes', 'days_on_twitter', 'is_IO']]\n",
    "filtered_test = test_df[['following', 'followers', 'num_tweets', 'num_likes', 'days_on_twitter', 'is_IO']]"
   ]
  },
  {
   "cell_type": "code",
   "execution_count": 33,
   "metadata": {},
   "outputs": [
    {
     "data": {
      "text/html": [
       "<div>\n",
       "<style scoped>\n",
       "    .dataframe tbody tr th:only-of-type {\n",
       "        vertical-align: middle;\n",
       "    }\n",
       "\n",
       "    .dataframe tbody tr th {\n",
       "        vertical-align: top;\n",
       "    }\n",
       "\n",
       "    .dataframe thead th {\n",
       "        text-align: right;\n",
       "    }\n",
       "</style>\n",
       "<table border=\"1\" class=\"dataframe\">\n",
       "  <thead>\n",
       "    <tr style=\"text-align: right;\">\n",
       "      <th></th>\n",
       "      <th>following</th>\n",
       "      <th>followers</th>\n",
       "      <th>num_tweets</th>\n",
       "      <th>num_likes</th>\n",
       "      <th>days_on_twitter</th>\n",
       "    </tr>\n",
       "    <tr>\n",
       "      <th>is_IO</th>\n",
       "      <th></th>\n",
       "      <th></th>\n",
       "      <th></th>\n",
       "      <th></th>\n",
       "      <th></th>\n",
       "    </tr>\n",
       "  </thead>\n",
       "  <tbody>\n",
       "    <tr>\n",
       "      <th>0</th>\n",
       "      <td>390.02</td>\n",
       "      <td>909.08</td>\n",
       "      <td>33299.06</td>\n",
       "      <td>11067.52</td>\n",
       "      <td>1311.70</td>\n",
       "    </tr>\n",
       "    <tr>\n",
       "      <th>1</th>\n",
       "      <td>73.16</td>\n",
       "      <td>14.44</td>\n",
       "      <td>1032.81</td>\n",
       "      <td>372.91</td>\n",
       "      <td>73.68</td>\n",
       "    </tr>\n",
       "  </tbody>\n",
       "</table>\n",
       "</div>"
      ],
      "text/plain": [
       "       following  followers  num_tweets  num_likes  days_on_twitter\n",
       "is_IO                                                              \n",
       "0         390.02     909.08    33299.06   11067.52          1311.70\n",
       "1          73.16      14.44     1032.81     372.91            73.68"
      ]
     },
     "execution_count": 33,
     "metadata": {},
     "output_type": "execute_result"
    }
   ],
   "source": [
    "desc_train = filtered_train.groupby('is_IO').mean().round(2)\n",
    "desc_train"
   ]
  },
  {
   "cell_type": "code",
   "execution_count": 35,
   "metadata": {},
   "outputs": [
    {
     "name": "stdout",
     "output_type": "stream",
     "text": [
      "\\begin{tabular}{lrrrrr}\n",
      "\\toprule\n",
      "{} &  following &  followers &  num\\_tweets &  num\\_likes &  days\\_on\\_twitter \\\\\n",
      "is\\_IO &            &            &             &            &                  \\\\\n",
      "\\midrule\n",
      "0     &     390.02 &     909.08 &    33299.06 &   11067.52 &          1311.70 \\\\\n",
      "1     &      73.16 &      14.44 &     1032.81 &     372.91 &            73.68 \\\\\n",
      "\\bottomrule\n",
      "\\end{tabular}\n",
      "\n"
     ]
    }
   ],
   "source": [
    "print(desc_train.to_latex())"
   ]
  },
  {
   "cell_type": "code",
   "execution_count": 34,
   "metadata": {},
   "outputs": [
    {
     "data": {
      "text/html": [
       "<div>\n",
       "<style scoped>\n",
       "    .dataframe tbody tr th:only-of-type {\n",
       "        vertical-align: middle;\n",
       "    }\n",
       "\n",
       "    .dataframe tbody tr th {\n",
       "        vertical-align: top;\n",
       "    }\n",
       "\n",
       "    .dataframe thead th {\n",
       "        text-align: right;\n",
       "    }\n",
       "</style>\n",
       "<table border=\"1\" class=\"dataframe\">\n",
       "  <thead>\n",
       "    <tr style=\"text-align: right;\">\n",
       "      <th></th>\n",
       "      <th>following</th>\n",
       "      <th>followers</th>\n",
       "      <th>num_tweets</th>\n",
       "      <th>num_likes</th>\n",
       "      <th>days_on_twitter</th>\n",
       "    </tr>\n",
       "    <tr>\n",
       "      <th>is_IO</th>\n",
       "      <th></th>\n",
       "      <th></th>\n",
       "      <th></th>\n",
       "      <th></th>\n",
       "      <th></th>\n",
       "    </tr>\n",
       "  </thead>\n",
       "  <tbody>\n",
       "    <tr>\n",
       "      <th>0</th>\n",
       "      <td>352.00</td>\n",
       "      <td>754.55</td>\n",
       "      <td>19286.63</td>\n",
       "      <td>6902.37</td>\n",
       "      <td>1434.71</td>\n",
       "    </tr>\n",
       "    <tr>\n",
       "      <th>1</th>\n",
       "      <td>102.06</td>\n",
       "      <td>12.42</td>\n",
       "      <td>943.61</td>\n",
       "      <td>392.97</td>\n",
       "      <td>69.03</td>\n",
       "    </tr>\n",
       "  </tbody>\n",
       "</table>\n",
       "</div>"
      ],
      "text/plain": [
       "       following  followers  num_tweets  num_likes  days_on_twitter\n",
       "is_IO                                                              \n",
       "0         352.00     754.55    19286.63    6902.37          1434.71\n",
       "1         102.06      12.42      943.61     392.97            69.03"
      ]
     },
     "execution_count": 34,
     "metadata": {},
     "output_type": "execute_result"
    }
   ],
   "source": [
    "desc_test = filtered_test.groupby('is_IO').mean().round(2)\n",
    "desc_test"
   ]
  },
  {
   "cell_type": "code",
   "execution_count": 36,
   "metadata": {},
   "outputs": [
    {
     "name": "stdout",
     "output_type": "stream",
     "text": [
      "\\begin{tabular}{lrrrrr}\n",
      "\\toprule\n",
      "{} &  following &  followers &  num\\_tweets &  num\\_likes &  days\\_on\\_twitter \\\\\n",
      "is\\_IO &            &            &             &            &                  \\\\\n",
      "\\midrule\n",
      "0     &     352.00 &     754.55 &    19286.63 &    6902.37 &          1434.71 \\\\\n",
      "1     &     102.06 &      12.42 &      943.61 &     392.97 &            69.03 \\\\\n",
      "\\bottomrule\n",
      "\\end{tabular}\n",
      "\n"
     ]
    }
   ],
   "source": [
    "print(desc_test.to_latex())"
   ]
  },
  {
   "cell_type": "code",
   "execution_count": 94,
   "metadata": {},
   "outputs": [
    {
     "data": {
      "text/html": [
       "<div>\n",
       "<style scoped>\n",
       "    .dataframe tbody tr th:only-of-type {\n",
       "        vertical-align: middle;\n",
       "    }\n",
       "\n",
       "    .dataframe tbody tr th {\n",
       "        vertical-align: top;\n",
       "    }\n",
       "\n",
       "    .dataframe thead th {\n",
       "        text-align: right;\n",
       "    }\n",
       "</style>\n",
       "<table border=\"1\" class=\"dataframe\">\n",
       "  <thead>\n",
       "    <tr style=\"text-align: right;\">\n",
       "      <th></th>\n",
       "      <th>count</th>\n",
       "      <th>mean</th>\n",
       "      <th>std</th>\n",
       "      <th>min</th>\n",
       "      <th>25%</th>\n",
       "      <th>50%</th>\n",
       "      <th>75%</th>\n",
       "      <th>max</th>\n",
       "    </tr>\n",
       "    <tr>\n",
       "      <th>is_IO</th>\n",
       "      <th></th>\n",
       "      <th></th>\n",
       "      <th></th>\n",
       "      <th></th>\n",
       "      <th></th>\n",
       "      <th></th>\n",
       "      <th></th>\n",
       "      <th></th>\n",
       "    </tr>\n",
       "  </thead>\n",
       "  <tbody>\n",
       "    <tr>\n",
       "      <th>0</th>\n",
       "      <td>169.0</td>\n",
       "      <td>378.544379</td>\n",
       "      <td>526.052018</td>\n",
       "      <td>1.0</td>\n",
       "      <td>55.0</td>\n",
       "      <td>179.0</td>\n",
       "      <td>413.0</td>\n",
       "      <td>2726.0</td>\n",
       "    </tr>\n",
       "    <tr>\n",
       "      <th>1</th>\n",
       "      <td>106.0</td>\n",
       "      <td>81.613208</td>\n",
       "      <td>81.912098</td>\n",
       "      <td>30.0</td>\n",
       "      <td>30.0</td>\n",
       "      <td>36.0</td>\n",
       "      <td>86.0</td>\n",
       "      <td>304.0</td>\n",
       "    </tr>\n",
       "  </tbody>\n",
       "</table>\n",
       "</div>"
      ],
      "text/plain": [
       "       count        mean         std   min   25%    50%    75%     max\n",
       "is_IO                                                                 \n",
       "0      169.0  378.544379  526.052018   1.0  55.0  179.0  413.0  2726.0\n",
       "1      106.0   81.613208   81.912098  30.0  30.0   36.0   86.0   304.0"
      ]
     },
     "execution_count": 94,
     "metadata": {},
     "output_type": "execute_result"
    }
   ],
   "source": [
    "f_sample_df.groupby('is_IO')['following'].describe()"
   ]
  },
  {
   "cell_type": "code",
   "execution_count": 95,
   "metadata": {},
   "outputs": [
    {
     "data": {
      "text/html": [
       "<div>\n",
       "<style scoped>\n",
       "    .dataframe tbody tr th:only-of-type {\n",
       "        vertical-align: middle;\n",
       "    }\n",
       "\n",
       "    .dataframe tbody tr th {\n",
       "        vertical-align: top;\n",
       "    }\n",
       "\n",
       "    .dataframe thead th {\n",
       "        text-align: right;\n",
       "    }\n",
       "</style>\n",
       "<table border=\"1\" class=\"dataframe\">\n",
       "  <thead>\n",
       "    <tr style=\"text-align: right;\">\n",
       "      <th></th>\n",
       "      <th>count</th>\n",
       "      <th>mean</th>\n",
       "      <th>std</th>\n",
       "      <th>min</th>\n",
       "      <th>25%</th>\n",
       "      <th>50%</th>\n",
       "      <th>75%</th>\n",
       "      <th>max</th>\n",
       "    </tr>\n",
       "    <tr>\n",
       "      <th>is_IO</th>\n",
       "      <th></th>\n",
       "      <th></th>\n",
       "      <th></th>\n",
       "      <th></th>\n",
       "      <th></th>\n",
       "      <th></th>\n",
       "      <th></th>\n",
       "      <th></th>\n",
       "    </tr>\n",
       "  </thead>\n",
       "  <tbody>\n",
       "    <tr>\n",
       "      <th>0</th>\n",
       "      <td>169.0</td>\n",
       "      <td>862.449704</td>\n",
       "      <td>3895.060975</td>\n",
       "      <td>1.0</td>\n",
       "      <td>11.0</td>\n",
       "      <td>53.0</td>\n",
       "      <td>213.0</td>\n",
       "      <td>29081.0</td>\n",
       "    </tr>\n",
       "    <tr>\n",
       "      <th>1</th>\n",
       "      <td>106.0</td>\n",
       "      <td>13.849057</td>\n",
       "      <td>25.309811</td>\n",
       "      <td>2.0</td>\n",
       "      <td>4.0</td>\n",
       "      <td>4.0</td>\n",
       "      <td>5.0</td>\n",
       "      <td>99.0</td>\n",
       "    </tr>\n",
       "  </tbody>\n",
       "</table>\n",
       "</div>"
      ],
      "text/plain": [
       "       count        mean          std  min   25%   50%    75%      max\n",
       "is_IO                                                                 \n",
       "0      169.0  862.449704  3895.060975  1.0  11.0  53.0  213.0  29081.0\n",
       "1      106.0   13.849057    25.309811  2.0   4.0   4.0    5.0     99.0"
      ]
     },
     "execution_count": 95,
     "metadata": {},
     "output_type": "execute_result"
    }
   ],
   "source": [
    "f_sample_df.groupby('is_IO')['followers'].describe()"
   ]
  },
  {
   "cell_type": "code",
   "execution_count": 96,
   "metadata": {},
   "outputs": [
    {
     "data": {
      "text/html": [
       "<div>\n",
       "<style scoped>\n",
       "    .dataframe tbody tr th:only-of-type {\n",
       "        vertical-align: middle;\n",
       "    }\n",
       "\n",
       "    .dataframe tbody tr th {\n",
       "        vertical-align: top;\n",
       "    }\n",
       "\n",
       "    .dataframe thead th {\n",
       "        text-align: right;\n",
       "    }\n",
       "</style>\n",
       "<table border=\"1\" class=\"dataframe\">\n",
       "  <thead>\n",
       "    <tr style=\"text-align: right;\">\n",
       "      <th></th>\n",
       "      <th>count</th>\n",
       "      <th>mean</th>\n",
       "      <th>std</th>\n",
       "      <th>min</th>\n",
       "      <th>25%</th>\n",
       "      <th>50%</th>\n",
       "      <th>75%</th>\n",
       "      <th>max</th>\n",
       "    </tr>\n",
       "    <tr>\n",
       "      <th>is_IO</th>\n",
       "      <th></th>\n",
       "      <th></th>\n",
       "      <th></th>\n",
       "      <th></th>\n",
       "      <th></th>\n",
       "      <th></th>\n",
       "      <th></th>\n",
       "      <th></th>\n",
       "    </tr>\n",
       "  </thead>\n",
       "  <tbody>\n",
       "    <tr>\n",
       "      <th>0</th>\n",
       "      <td>169.0</td>\n",
       "      <td>29070.455621</td>\n",
       "      <td>59851.319856</td>\n",
       "      <td>11.0</td>\n",
       "      <td>588.0</td>\n",
       "      <td>4305.0</td>\n",
       "      <td>20453.0</td>\n",
       "      <td>393236.0</td>\n",
       "    </tr>\n",
       "    <tr>\n",
       "      <th>1</th>\n",
       "      <td>106.0</td>\n",
       "      <td>1006.726415</td>\n",
       "      <td>803.602799</td>\n",
       "      <td>28.0</td>\n",
       "      <td>493.0</td>\n",
       "      <td>1032.0</td>\n",
       "      <td>1234.0</td>\n",
       "      <td>2673.0</td>\n",
       "    </tr>\n",
       "  </tbody>\n",
       "</table>\n",
       "</div>"
      ],
      "text/plain": [
       "       count          mean           std   min    25%     50%      75%  \\\n",
       "is_IO                                                                    \n",
       "0      169.0  29070.455621  59851.319856  11.0  588.0  4305.0  20453.0   \n",
       "1      106.0   1006.726415    803.602799  28.0  493.0  1032.0   1234.0   \n",
       "\n",
       "            max  \n",
       "is_IO            \n",
       "0      393236.0  \n",
       "1        2673.0  "
      ]
     },
     "execution_count": 96,
     "metadata": {},
     "output_type": "execute_result"
    }
   ],
   "source": [
    "f_sample_df.groupby('is_IO')['num_tweets'].describe()"
   ]
  },
  {
   "cell_type": "code",
   "execution_count": 97,
   "metadata": {},
   "outputs": [
    {
     "data": {
      "text/html": [
       "<div>\n",
       "<style scoped>\n",
       "    .dataframe tbody tr th:only-of-type {\n",
       "        vertical-align: middle;\n",
       "    }\n",
       "\n",
       "    .dataframe tbody tr th {\n",
       "        vertical-align: top;\n",
       "    }\n",
       "\n",
       "    .dataframe thead th {\n",
       "        text-align: right;\n",
       "    }\n",
       "</style>\n",
       "<table border=\"1\" class=\"dataframe\">\n",
       "  <thead>\n",
       "    <tr style=\"text-align: right;\">\n",
       "      <th></th>\n",
       "      <th>count</th>\n",
       "      <th>mean</th>\n",
       "      <th>std</th>\n",
       "      <th>min</th>\n",
       "      <th>25%</th>\n",
       "      <th>50%</th>\n",
       "      <th>75%</th>\n",
       "      <th>max</th>\n",
       "    </tr>\n",
       "    <tr>\n",
       "      <th>is_IO</th>\n",
       "      <th></th>\n",
       "      <th></th>\n",
       "      <th></th>\n",
       "      <th></th>\n",
       "      <th></th>\n",
       "      <th></th>\n",
       "      <th></th>\n",
       "      <th></th>\n",
       "    </tr>\n",
       "  </thead>\n",
       "  <tbody>\n",
       "    <tr>\n",
       "      <th>0</th>\n",
       "      <td>169.0</td>\n",
       "      <td>1348.822485</td>\n",
       "      <td>1245.525813</td>\n",
       "      <td>13.0</td>\n",
       "      <td>341.0</td>\n",
       "      <td>932.0</td>\n",
       "      <td>2180.0</td>\n",
       "      <td>3974.0</td>\n",
       "    </tr>\n",
       "    <tr>\n",
       "      <th>1</th>\n",
       "      <td>106.0</td>\n",
       "      <td>72.320755</td>\n",
       "      <td>162.320292</td>\n",
       "      <td>14.0</td>\n",
       "      <td>35.0</td>\n",
       "      <td>35.0</td>\n",
       "      <td>65.0</td>\n",
       "      <td>1009.0</td>\n",
       "    </tr>\n",
       "  </tbody>\n",
       "</table>\n",
       "</div>"
      ],
      "text/plain": [
       "       count         mean          std   min    25%    50%     75%     max\n",
       "is_IO                                                                     \n",
       "0      169.0  1348.822485  1245.525813  13.0  341.0  932.0  2180.0  3974.0\n",
       "1      106.0    72.320755   162.320292  14.0   35.0   35.0    65.0  1009.0"
      ]
     },
     "execution_count": 97,
     "metadata": {},
     "output_type": "execute_result"
    }
   ],
   "source": [
    "f_sample_df.groupby('is_IO')['days_on_twitter'].describe()"
   ]
  },
  {
   "cell_type": "code",
   "execution_count": 98,
   "metadata": {},
   "outputs": [
    {
     "data": {
      "image/png": "[encoded data removed]",
      "text/plain": [
       "<Figure size 762.375x720 with 20 Axes>"
      ]
     },
     "metadata": {
      "needs_background": "light"
     },
     "output_type": "display_data"
    }
   ],
   "source": [
    "sns.pairplot(f_sample_df[['coder3', 'following', 'followers', 'num_tweets', 'days_on_twitter']], hue=\"coder3\");\n",
    "plt.savefig('./graphics/pairplots.png', dpi=300)"
   ]
  },
  {
   "cell_type": "markdown",
   "metadata": {},
   "source": [
    "## Inter-coder reliability"
   ]
  },
  {
   "cell_type": "code",
   "execution_count": 13,
   "metadata": {},
   "outputs": [],
   "source": [
    "f_sample_df = pd.read_csv('./data/sample_tweets_inter.csv', encoding='utf-8',\n",
    "                           dtype={'coder1': 'Int64', 'coder2': 'Int64', 'coder3': 'Int64'})"
   ]
  },
  {
   "cell_type": "code",
   "execution_count": 4,
   "metadata": {},
   "outputs": [
    {
     "data": {
      "text/plain": [
       "array([[1, 1, 1],\n",
       "       [1, 1, 1],\n",
       "       [1, 1, 1],\n",
       "       [1, 1, 1],\n",
       "       [1, 1, 1],\n",
       "       [1, 1, 1],\n",
       "       [1, 1, 1],\n",
       "       [1, 1, 1],\n",
       "       [1, 1, 1],\n",
       "       [1, 1, 1],\n",
       "       [1, 1, 1],\n",
       "       [0, 0, 1],\n",
       "       [1, 1, 1],\n",
       "       [0, 1, 1],\n",
       "       [0, 1, 1],\n",
       "       [0, 0, 1],\n",
       "       [1, 1, 1],\n",
       "       [1, 1, 1],\n",
       "       [1, 1, 1],\n",
       "       [1, 1, 1],\n",
       "       [1, 1, 1],\n",
       "       [1, 1, 1],\n",
       "       [0, 0, 1],\n",
       "       [1, 1, 1],\n",
       "       [1, 1, 1],\n",
       "       [1, 1, 1],\n",
       "       [1, 1, 1],\n",
       "       [1, 1, 1],\n",
       "       [1, 1, 1],\n",
       "       [1, 1, 1],\n",
       "       [0, 0, 1],\n",
       "       [1, 1, 1],\n",
       "       [1, 0, 1],\n",
       "       [1, 1, 1],\n",
       "       [1, 1, 1],\n",
       "       [1, 0, 1],\n",
       "       [1, 1, 1],\n",
       "       [1, 1, 1],\n",
       "       [1, 1, 1],\n",
       "       [1, 1, 1],\n",
       "       [1, 1, 1],\n",
       "       [1, 1, 1],\n",
       "       [1, 1, 1],\n",
       "       [1, 1, 1],\n",
       "       [1, 1, 1],\n",
       "       [1, 1, 1],\n",
       "       [1, 1, 1],\n",
       "       [1, 1, 1],\n",
       "       [1, 1, 1],\n",
       "       [1, 1, 1],\n",
       "       [1, 1, 1],\n",
       "       [1, 1, 1],\n",
       "       [1, 1, 1],\n",
       "       [1, 1, 1],\n",
       "       [1, 1, 1],\n",
       "       [1, 1, 1],\n",
       "       [1, 1, 1],\n",
       "       [1, 1, 1],\n",
       "       [1, 1, 1],\n",
       "       [1, 1, 1],\n",
       "       [0, 1, 1],\n",
       "       [1, 1, 1],\n",
       "       [1, 1, 1],\n",
       "       [1, 1, 1],\n",
       "       [1, 1, 1],\n",
       "       [0, 0, 0],\n",
       "       [1, 1, 1],\n",
       "       [1, 1, 1],\n",
       "       [1, 1, 1],\n",
       "       [1, 1, 1],\n",
       "       [1, 1, 1],\n",
       "       [1, 1, 1],\n",
       "       [1, 1, 1],\n",
       "       [1, 1, 1],\n",
       "       [1, 1, 1],\n",
       "       [1, 1, 1],\n",
       "       [1, 1, 1],\n",
       "       [1, 1, 1],\n",
       "       [1, 1, 1],\n",
       "       [1, 0, 1],\n",
       "       [1, 1, 1],\n",
       "       [1, 1, 1],\n",
       "       [1, 1, 1],\n",
       "       [1, 1, 1],\n",
       "       [1, 1, 1],\n",
       "       [1, 1, 1],\n",
       "       [1, 1, 1],\n",
       "       [1, 1, 1],\n",
       "       [1, 1, 1],\n",
       "       [1, 1, 1],\n",
       "       [1, 1, 1],\n",
       "       [1, 1, 1],\n",
       "       [1, 1, 1],\n",
       "       [0, 1, 1],\n",
       "       [1, 1, 1],\n",
       "       [1, 1, 1],\n",
       "       [1, 1, 1],\n",
       "       [1, 1, 1],\n",
       "       [1, 1, 1],\n",
       "       [0, 0, 0],\n",
       "       [0, 0, 0],\n",
       "       [0, 0, 0],\n",
       "       [0, 0, 0],\n",
       "       [0, 0, 0],\n",
       "       [0, 0, 0],\n",
       "       [0, 0, 0],\n",
       "       [0, 0, 0],\n",
       "       [0, 0, 0],\n",
       "       [0, 0, 0],\n",
       "       [0, 0, 0],\n",
       "       [0, 0, 0],\n",
       "       [0, 0, 0],\n",
       "       [0, 0, 0],\n",
       "       [0, 0, 0],\n",
       "       [0, 0, 0],\n",
       "       [0, 0, 0],\n",
       "       [0, 0, 0],\n",
       "       [0, 0, 0],\n",
       "       [0, 0, 0],\n",
       "       [0, 0, 0],\n",
       "       [0, 0, 0],\n",
       "       [0, 0, 0],\n",
       "       [1, 1, 1],\n",
       "       [1, 1, 1],\n",
       "       [0, 0, 0],\n",
       "       [0, 0, 0],\n",
       "       [0, 0, 0],\n",
       "       [0, 0, 0],\n",
       "       [0, 0, 0],\n",
       "       [0, 0, 0],\n",
       "       [0, 0, 0],\n",
       "       [0, 0, 0],\n",
       "       [0, 0, 0],\n",
       "       [0, 0, 0],\n",
       "       [0, 0, 0],\n",
       "       [0, 0, 0],\n",
       "       [0, 0, 0],\n",
       "       [0, 0, 0],\n",
       "       [0, 0, 0],\n",
       "       [0, 0, 0],\n",
       "       [0, 0, 0],\n",
       "       [0, 0, 0],\n",
       "       [0, 0, 0],\n",
       "       [0, 0, 0],\n",
       "       [0, 0, 0],\n",
       "       [1, 1, 1],\n",
       "       [0, 0, 0],\n",
       "       [1, 1, 1],\n",
       "       [0, 0, 0],\n",
       "       [0, 0, 0],\n",
       "       [0, 0, 0],\n",
       "       [0, 0, 0],\n",
       "       [0, 0, 0],\n",
       "       [0, 0, 0],\n",
       "       [0, 0, 0],\n",
       "       [0, 0, 0],\n",
       "       [0, 0, 0],\n",
       "       [0, 0, 0],\n",
       "       [0, 0, 0],\n",
       "       [0, 0, 0],\n",
       "       [0, 0, 0],\n",
       "       [0, 0, 0],\n",
       "       [0, 0, 0],\n",
       "       [0, 0, 0],\n",
       "       [0, 0, 0],\n",
       "       [0, 0, 0],\n",
       "       [0, 0, 0],\n",
       "       [1, 1, 1],\n",
       "       [0, 0, 0],\n",
       "       [0, 0, 0],\n",
       "       [0, 0, 0],\n",
       "       [0, 0, 0],\n",
       "       [0, 0, 0],\n",
       "       [0, 0, 0],\n",
       "       [0, 0, 0],\n",
       "       [0, 0, 0],\n",
       "       [0, 0, 0],\n",
       "       [0, 0, 0],\n",
       "       [0, 0, 0],\n",
       "       [0, 0, 0],\n",
       "       [0, 0, 0],\n",
       "       [0, 0, 0],\n",
       "       [0, 0, 0],\n",
       "       [0, 0, 0],\n",
       "       [0, 0, 0],\n",
       "       [0, 0, 0],\n",
       "       [0, 0, 0],\n",
       "       [0, 0, 0],\n",
       "       [0, 0, 0],\n",
       "       [0, 0, 0],\n",
       "       [0, 0, 0],\n",
       "       [0, 0, 0],\n",
       "       [0, 0, 0],\n",
       "       [0, 0, 0],\n",
       "       [0, 0, 0],\n",
       "       [0, 0, 0],\n",
       "       [0, 0, 0],\n",
       "       [0, 0, 0],\n",
       "       [0, 0, 0],\n",
       "       [0, 0, 0],\n",
       "       [0, 0, 0],\n",
       "       [0, 0, 0],\n",
       "       [0, 0, 0],\n",
       "       [0, 0, 0],\n",
       "       [0, 0, 0],\n",
       "       [1, 1, 1],\n",
       "       [0, 0, 0],\n",
       "       [0, 0, 0],\n",
       "       [0, 0, 0],\n",
       "       [0, 0, 0],\n",
       "       [1, 1, 1],\n",
       "       [0, 0, 0],\n",
       "       [0, 0, 0],\n",
       "       [0, 0, 0],\n",
       "       [0, 0, 0],\n",
       "       [0, 0, 0],\n",
       "       [0, 0, 0],\n",
       "       [0, 0, 0],\n",
       "       [0, 0, 0],\n",
       "       [0, 0, 0],\n",
       "       [0, 0, 0],\n",
       "       [0, 0, 0],\n",
       "       [0, 0, 0],\n",
       "       [0, 0, 0],\n",
       "       [0, 0, 0],\n",
       "       [0, 0, 0],\n",
       "       [1, 1, 1],\n",
       "       [0, 0, 0],\n",
       "       [1, 0, 0],\n",
       "       [0, 0, 0],\n",
       "       [0, 0, 0],\n",
       "       [0, 0, 0],\n",
       "       [0, 0, 0],\n",
       "       [1, 1, 1],\n",
       "       [0, 0, 0],\n",
       "       [0, 0, 0],\n",
       "       [0, 0, 0],\n",
       "       [0, 0, 0],\n",
       "       [0, 0, 0],\n",
       "       [0, 0, 0],\n",
       "       [0, 0, 0],\n",
       "       [0, 0, 0],\n",
       "       [1, 1, 1],\n",
       "       [0, 0, 0],\n",
       "       [0, 0, 0],\n",
       "       [0, 0, 0],\n",
       "       [0, 0, 0],\n",
       "       [0, 0, 0],\n",
       "       [0, 0, 0],\n",
       "       [0, 0, 0],\n",
       "       [0, 0, 0],\n",
       "       [1, 1, 1],\n",
       "       [0, 0, 0],\n",
       "       [0, 0, 0],\n",
       "       [0, 0, 0],\n",
       "       [1, 1, 1],\n",
       "       [0, 0, 0],\n",
       "       [0, 0, 0],\n",
       "       [0, 0, 0],\n",
       "       [0, 0, 0],\n",
       "       [0, 0, 0],\n",
       "       [0, 0, 0],\n",
       "       [0, 0, 0],\n",
       "       [0, 0, 0],\n",
       "       [0, 0, 0],\n",
       "       [0, 0, 0],\n",
       "       [0, 0, 0],\n",
       "       [0, 0, 0],\n",
       "       [0, 0, 0],\n",
       "       [0, 0, 0],\n",
       "       [0, 0, 0],\n",
       "       [0, 0, 0],\n",
       "       [0, 0, 0],\n",
       "       [0, 0, 0],\n",
       "       [0, 0, 0]])"
      ]
     },
     "execution_count": 4,
     "metadata": {},
     "output_type": "execute_result"
    }
   ],
   "source": [
    "anno = AnnotationsContainer.from_array(f_sample_df.iloc[:, 0:3].to_numpy(), missing_values=[-1])\n",
    "anno.annotations"
   ]
  },
  {
   "cell_type": "code",
   "execution_count": 5,
   "metadata": {},
   "outputs": [
    {
     "data": {
      "text/plain": [
       "0.9384496779488201"
      ]
     },
     "execution_count": 5,
     "metadata": {},
     "output_type": "execute_result"
    }
   ],
   "source": [
    "fleiss_kappa(anno.annotations[::])"
   ]
  },
  {
   "cell_type": "code",
   "execution_count": 6,
   "metadata": {},
   "outputs": [],
   "source": [
    "def pairwise_metric_average(metric, array):\n",
    "    \"\"\"Calculate the pairwise metric average for the real elements of metric function run on an array of annotations\"\"\"\n",
    "    p = permutations(range(array[0,:].size),2)\n",
    "    m = [metric(array[:,x[0]], array[:,x[1]]) for x in p]\n",
    "    clean_m = [c for c in m if not math.isnan(c)]\n",
    "    return reduce(lambda a, b: a + b, clean_m)/len(clean_m)    "
   ]
  },
  {
   "cell_type": "code",
   "execution_count": 7,
   "metadata": {},
   "outputs": [
    {
     "data": {
      "text/plain": [
       "0.9384659163794801"
      ]
     },
     "execution_count": 7,
     "metadata": {},
     "output_type": "execute_result"
    }
   ],
   "source": [
    "pairwise_metric_average(cohens_kappa, anno.annotations)"
   ]
  },
  {
   "cell_type": "markdown",
   "metadata": {},
   "source": [
    "Annotation statistics both tell us that there's a high inter-coder reliability (93.8%)"
   ]
  },
  {
   "cell_type": "markdown",
   "metadata": {},
   "source": [
    "### Use Model B with $\\theta$"
   ]
  },
  {
   "cell_type": "code",
   "execution_count": 8,
   "metadata": {},
   "outputs": [
    {
     "name": "stdout",
     "output_type": "stream",
     "text": [
      "[0.62316365 0.65155246 0.68533444]\n",
      "-500.9877540761749\n"
     ]
    }
   ],
   "source": [
    "model2 = ModelBt.create_initial_state(2, 3)\n",
    "print(model2.theta)\n",
    "print(model2.log_likelihood(anno.annotations))"
   ]
  },
  {
   "cell_type": "code",
   "execution_count": 9,
   "metadata": {},
   "outputs": [
    {
     "name": "stdout",
     "output_type": "stream",
     "text": [
      "[0.98153048 0.98922409 0.98495604]\n",
      "-245.539845906971\n"
     ]
    }
   ],
   "source": [
    "model2.map(anno.annotations)\n",
    "print(model2.theta)\n",
    "print(model2.log_likelihood(anno.annotations))"
   ]
  },
  {
   "cell_type": "code",
   "execution_count": 10,
   "metadata": {},
   "outputs": [
    {
     "name": "stdout",
     "output_type": "stream",
     "text": [
      "[[5.00258718e-06 9.99994997e-01]\n",
      " [5.00258718e-06 9.99994997e-01]\n",
      " [5.00258718e-06 9.99994997e-01]\n",
      " [5.00258718e-06 9.99994997e-01]\n",
      " [5.00258718e-06 9.99994997e-01]\n",
      " [5.00258718e-06 9.99994997e-01]\n",
      " [5.00258718e-06 9.99994997e-01]\n",
      " [5.00258718e-06 9.99994997e-01]\n",
      " [5.00258718e-06 9.99994997e-01]\n",
      " [5.00258718e-06 9.99994997e-01]\n",
      " [5.00258718e-06 9.99994997e-01]\n",
      " [9.91671009e-01 8.32899066e-03]\n",
      " [5.00258718e-06 9.99994997e-01]\n",
      " [1.39315836e-02 9.86068416e-01]\n",
      " [1.39315836e-02 9.86068416e-01]\n",
      " [9.91671009e-01 8.32899066e-03]\n",
      " [5.00258718e-06 9.99994997e-01]\n",
      " [5.00258718e-06 9.99994997e-01]\n",
      " [5.00258718e-06 9.99994997e-01]\n",
      " [5.00258718e-06 9.99994997e-01]\n",
      " [5.00258718e-06 9.99994997e-01]\n",
      " [5.00258718e-06 9.99994997e-01]\n",
      " [9.91671009e-01 8.32899066e-03]\n",
      " [5.00258718e-06 9.99994997e-01]\n",
      " [5.00258718e-06 9.99994997e-01]\n",
      " [5.00258718e-06 9.99994997e-01]\n",
      " [5.00258718e-06 9.99994997e-01]\n",
      " [5.00258718e-06 9.99994997e-01]\n",
      " [5.00258718e-06 9.99994997e-01]\n",
      " [5.00258718e-06 9.99994997e-01]\n",
      " [9.91671009e-01 8.32899066e-03]\n",
      " [5.00258718e-06 9.99994997e-01]\n",
      " [4.04524782e-02 9.59547522e-01]\n",
      " [5.00258718e-06 9.99994997e-01]\n",
      " [5.00258718e-06 9.99994997e-01]\n",
      " [4.04524782e-02 9.59547522e-01]\n",
      " [5.00258718e-06 9.99994997e-01]\n",
      " [5.00258718e-06 9.99994997e-01]\n",
      " [5.00258718e-06 9.99994997e-01]\n",
      " [5.00258718e-06 9.99994997e-01]\n",
      " [5.00258718e-06 9.99994997e-01]\n",
      " [5.00258718e-06 9.99994997e-01]\n",
      " [5.00258718e-06 9.99994997e-01]\n",
      " [5.00258718e-06 9.99994997e-01]\n",
      " [5.00258718e-06 9.99994997e-01]\n",
      " [5.00258718e-06 9.99994997e-01]\n",
      " [5.00258718e-06 9.99994997e-01]\n",
      " [5.00258718e-06 9.99994997e-01]\n",
      " [5.00258718e-06 9.99994997e-01]\n",
      " [5.00258718e-06 9.99994997e-01]\n",
      " [5.00258718e-06 9.99994997e-01]\n",
      " [5.00258718e-06 9.99994997e-01]\n",
      " [5.00258718e-06 9.99994997e-01]\n",
      " [5.00258718e-06 9.99994997e-01]\n",
      " [5.00258718e-06 9.99994997e-01]\n",
      " [5.00258718e-06 9.99994997e-01]\n",
      " [5.00258718e-06 9.99994997e-01]\n",
      " [5.00258718e-06 9.99994997e-01]\n",
      " [5.00258718e-06 9.99994997e-01]\n",
      " [5.00258718e-06 9.99994997e-01]\n",
      " [1.39315836e-02 9.86068416e-01]\n",
      " [5.00258718e-06 9.99994997e-01]\n",
      " [5.00258718e-06 9.99994997e-01]\n",
      " [5.00258718e-06 9.99994997e-01]\n",
      " [5.00258718e-06 9.99994997e-01]\n",
      " [9.99998041e-01 1.95936046e-06]\n",
      " [5.00258718e-06 9.99994997e-01]\n",
      " [5.00258718e-06 9.99994997e-01]\n",
      " [5.00258718e-06 9.99994997e-01]\n",
      " [5.00258718e-06 9.99994997e-01]\n",
      " [5.00258718e-06 9.99994997e-01]\n",
      " [5.00258718e-06 9.99994997e-01]\n",
      " [5.00258718e-06 9.99994997e-01]\n",
      " [5.00258718e-06 9.99994997e-01]\n",
      " [5.00258718e-06 9.99994997e-01]\n",
      " [5.00258718e-06 9.99994997e-01]\n",
      " [5.00258718e-06 9.99994997e-01]\n",
      " [5.00258718e-06 9.99994997e-01]\n",
      " [5.00258718e-06 9.99994997e-01]\n",
      " [4.04524782e-02 9.59547522e-01]\n",
      " [5.00258718e-06 9.99994997e-01]\n",
      " [5.00258718e-06 9.99994997e-01]\n",
      " [5.00258718e-06 9.99994997e-01]\n",
      " [5.00258718e-06 9.99994997e-01]\n",
      " [5.00258718e-06 9.99994997e-01]\n",
      " [5.00258718e-06 9.99994997e-01]\n",
      " [5.00258718e-06 9.99994997e-01]\n",
      " [5.00258718e-06 9.99994997e-01]\n",
      " [5.00258718e-06 9.99994997e-01]\n",
      " [5.00258718e-06 9.99994997e-01]\n",
      " [5.00258718e-06 9.99994997e-01]\n",
      " [5.00258718e-06 9.99994997e-01]\n",
      " [5.00258718e-06 9.99994997e-01]\n",
      " [1.39315836e-02 9.86068416e-01]\n",
      " [5.00258718e-06 9.99994997e-01]\n",
      " [5.00258718e-06 9.99994997e-01]\n",
      " [5.00258718e-06 9.99994997e-01]\n",
      " [5.00258718e-06 9.99994997e-01]\n",
      " [5.00258718e-06 9.99994997e-01]\n",
      " [9.99998041e-01 1.95936046e-06]\n",
      " [9.99998041e-01 1.95936046e-06]\n",
      " [9.99998041e-01 1.95936046e-06]\n",
      " [9.99998041e-01 1.95936046e-06]\n",
      " [9.99998041e-01 1.95936046e-06]\n",
      " [9.99998041e-01 1.95936046e-06]\n",
      " [9.99998041e-01 1.95936046e-06]\n",
      " [9.99998041e-01 1.95936046e-06]\n",
      " [9.99998041e-01 1.95936046e-06]\n",
      " [9.99998041e-01 1.95936046e-06]\n",
      " [9.99998041e-01 1.95936046e-06]\n",
      " [9.99998041e-01 1.95936046e-06]\n",
      " [9.99998041e-01 1.95936046e-06]\n",
      " [9.99998041e-01 1.95936046e-06]\n",
      " [9.99998041e-01 1.95936046e-06]\n",
      " [9.99998041e-01 1.95936046e-06]\n",
      " [9.99998041e-01 1.95936046e-06]\n",
      " [9.99998041e-01 1.95936046e-06]\n",
      " [9.99998041e-01 1.95936046e-06]\n",
      " [9.99998041e-01 1.95936046e-06]\n",
      " [9.99998041e-01 1.95936046e-06]\n",
      " [9.99998041e-01 1.95936046e-06]\n",
      " [9.99998041e-01 1.95936046e-06]\n",
      " [5.00258718e-06 9.99994997e-01]\n",
      " [5.00258718e-06 9.99994997e-01]\n",
      " [9.99998041e-01 1.95936046e-06]\n",
      " [9.99998041e-01 1.95936046e-06]\n",
      " [9.99998041e-01 1.95936046e-06]\n",
      " [9.99998041e-01 1.95936046e-06]\n",
      " [9.99998041e-01 1.95936046e-06]\n",
      " [9.99998041e-01 1.95936046e-06]\n",
      " [9.99998041e-01 1.95936046e-06]\n",
      " [9.99998041e-01 1.95936046e-06]\n",
      " [9.99998041e-01 1.95936046e-06]\n",
      " [9.99998041e-01 1.95936046e-06]\n",
      " [9.99998041e-01 1.95936046e-06]\n",
      " [9.99998041e-01 1.95936046e-06]\n",
      " [9.99998041e-01 1.95936046e-06]\n",
      " [9.99998041e-01 1.95936046e-06]\n",
      " [9.99998041e-01 1.95936046e-06]\n",
      " [9.99998041e-01 1.95936046e-06]\n",
      " [9.99998041e-01 1.95936046e-06]\n",
      " [9.99998041e-01 1.95936046e-06]\n",
      " [9.99998041e-01 1.95936046e-06]\n",
      " [9.99998041e-01 1.95936046e-06]\n",
      " [9.99998041e-01 1.95936046e-06]\n",
      " [5.00258718e-06 9.99994997e-01]\n",
      " [9.99998041e-01 1.95936046e-06]\n",
      " [5.00258718e-06 9.99994997e-01]\n",
      " [9.99998041e-01 1.95936046e-06]\n",
      " [9.99998041e-01 1.95936046e-06]\n",
      " [9.99998041e-01 1.95936046e-06]\n",
      " [9.99998041e-01 1.95936046e-06]\n",
      " [9.99998041e-01 1.95936046e-06]\n",
      " [9.99998041e-01 1.95936046e-06]\n",
      " [9.99998041e-01 1.95936046e-06]\n",
      " [9.99998041e-01 1.95936046e-06]\n",
      " [9.99998041e-01 1.95936046e-06]\n",
      " [9.99998041e-01 1.95936046e-06]\n",
      " [9.99998041e-01 1.95936046e-06]\n",
      " [9.99998041e-01 1.95936046e-06]\n",
      " [9.99998041e-01 1.95936046e-06]\n",
      " [9.99998041e-01 1.95936046e-06]\n",
      " [9.99998041e-01 1.95936046e-06]\n",
      " [9.99998041e-01 1.95936046e-06]\n",
      " [9.99998041e-01 1.95936046e-06]\n",
      " [9.99998041e-01 1.95936046e-06]\n",
      " [9.99998041e-01 1.95936046e-06]\n",
      " [5.00258718e-06 9.99994997e-01]\n",
      " [9.99998041e-01 1.95936046e-06]\n",
      " [9.99998041e-01 1.95936046e-06]\n",
      " [9.99998041e-01 1.95936046e-06]\n",
      " [9.99998041e-01 1.95936046e-06]\n",
      " [9.99998041e-01 1.95936046e-06]\n",
      " [9.99998041e-01 1.95936046e-06]\n",
      " [9.99998041e-01 1.95936046e-06]\n",
      " [9.99998041e-01 1.95936046e-06]\n",
      " [9.99998041e-01 1.95936046e-06]\n",
      " [9.99998041e-01 1.95936046e-06]\n",
      " [9.99998041e-01 1.95936046e-06]\n",
      " [9.99998041e-01 1.95936046e-06]\n",
      " [9.99998041e-01 1.95936046e-06]\n",
      " [9.99998041e-01 1.95936046e-06]\n",
      " [9.99998041e-01 1.95936046e-06]\n",
      " [9.99998041e-01 1.95936046e-06]\n",
      " [9.99998041e-01 1.95936046e-06]\n",
      " [9.99998041e-01 1.95936046e-06]\n",
      " [9.99998041e-01 1.95936046e-06]\n",
      " [9.99998041e-01 1.95936046e-06]\n",
      " [9.99998041e-01 1.95936046e-06]\n",
      " [9.99998041e-01 1.95936046e-06]\n",
      " [9.99998041e-01 1.95936046e-06]\n",
      " [9.99998041e-01 1.95936046e-06]\n",
      " [9.99998041e-01 1.95936046e-06]\n",
      " [9.99998041e-01 1.95936046e-06]\n",
      " [9.99998041e-01 1.95936046e-06]\n",
      " [9.99998041e-01 1.95936046e-06]\n",
      " [9.99998041e-01 1.95936046e-06]\n",
      " [9.99998041e-01 1.95936046e-06]\n",
      " [9.99998041e-01 1.95936046e-06]\n",
      " [9.99998041e-01 1.95936046e-06]\n",
      " [9.99998041e-01 1.95936046e-06]\n",
      " [9.99998041e-01 1.95936046e-06]\n",
      " [9.99998041e-01 1.95936046e-06]\n",
      " [9.99998041e-01 1.95936046e-06]\n",
      " [9.99998041e-01 1.95936046e-06]\n",
      " [5.00258718e-06 9.99994997e-01]\n",
      " [9.99998041e-01 1.95936046e-06]\n",
      " [9.99998041e-01 1.95936046e-06]\n",
      " [9.99998041e-01 1.95936046e-06]\n",
      " [9.99998041e-01 1.95936046e-06]\n",
      " [5.00258718e-06 9.99994997e-01]\n",
      " [9.99998041e-01 1.95936046e-06]\n",
      " [9.99998041e-01 1.95936046e-06]\n",
      " [9.99998041e-01 1.95936046e-06]\n",
      " [9.99998041e-01 1.95936046e-06]\n",
      " [9.99998041e-01 1.95936046e-06]\n",
      " [9.99998041e-01 1.95936046e-06]\n",
      " [9.99998041e-01 1.95936046e-06]\n",
      " [9.99998041e-01 1.95936046e-06]\n",
      " [9.99998041e-01 1.95936046e-06]\n",
      " [9.99998041e-01 1.95936046e-06]\n",
      " [9.99998041e-01 1.95936046e-06]\n",
      " [9.99998041e-01 1.95936046e-06]\n",
      " [9.99998041e-01 1.95936046e-06]\n",
      " [9.99998041e-01 1.95936046e-06]\n",
      " [9.99998041e-01 1.95936046e-06]\n",
      " [5.00258718e-06 9.99994997e-01]\n",
      " [9.99998041e-01 1.95936046e-06]\n",
      " [9.94496801e-01 5.50319851e-03]\n",
      " [9.99998041e-01 1.95936046e-06]\n",
      " [9.99998041e-01 1.95936046e-06]\n",
      " [9.99998041e-01 1.95936046e-06]\n",
      " [9.99998041e-01 1.95936046e-06]\n",
      " [5.00258718e-06 9.99994997e-01]\n",
      " [9.99998041e-01 1.95936046e-06]\n",
      " [9.99998041e-01 1.95936046e-06]\n",
      " [9.99998041e-01 1.95936046e-06]\n",
      " [9.99998041e-01 1.95936046e-06]\n",
      " [9.99998041e-01 1.95936046e-06]\n",
      " [9.99998041e-01 1.95936046e-06]\n",
      " [9.99998041e-01 1.95936046e-06]\n",
      " [9.99998041e-01 1.95936046e-06]\n",
      " [5.00258718e-06 9.99994997e-01]\n",
      " [9.99998041e-01 1.95936046e-06]\n",
      " [9.99998041e-01 1.95936046e-06]\n",
      " [9.99998041e-01 1.95936046e-06]\n",
      " [9.99998041e-01 1.95936046e-06]\n",
      " [9.99998041e-01 1.95936046e-06]\n",
      " [9.99998041e-01 1.95936046e-06]\n",
      " [9.99998041e-01 1.95936046e-06]\n",
      " [9.99998041e-01 1.95936046e-06]\n",
      " [5.00258718e-06 9.99994997e-01]\n",
      " [9.99998041e-01 1.95936046e-06]\n",
      " [9.99998041e-01 1.95936046e-06]\n",
      " [9.99998041e-01 1.95936046e-06]\n",
      " [5.00258718e-06 9.99994997e-01]\n",
      " [9.99998041e-01 1.95936046e-06]\n",
      " [9.99998041e-01 1.95936046e-06]\n",
      " [9.99998041e-01 1.95936046e-06]\n",
      " [9.99998041e-01 1.95936046e-06]\n",
      " [9.99998041e-01 1.95936046e-06]\n",
      " [9.99998041e-01 1.95936046e-06]\n",
      " [9.99998041e-01 1.95936046e-06]\n",
      " [9.99998041e-01 1.95936046e-06]\n",
      " [9.99998041e-01 1.95936046e-06]\n",
      " [9.99998041e-01 1.95936046e-06]\n",
      " [9.99998041e-01 1.95936046e-06]\n",
      " [9.99998041e-01 1.95936046e-06]\n",
      " [9.99998041e-01 1.95936046e-06]\n",
      " [9.99998041e-01 1.95936046e-06]\n",
      " [9.99998041e-01 1.95936046e-06]\n",
      " [9.99998041e-01 1.95936046e-06]\n",
      " [9.99998041e-01 1.95936046e-06]\n",
      " [9.99998041e-01 1.95936046e-06]\n",
      " [9.99998041e-01 1.95936046e-06]]\n"
     ]
    }
   ],
   "source": [
    "posterior2 = model2.infer_labels(anno.annotations)\n",
    "print(posterior2)"
   ]
  },
  {
   "cell_type": "code",
   "execution_count": 11,
   "metadata": {},
   "outputs": [],
   "source": [
    "votes = []\n",
    "for r in anno.annotations:\n",
    "    v = [0] * len(anno.labels)\n",
    "    votes.append(v)\n",
    "    for a in r:\n",
    "        if a > -1:\n",
    "            v[a] += 1\n",
    "votes_array = np.array(votes)"
   ]
  },
  {
   "cell_type": "code",
   "execution_count": 12,
   "metadata": {},
   "outputs": [
    {
     "data": {
      "image/png": "[encoded data removed]",
      "text/plain": [
       "<Figure size 2160x3600 with 4 Axes>"
      ]
     },
     "metadata": {
      "needs_background": "light"
     },
     "output_type": "display_data"
    }
   ],
   "source": [
    "fig, (ax1, ax2) = plt.subplots(ncols=2, figsize = (30, 50), sharey=True)\n",
    "num_questions = f_sample_df.shape[0]\n",
    "\n",
    "sns.heatmap(votes_array[:num_questions], annot = True, ax=ax2)\n",
    "sns.heatmap(posterior2[:num_questions], annot=True, ax =ax1)\n",
    "ax1.set_title(\"Model B with theta\")\n",
    "ax2.set_title(\"Votes\")\n",
    "plt.savefig('./graphics/modelbtheta.png', dpi=300)\n",
    "plt.show()"
   ]
  },
  {
   "cell_type": "code",
   "execution_count": 14,
   "metadata": {},
   "outputs": [
    {
     "data": {
      "text/plain": [
       "array([[5.00258718e-06, 9.99994997e-01],\n",
       "       [5.00258718e-06, 9.99994997e-01],\n",
       "       [5.00258718e-06, 9.99994997e-01],\n",
       "       [5.00258718e-06, 9.99994997e-01],\n",
       "       [5.00258718e-06, 9.99994997e-01],\n",
       "       [5.00258718e-06, 9.99994997e-01],\n",
       "       [5.00258718e-06, 9.99994997e-01],\n",
       "       [5.00258718e-06, 9.99994997e-01],\n",
       "       [5.00258718e-06, 9.99994997e-01],\n",
       "       [5.00258718e-06, 9.99994997e-01],\n",
       "       [5.00258718e-06, 9.99994997e-01],\n",
       "       [9.91671009e-01, 8.32899066e-03],\n",
       "       [5.00258718e-06, 9.99994997e-01],\n",
       "       [1.39315836e-02, 9.86068416e-01],\n",
       "       [1.39315836e-02, 9.86068416e-01],\n",
       "       [9.91671009e-01, 8.32899066e-03],\n",
       "       [5.00258718e-06, 9.99994997e-01],\n",
       "       [5.00258718e-06, 9.99994997e-01],\n",
       "       [5.00258718e-06, 9.99994997e-01],\n",
       "       [5.00258718e-06, 9.99994997e-01],\n",
       "       [5.00258718e-06, 9.99994997e-01],\n",
       "       [5.00258718e-06, 9.99994997e-01],\n",
       "       [9.91671009e-01, 8.32899066e-03],\n",
       "       [5.00258718e-06, 9.99994997e-01],\n",
       "       [5.00258718e-06, 9.99994997e-01],\n",
       "       [5.00258718e-06, 9.99994997e-01],\n",
       "       [5.00258718e-06, 9.99994997e-01],\n",
       "       [5.00258718e-06, 9.99994997e-01],\n",
       "       [5.00258718e-06, 9.99994997e-01],\n",
       "       [5.00258718e-06, 9.99994997e-01],\n",
       "       [9.91671009e-01, 8.32899066e-03],\n",
       "       [5.00258718e-06, 9.99994997e-01],\n",
       "       [4.04524782e-02, 9.59547522e-01],\n",
       "       [5.00258718e-06, 9.99994997e-01],\n",
       "       [5.00258718e-06, 9.99994997e-01],\n",
       "       [4.04524782e-02, 9.59547522e-01],\n",
       "       [5.00258718e-06, 9.99994997e-01],\n",
       "       [5.00258718e-06, 9.99994997e-01],\n",
       "       [5.00258718e-06, 9.99994997e-01],\n",
       "       [5.00258718e-06, 9.99994997e-01],\n",
       "       [5.00258718e-06, 9.99994997e-01],\n",
       "       [5.00258718e-06, 9.99994997e-01],\n",
       "       [5.00258718e-06, 9.99994997e-01],\n",
       "       [5.00258718e-06, 9.99994997e-01],\n",
       "       [5.00258718e-06, 9.99994997e-01],\n",
       "       [5.00258718e-06, 9.99994997e-01],\n",
       "       [5.00258718e-06, 9.99994997e-01],\n",
       "       [5.00258718e-06, 9.99994997e-01],\n",
       "       [5.00258718e-06, 9.99994997e-01],\n",
       "       [5.00258718e-06, 9.99994997e-01],\n",
       "       [5.00258718e-06, 9.99994997e-01],\n",
       "       [5.00258718e-06, 9.99994997e-01],\n",
       "       [5.00258718e-06, 9.99994997e-01],\n",
       "       [5.00258718e-06, 9.99994997e-01],\n",
       "       [5.00258718e-06, 9.99994997e-01],\n",
       "       [5.00258718e-06, 9.99994997e-01],\n",
       "       [5.00258718e-06, 9.99994997e-01],\n",
       "       [5.00258718e-06, 9.99994997e-01],\n",
       "       [5.00258718e-06, 9.99994997e-01],\n",
       "       [5.00258718e-06, 9.99994997e-01],\n",
       "       [1.39315836e-02, 9.86068416e-01],\n",
       "       [5.00258718e-06, 9.99994997e-01],\n",
       "       [5.00258718e-06, 9.99994997e-01],\n",
       "       [5.00258718e-06, 9.99994997e-01],\n",
       "       [5.00258718e-06, 9.99994997e-01],\n",
       "       [9.99998041e-01, 1.95936046e-06],\n",
       "       [5.00258718e-06, 9.99994997e-01],\n",
       "       [5.00258718e-06, 9.99994997e-01],\n",
       "       [5.00258718e-06, 9.99994997e-01],\n",
       "       [5.00258718e-06, 9.99994997e-01],\n",
       "       [5.00258718e-06, 9.99994997e-01],\n",
       "       [5.00258718e-06, 9.99994997e-01],\n",
       "       [5.00258718e-06, 9.99994997e-01],\n",
       "       [5.00258718e-06, 9.99994997e-01],\n",
       "       [5.00258718e-06, 9.99994997e-01],\n",
       "       [5.00258718e-06, 9.99994997e-01],\n",
       "       [5.00258718e-06, 9.99994997e-01],\n",
       "       [5.00258718e-06, 9.99994997e-01],\n",
       "       [5.00258718e-06, 9.99994997e-01],\n",
       "       [4.04524782e-02, 9.59547522e-01],\n",
       "       [5.00258718e-06, 9.99994997e-01],\n",
       "       [5.00258718e-06, 9.99994997e-01],\n",
       "       [5.00258718e-06, 9.99994997e-01],\n",
       "       [5.00258718e-06, 9.99994997e-01],\n",
       "       [5.00258718e-06, 9.99994997e-01],\n",
       "       [5.00258718e-06, 9.99994997e-01],\n",
       "       [5.00258718e-06, 9.99994997e-01],\n",
       "       [5.00258718e-06, 9.99994997e-01],\n",
       "       [5.00258718e-06, 9.99994997e-01],\n",
       "       [5.00258718e-06, 9.99994997e-01],\n",
       "       [5.00258718e-06, 9.99994997e-01],\n",
       "       [5.00258718e-06, 9.99994997e-01],\n",
       "       [5.00258718e-06, 9.99994997e-01],\n",
       "       [1.39315836e-02, 9.86068416e-01],\n",
       "       [5.00258718e-06, 9.99994997e-01],\n",
       "       [5.00258718e-06, 9.99994997e-01],\n",
       "       [5.00258718e-06, 9.99994997e-01],\n",
       "       [5.00258718e-06, 9.99994997e-01],\n",
       "       [5.00258718e-06, 9.99994997e-01],\n",
       "       [9.99998041e-01, 1.95936046e-06],\n",
       "       [9.99998041e-01, 1.95936046e-06],\n",
       "       [9.99998041e-01, 1.95936046e-06],\n",
       "       [9.99998041e-01, 1.95936046e-06],\n",
       "       [9.99998041e-01, 1.95936046e-06],\n",
       "       [9.99998041e-01, 1.95936046e-06],\n",
       "       [9.99998041e-01, 1.95936046e-06],\n",
       "       [9.99998041e-01, 1.95936046e-06],\n",
       "       [9.99998041e-01, 1.95936046e-06],\n",
       "       [9.99998041e-01, 1.95936046e-06],\n",
       "       [9.99998041e-01, 1.95936046e-06],\n",
       "       [9.99998041e-01, 1.95936046e-06],\n",
       "       [9.99998041e-01, 1.95936046e-06],\n",
       "       [9.99998041e-01, 1.95936046e-06],\n",
       "       [9.99998041e-01, 1.95936046e-06],\n",
       "       [9.99998041e-01, 1.95936046e-06],\n",
       "       [9.99998041e-01, 1.95936046e-06],\n",
       "       [9.99998041e-01, 1.95936046e-06],\n",
       "       [9.99998041e-01, 1.95936046e-06],\n",
       "       [9.99998041e-01, 1.95936046e-06],\n",
       "       [9.99998041e-01, 1.95936046e-06],\n",
       "       [9.99998041e-01, 1.95936046e-06],\n",
       "       [9.99998041e-01, 1.95936046e-06],\n",
       "       [5.00258718e-06, 9.99994997e-01],\n",
       "       [5.00258718e-06, 9.99994997e-01],\n",
       "       [9.99998041e-01, 1.95936046e-06],\n",
       "       [9.99998041e-01, 1.95936046e-06],\n",
       "       [9.99998041e-01, 1.95936046e-06],\n",
       "       [9.99998041e-01, 1.95936046e-06],\n",
       "       [9.99998041e-01, 1.95936046e-06],\n",
       "       [9.99998041e-01, 1.95936046e-06],\n",
       "       [9.99998041e-01, 1.95936046e-06],\n",
       "       [9.99998041e-01, 1.95936046e-06],\n",
       "       [9.99998041e-01, 1.95936046e-06],\n",
       "       [9.99998041e-01, 1.95936046e-06],\n",
       "       [9.99998041e-01, 1.95936046e-06],\n",
       "       [9.99998041e-01, 1.95936046e-06],\n",
       "       [9.99998041e-01, 1.95936046e-06],\n",
       "       [9.99998041e-01, 1.95936046e-06],\n",
       "       [9.99998041e-01, 1.95936046e-06],\n",
       "       [9.99998041e-01, 1.95936046e-06],\n",
       "       [9.99998041e-01, 1.95936046e-06],\n",
       "       [9.99998041e-01, 1.95936046e-06],\n",
       "       [9.99998041e-01, 1.95936046e-06],\n",
       "       [9.99998041e-01, 1.95936046e-06],\n",
       "       [9.99998041e-01, 1.95936046e-06],\n",
       "       [5.00258718e-06, 9.99994997e-01],\n",
       "       [9.99998041e-01, 1.95936046e-06],\n",
       "       [5.00258718e-06, 9.99994997e-01],\n",
       "       [9.99998041e-01, 1.95936046e-06],\n",
       "       [9.99998041e-01, 1.95936046e-06],\n",
       "       [9.99998041e-01, 1.95936046e-06],\n",
       "       [9.99998041e-01, 1.95936046e-06],\n",
       "       [9.99998041e-01, 1.95936046e-06],\n",
       "       [9.99998041e-01, 1.95936046e-06],\n",
       "       [9.99998041e-01, 1.95936046e-06],\n",
       "       [9.99998041e-01, 1.95936046e-06],\n",
       "       [9.99998041e-01, 1.95936046e-06],\n",
       "       [9.99998041e-01, 1.95936046e-06],\n",
       "       [9.99998041e-01, 1.95936046e-06],\n",
       "       [9.99998041e-01, 1.95936046e-06],\n",
       "       [9.99998041e-01, 1.95936046e-06],\n",
       "       [9.99998041e-01, 1.95936046e-06],\n",
       "       [9.99998041e-01, 1.95936046e-06],\n",
       "       [9.99998041e-01, 1.95936046e-06],\n",
       "       [9.99998041e-01, 1.95936046e-06],\n",
       "       [9.99998041e-01, 1.95936046e-06],\n",
       "       [9.99998041e-01, 1.95936046e-06],\n",
       "       [5.00258718e-06, 9.99994997e-01],\n",
       "       [9.99998041e-01, 1.95936046e-06],\n",
       "       [9.99998041e-01, 1.95936046e-06],\n",
       "       [9.99998041e-01, 1.95936046e-06],\n",
       "       [9.99998041e-01, 1.95936046e-06],\n",
       "       [9.99998041e-01, 1.95936046e-06],\n",
       "       [9.99998041e-01, 1.95936046e-06],\n",
       "       [9.99998041e-01, 1.95936046e-06],\n",
       "       [9.99998041e-01, 1.95936046e-06],\n",
       "       [9.99998041e-01, 1.95936046e-06],\n",
       "       [9.99998041e-01, 1.95936046e-06],\n",
       "       [9.99998041e-01, 1.95936046e-06],\n",
       "       [9.99998041e-01, 1.95936046e-06],\n",
       "       [9.99998041e-01, 1.95936046e-06],\n",
       "       [9.99998041e-01, 1.95936046e-06],\n",
       "       [9.99998041e-01, 1.95936046e-06],\n",
       "       [9.99998041e-01, 1.95936046e-06],\n",
       "       [9.99998041e-01, 1.95936046e-06],\n",
       "       [9.99998041e-01, 1.95936046e-06],\n",
       "       [9.99998041e-01, 1.95936046e-06],\n",
       "       [9.99998041e-01, 1.95936046e-06],\n",
       "       [9.99998041e-01, 1.95936046e-06],\n",
       "       [9.99998041e-01, 1.95936046e-06],\n",
       "       [9.99998041e-01, 1.95936046e-06],\n",
       "       [9.99998041e-01, 1.95936046e-06],\n",
       "       [9.99998041e-01, 1.95936046e-06],\n",
       "       [9.99998041e-01, 1.95936046e-06],\n",
       "       [9.99998041e-01, 1.95936046e-06],\n",
       "       [9.99998041e-01, 1.95936046e-06],\n",
       "       [9.99998041e-01, 1.95936046e-06],\n",
       "       [9.99998041e-01, 1.95936046e-06],\n",
       "       [9.99998041e-01, 1.95936046e-06],\n",
       "       [9.99998041e-01, 1.95936046e-06],\n",
       "       [9.99998041e-01, 1.95936046e-06],\n",
       "       [9.99998041e-01, 1.95936046e-06],\n",
       "       [9.99998041e-01, 1.95936046e-06],\n",
       "       [9.99998041e-01, 1.95936046e-06],\n",
       "       [9.99998041e-01, 1.95936046e-06],\n",
       "       [5.00258718e-06, 9.99994997e-01],\n",
       "       [9.99998041e-01, 1.95936046e-06],\n",
       "       [9.99998041e-01, 1.95936046e-06],\n",
       "       [9.99998041e-01, 1.95936046e-06],\n",
       "       [9.99998041e-01, 1.95936046e-06],\n",
       "       [5.00258718e-06, 9.99994997e-01],\n",
       "       [9.99998041e-01, 1.95936046e-06],\n",
       "       [9.99998041e-01, 1.95936046e-06],\n",
       "       [9.99998041e-01, 1.95936046e-06],\n",
       "       [9.99998041e-01, 1.95936046e-06],\n",
       "       [9.99998041e-01, 1.95936046e-06],\n",
       "       [9.99998041e-01, 1.95936046e-06],\n",
       "       [9.99998041e-01, 1.95936046e-06],\n",
       "       [9.99998041e-01, 1.95936046e-06],\n",
       "       [9.99998041e-01, 1.95936046e-06],\n",
       "       [9.99998041e-01, 1.95936046e-06],\n",
       "       [9.99998041e-01, 1.95936046e-06],\n",
       "       [9.99998041e-01, 1.95936046e-06],\n",
       "       [9.99998041e-01, 1.95936046e-06],\n",
       "       [9.99998041e-01, 1.95936046e-06],\n",
       "       [9.99998041e-01, 1.95936046e-06],\n",
       "       [5.00258718e-06, 9.99994997e-01],\n",
       "       [9.99998041e-01, 1.95936046e-06],\n",
       "       [9.94496801e-01, 5.50319851e-03],\n",
       "       [9.99998041e-01, 1.95936046e-06],\n",
       "       [9.99998041e-01, 1.95936046e-06],\n",
       "       [9.99998041e-01, 1.95936046e-06],\n",
       "       [9.99998041e-01, 1.95936046e-06],\n",
       "       [5.00258718e-06, 9.99994997e-01],\n",
       "       [9.99998041e-01, 1.95936046e-06],\n",
       "       [9.99998041e-01, 1.95936046e-06],\n",
       "       [9.99998041e-01, 1.95936046e-06],\n",
       "       [9.99998041e-01, 1.95936046e-06],\n",
       "       [9.99998041e-01, 1.95936046e-06],\n",
       "       [9.99998041e-01, 1.95936046e-06],\n",
       "       [9.99998041e-01, 1.95936046e-06],\n",
       "       [9.99998041e-01, 1.95936046e-06],\n",
       "       [5.00258718e-06, 9.99994997e-01],\n",
       "       [9.99998041e-01, 1.95936046e-06],\n",
       "       [9.99998041e-01, 1.95936046e-06],\n",
       "       [9.99998041e-01, 1.95936046e-06],\n",
       "       [9.99998041e-01, 1.95936046e-06],\n",
       "       [9.99998041e-01, 1.95936046e-06],\n",
       "       [9.99998041e-01, 1.95936046e-06],\n",
       "       [9.99998041e-01, 1.95936046e-06],\n",
       "       [9.99998041e-01, 1.95936046e-06],\n",
       "       [5.00258718e-06, 9.99994997e-01],\n",
       "       [9.99998041e-01, 1.95936046e-06],\n",
       "       [9.99998041e-01, 1.95936046e-06],\n",
       "       [9.99998041e-01, 1.95936046e-06],\n",
       "       [5.00258718e-06, 9.99994997e-01],\n",
       "       [9.99998041e-01, 1.95936046e-06],\n",
       "       [9.99998041e-01, 1.95936046e-06],\n",
       "       [9.99998041e-01, 1.95936046e-06],\n",
       "       [9.99998041e-01, 1.95936046e-06],\n",
       "       [9.99998041e-01, 1.95936046e-06],\n",
       "       [9.99998041e-01, 1.95936046e-06],\n",
       "       [9.99998041e-01, 1.95936046e-06],\n",
       "       [9.99998041e-01, 1.95936046e-06],\n",
       "       [9.99998041e-01, 1.95936046e-06],\n",
       "       [9.99998041e-01, 1.95936046e-06],\n",
       "       [9.99998041e-01, 1.95936046e-06],\n",
       "       [9.99998041e-01, 1.95936046e-06],\n",
       "       [9.99998041e-01, 1.95936046e-06],\n",
       "       [9.99998041e-01, 1.95936046e-06],\n",
       "       [9.99998041e-01, 1.95936046e-06],\n",
       "       [9.99998041e-01, 1.95936046e-06],\n",
       "       [9.99998041e-01, 1.95936046e-06],\n",
       "       [9.99998041e-01, 1.95936046e-06],\n",
       "       [9.99998041e-01, 1.95936046e-06]])"
      ]
     },
     "execution_count": 14,
     "metadata": {},
     "output_type": "execute_result"
    }
   ],
   "source": [
    "posterior2"
   ]
  },
  {
   "cell_type": "code",
   "execution_count": 29,
   "metadata": {},
   "outputs": [],
   "source": [
    "label = []\n",
    "for row in range(len(posterior2)):\n",
    "    if posterior2[row, 0] < posterior2[row, 1]:\n",
    "        label.append(1)\n",
    "    else:\n",
    "        label.append(0)"
   ]
  },
  {
   "cell_type": "code",
   "execution_count": 30,
   "metadata": {},
   "outputs": [
    {
     "data": {
      "text/plain": [
       "275"
      ]
     },
     "execution_count": 30,
     "metadata": {},
     "output_type": "execute_result"
    }
   ],
   "source": [
    "len(label)"
   ]
  },
  {
   "cell_type": "code",
   "execution_count": 32,
   "metadata": {},
   "outputs": [],
   "source": [
    "f_sample_df['is_IO'] = pd.Series(label).values"
   ]
  },
  {
   "cell_type": "code",
   "execution_count": 33,
   "metadata": {},
   "outputs": [
    {
     "data": {
      "text/html": [
       "<div>\n",
       "<style scoped>\n",
       "    .dataframe tbody tr th:only-of-type {\n",
       "        vertical-align: middle;\n",
       "    }\n",
       "\n",
       "    .dataframe tbody tr th {\n",
       "        vertical-align: top;\n",
       "    }\n",
       "\n",
       "    .dataframe thead th {\n",
       "        text-align: right;\n",
       "    }\n",
       "</style>\n",
       "<table border=\"1\" class=\"dataframe\">\n",
       "  <thead>\n",
       "    <tr style=\"text-align: right;\">\n",
       "      <th></th>\n",
       "      <th>coder1</th>\n",
       "      <th>coder2</th>\n",
       "      <th>coder3</th>\n",
       "      <th>screen_name_tweets</th>\n",
       "      <th>fullname</th>\n",
       "      <th>text</th>\n",
       "      <th>timestamp</th>\n",
       "      <th>following</th>\n",
       "      <th>followers</th>\n",
       "      <th>num_tweets</th>\n",
       "      <th>location</th>\n",
       "      <th>num_likes</th>\n",
       "      <th>id</th>\n",
       "      <th>date_joined</th>\n",
       "      <th>num_days_joined</th>\n",
       "      <th>days_on_twitter</th>\n",
       "      <th>is_IO</th>\n",
       "    </tr>\n",
       "  </thead>\n",
       "  <tbody>\n",
       "    <tr>\n",
       "      <th>0</th>\n",
       "      <td>1</td>\n",
       "      <td>1</td>\n",
       "      <td>1</td>\n",
       "      <td>trueman98587845</td>\n",
       "      <td>trueman</td>\n",
       "      <td>สู้ๆ นะครับ เป็นกำลังใจให้ เจ้าหน้าที่ทุกคน มั...</td>\n",
       "      <td>2020-01-28 13:27:29</td>\n",
       "      <td>30</td>\n",
       "      <td>4</td>\n",
       "      <td>1032</td>\n",
       "      <td>NaN</td>\n",
       "      <td>502</td>\n",
       "      <td>1220152441666039808</td>\n",
       "      <td>2020-01-22 17:13:00</td>\n",
       "      <td>35 days 06:47:00.000000000</td>\n",
       "      <td>35</td>\n",
       "      <td>1</td>\n",
       "    </tr>\n",
       "    <tr>\n",
       "      <th>1</th>\n",
       "      <td>1</td>\n",
       "      <td>1</td>\n",
       "      <td>1</td>\n",
       "      <td>KI36bsxg8ozf6bg</td>\n",
       "      <td>ชัย สุขกายสบายใจ</td>\n",
       "      <td>เพื่อรักษา และ ระวังป้องกัน เจ้าหน้าที่รัฐ ผมด...</td>\n",
       "      <td>2020-02-03 15:58:04</td>\n",
       "      <td>36</td>\n",
       "      <td>22</td>\n",
       "      <td>2673</td>\n",
       "      <td>NaN</td>\n",
       "      <td>770</td>\n",
       "      <td>1201755584225107968</td>\n",
       "      <td>2019-12-02 22:50:00</td>\n",
       "      <td>86 days 01:10:00.000000000</td>\n",
       "      <td>86</td>\n",
       "      <td>1</td>\n",
       "    </tr>\n",
       "    <tr>\n",
       "      <th>2</th>\n",
       "      <td>1</td>\n",
       "      <td>1</td>\n",
       "      <td>1</td>\n",
       "      <td>daengbile436</td>\n",
       "      <td>แดง ไบเล่</td>\n",
       "      <td>ข่าวปลอม  ไม่จริง ไม่ควรแชร์ต่อ\\n#ไวรัสโคโรนา\\...</td>\n",
       "      <td>2020-01-29 3:46:25</td>\n",
       "      <td>38</td>\n",
       "      <td>5</td>\n",
       "      <td>1234</td>\n",
       "      <td>NaN</td>\n",
       "      <td>21</td>\n",
       "      <td>1219487869049307136</td>\n",
       "      <td>2020-01-20 21:12:00</td>\n",
       "      <td>37 days 02:48:00.000000000</td>\n",
       "      <td>37</td>\n",
       "      <td>1</td>\n",
       "    </tr>\n",
       "    <tr>\n",
       "      <th>3</th>\n",
       "      <td>1</td>\n",
       "      <td>1</td>\n",
       "      <td>1</td>\n",
       "      <td>trueman98587845</td>\n",
       "      <td>trueman</td>\n",
       "      <td>กระผมหนึ่งในพลเมืองคนไทย ขอเป็นกำลังใจให้คุณหม...</td>\n",
       "      <td>2020-01-31 3:22:40</td>\n",
       "      <td>30</td>\n",
       "      <td>4</td>\n",
       "      <td>1032</td>\n",
       "      <td>NaN</td>\n",
       "      <td>502</td>\n",
       "      <td>1220152441666039808</td>\n",
       "      <td>2020-01-22 17:13:00</td>\n",
       "      <td>35 days 06:47:00.000000000</td>\n",
       "      <td>35</td>\n",
       "      <td>1</td>\n",
       "    </tr>\n",
       "    <tr>\n",
       "      <th>4</th>\n",
       "      <td>1</td>\n",
       "      <td>1</td>\n",
       "      <td>1</td>\n",
       "      <td>thaiprong</td>\n",
       "      <td>รวมใจไทยปรองดอง</td>\n",
       "      <td>ขอร้องทุกคนช่วยเสพสื่ออย่างมีสติ อย่าแชร์ข่าวป...</td>\n",
       "      <td>2020-01-28 8:28:56</td>\n",
       "      <td>304</td>\n",
       "      <td>99</td>\n",
       "      <td>78</td>\n",
       "      <td>NaN</td>\n",
       "      <td>395</td>\n",
       "      <td>1209024400651014144</td>\n",
       "      <td>2019-12-23 00:14:00</td>\n",
       "      <td>65 days 23:46:00.000000000</td>\n",
       "      <td>65</td>\n",
       "      <td>1</td>\n",
       "    </tr>\n",
       "    <tr>\n",
       "      <th>...</th>\n",
       "      <td>...</td>\n",
       "      <td>...</td>\n",
       "      <td>...</td>\n",
       "      <td>...</td>\n",
       "      <td>...</td>\n",
       "      <td>...</td>\n",
       "      <td>...</td>\n",
       "      <td>...</td>\n",
       "      <td>...</td>\n",
       "      <td>...</td>\n",
       "      <td>...</td>\n",
       "      <td>...</td>\n",
       "      <td>...</td>\n",
       "      <td>...</td>\n",
       "      <td>...</td>\n",
       "      <td>...</td>\n",
       "      <td>...</td>\n",
       "    </tr>\n",
       "    <tr>\n",
       "      <th>270</th>\n",
       "      <td>0</td>\n",
       "      <td>0</td>\n",
       "      <td>0</td>\n",
       "      <td>OlesRay124</td>\n",
       "      <td>OlesQG</td>\n",
       "      <td>ถ้ายังมั่นใจว่าประเทศไทยคือระบอบประชาธิปไตย คว...</td>\n",
       "      <td>2020-02-14 2:41:59</td>\n",
       "      <td>15</td>\n",
       "      <td>9</td>\n",
       "      <td>178</td>\n",
       "      <td>อ.สามพราน, จ.นครปฐม</td>\n",
       "      <td>164</td>\n",
       "      <td>977822121308053504</td>\n",
       "      <td>2018-03-25 01:18:00</td>\n",
       "      <td>703 days 22:42:00.000000000</td>\n",
       "      <td>703</td>\n",
       "      <td>0</td>\n",
       "    </tr>\n",
       "    <tr>\n",
       "      <th>271</th>\n",
       "      <td>0</td>\n",
       "      <td>0</td>\n",
       "      <td>0</td>\n",
       "      <td>k0b_k0b</td>\n",
       "      <td>║ ⊙︿⊙™║</td>\n",
       "      <td>ทหารใกล้เกษียณ ถ้าอยากอยู่บ้านหลวงฟรีหลังเกษีย...</td>\n",
       "      <td>2020-02-14 5:48:45</td>\n",
       "      <td>1671</td>\n",
       "      <td>7025</td>\n",
       "      <td>109114</td>\n",
       "      <td>NaN</td>\n",
       "      <td>2093</td>\n",
       "      <td>60541604</td>\n",
       "      <td>2009-07-27 01:59:00</td>\n",
       "      <td>3866 days 22:01:00.000000000</td>\n",
       "      <td>3866</td>\n",
       "      <td>0</td>\n",
       "    </tr>\n",
       "    <tr>\n",
       "      <th>272</th>\n",
       "      <td>0</td>\n",
       "      <td>0</td>\n",
       "      <td>0</td>\n",
       "      <td>autto002</td>\n",
       "      <td>Love Beach</td>\n",
       "      <td>เมื่อไหร่ เราจะมีระบบแจ้งเตือน ประมานว่าตอนนี้...</td>\n",
       "      <td>2020-02-14 3:08:43</td>\n",
       "      <td>212</td>\n",
       "      <td>164</td>\n",
       "      <td>93469</td>\n",
       "      <td>Thailand</td>\n",
       "      <td>2046</td>\n",
       "      <td>69548600</td>\n",
       "      <td>2009-08-28 02:31:00</td>\n",
       "      <td>3834 days 21:29:00.000000000</td>\n",
       "      <td>3834</td>\n",
       "      <td>0</td>\n",
       "    </tr>\n",
       "    <tr>\n",
       "      <th>273</th>\n",
       "      <td>0</td>\n",
       "      <td>0</td>\n",
       "      <td>0</td>\n",
       "      <td>GrahAnimation</td>\n",
       "      <td>Kritsana Assadong</td>\n",
       "      <td>ติดเทรนด์แถบข้างแล้ว \\nเชี่ย ไอโอ ดูไว้ อันนี้...</td>\n",
       "      <td>2020-02-13 18:06:49</td>\n",
       "      <td>1888</td>\n",
       "      <td>145</td>\n",
       "      <td>2920</td>\n",
       "      <td>Thailand</td>\n",
       "      <td>10527</td>\n",
       "      <td>1029660114158989312</td>\n",
       "      <td>2018-08-15 02:24:00</td>\n",
       "      <td>560 days 21:36:00.000000000</td>\n",
       "      <td>560</td>\n",
       "      <td>0</td>\n",
       "    </tr>\n",
       "    <tr>\n",
       "      <th>274</th>\n",
       "      <td>0</td>\n",
       "      <td>0</td>\n",
       "      <td>0</td>\n",
       "      <td>eibbbb</td>\n",
       "      <td>เอิ่บ</td>\n",
       "      <td>แล้วก็จะมีสื่อโง่ๆแคปไปลง ปชชแห่ให้กำลังใจรัฐบ...</td>\n",
       "      <td>2020-02-13 18:34:06</td>\n",
       "      <td>542</td>\n",
       "      <td>116</td>\n",
       "      <td>92484</td>\n",
       "      <td>NaN</td>\n",
       "      <td>133900</td>\n",
       "      <td>1107665196254781440</td>\n",
       "      <td>2019-03-18 08:28:00</td>\n",
       "      <td>345 days 15:32:00.000000000</td>\n",
       "      <td>345</td>\n",
       "      <td>0</td>\n",
       "    </tr>\n",
       "  </tbody>\n",
       "</table>\n",
       "<p>275 rows × 17 columns</p>\n",
       "</div>"
      ],
      "text/plain": [
       "     coder1  coder2  coder3 screen_name_tweets           fullname  \\\n",
       "0         1       1       1    trueman98587845            trueman   \n",
       "1         1       1       1    KI36bsxg8ozf6bg   ชัย สุขกายสบายใจ   \n",
       "2         1       1       1       daengbile436          แดง ไบเล่   \n",
       "3         1       1       1    trueman98587845            trueman   \n",
       "4         1       1       1          thaiprong    รวมใจไทยปรองดอง   \n",
       "..      ...     ...     ...                ...                ...   \n",
       "270       0       0       0         OlesRay124             OlesQG   \n",
       "271       0       0       0            k0b_k0b            ║ ⊙︿⊙™║   \n",
       "272       0       0       0           autto002         Love Beach   \n",
       "273       0       0       0      GrahAnimation  Kritsana Assadong   \n",
       "274       0       0       0             eibbbb              เอิ่บ   \n",
       "\n",
       "                                                  text            timestamp  \\\n",
       "0    สู้ๆ นะครับ เป็นกำลังใจให้ เจ้าหน้าที่ทุกคน มั...  2020-01-28 13:27:29   \n",
       "1    เพื่อรักษา และ ระวังป้องกัน เจ้าหน้าที่รัฐ ผมด...  2020-02-03 15:58:04   \n",
       "2    ข่าวปลอม  ไม่จริง ไม่ควรแชร์ต่อ\\n#ไวรัสโคโรนา\\...   2020-01-29 3:46:25   \n",
       "3    กระผมหนึ่งในพลเมืองคนไทย ขอเป็นกำลังใจให้คุณหม...   2020-01-31 3:22:40   \n",
       "4    ขอร้องทุกคนช่วยเสพสื่ออย่างมีสติ อย่าแชร์ข่าวป...   2020-01-28 8:28:56   \n",
       "..                                                 ...                  ...   \n",
       "270  ถ้ายังมั่นใจว่าประเทศไทยคือระบอบประชาธิปไตย คว...   2020-02-14 2:41:59   \n",
       "271  ทหารใกล้เกษียณ ถ้าอยากอยู่บ้านหลวงฟรีหลังเกษีย...   2020-02-14 5:48:45   \n",
       "272  เมื่อไหร่ เราจะมีระบบแจ้งเตือน ประมานว่าตอนนี้...   2020-02-14 3:08:43   \n",
       "273  ติดเทรนด์แถบข้างแล้ว \\nเชี่ย ไอโอ ดูไว้ อันนี้...  2020-02-13 18:06:49   \n",
       "274  แล้วก็จะมีสื่อโง่ๆแคปไปลง ปชชแห่ให้กำลังใจรัฐบ...  2020-02-13 18:34:06   \n",
       "\n",
       "     following  followers  num_tweets             location  num_likes  \\\n",
       "0           30          4        1032                  NaN        502   \n",
       "1           36         22        2673                  NaN        770   \n",
       "2           38          5        1234                  NaN         21   \n",
       "3           30          4        1032                  NaN        502   \n",
       "4          304         99          78                  NaN        395   \n",
       "..         ...        ...         ...                  ...        ...   \n",
       "270         15          9         178  อ.สามพราน, จ.นครปฐม        164   \n",
       "271       1671       7025      109114                  NaN       2093   \n",
       "272        212        164       93469             Thailand       2046   \n",
       "273       1888        145        2920             Thailand      10527   \n",
       "274        542        116       92484                  NaN     133900   \n",
       "\n",
       "                      id          date_joined               num_days_joined  \\\n",
       "0    1220152441666039808  2020-01-22 17:13:00    35 days 06:47:00.000000000   \n",
       "1    1201755584225107968  2019-12-02 22:50:00    86 days 01:10:00.000000000   \n",
       "2    1219487869049307136  2020-01-20 21:12:00    37 days 02:48:00.000000000   \n",
       "3    1220152441666039808  2020-01-22 17:13:00    35 days 06:47:00.000000000   \n",
       "4    1209024400651014144  2019-12-23 00:14:00    65 days 23:46:00.000000000   \n",
       "..                   ...                  ...                           ...   \n",
       "270   977822121308053504  2018-03-25 01:18:00   703 days 22:42:00.000000000   \n",
       "271             60541604  2009-07-27 01:59:00  3866 days 22:01:00.000000000   \n",
       "272             69548600  2009-08-28 02:31:00  3834 days 21:29:00.000000000   \n",
       "273  1029660114158989312  2018-08-15 02:24:00   560 days 21:36:00.000000000   \n",
       "274  1107665196254781440  2019-03-18 08:28:00   345 days 15:32:00.000000000   \n",
       "\n",
       "     days_on_twitter  is_IO  \n",
       "0                 35      1  \n",
       "1                 86      1  \n",
       "2                 37      1  \n",
       "3                 35      1  \n",
       "4                 65      1  \n",
       "..               ...    ...  \n",
       "270              703      0  \n",
       "271             3866      0  \n",
       "272             3834      0  \n",
       "273              560      0  \n",
       "274              345      0  \n",
       "\n",
       "[275 rows x 17 columns]"
      ]
     },
     "execution_count": 33,
     "metadata": {},
     "output_type": "execute_result"
    }
   ],
   "source": [
    "f_sample_df"
   ]
  },
  {
   "cell_type": "code",
   "execution_count": null,
   "metadata": {},
   "outputs": [],
   "source": [
    "# make a training and test set"
   ]
  },
  {
   "cell_type": "code",
   "execution_count": 34,
   "metadata": {},
   "outputs": [
    {
     "data": {
      "text/html": [
       "<div>\n",
       "<style scoped>\n",
       "    .dataframe tbody tr th:only-of-type {\n",
       "        vertical-align: middle;\n",
       "    }\n",
       "\n",
       "    .dataframe tbody tr th {\n",
       "        vertical-align: top;\n",
       "    }\n",
       "\n",
       "    .dataframe thead tr th {\n",
       "        text-align: left;\n",
       "    }\n",
       "\n",
       "    .dataframe thead tr:last-of-type th {\n",
       "        text-align: right;\n",
       "    }\n",
       "</style>\n",
       "<table border=\"1\" class=\"dataframe\">\n",
       "  <thead>\n",
       "    <tr>\n",
       "      <th></th>\n",
       "      <th colspan=\"8\" halign=\"left\">coder1</th>\n",
       "      <th colspan=\"2\" halign=\"left\">coder2</th>\n",
       "      <th>...</th>\n",
       "      <th colspan=\"2\" halign=\"left\">id</th>\n",
       "      <th colspan=\"8\" halign=\"left\">days_on_twitter</th>\n",
       "    </tr>\n",
       "    <tr>\n",
       "      <th></th>\n",
       "      <th>count</th>\n",
       "      <th>mean</th>\n",
       "      <th>std</th>\n",
       "      <th>min</th>\n",
       "      <th>25%</th>\n",
       "      <th>50%</th>\n",
       "      <th>75%</th>\n",
       "      <th>max</th>\n",
       "      <th>count</th>\n",
       "      <th>mean</th>\n",
       "      <th>...</th>\n",
       "      <th>75%</th>\n",
       "      <th>max</th>\n",
       "      <th>count</th>\n",
       "      <th>mean</th>\n",
       "      <th>std</th>\n",
       "      <th>min</th>\n",
       "      <th>25%</th>\n",
       "      <th>50%</th>\n",
       "      <th>75%</th>\n",
       "      <th>max</th>\n",
       "    </tr>\n",
       "    <tr>\n",
       "      <th>is_IO</th>\n",
       "      <th></th>\n",
       "      <th></th>\n",
       "      <th></th>\n",
       "      <th></th>\n",
       "      <th></th>\n",
       "      <th></th>\n",
       "      <th></th>\n",
       "      <th></th>\n",
       "      <th></th>\n",
       "      <th></th>\n",
       "      <th></th>\n",
       "      <th></th>\n",
       "      <th></th>\n",
       "      <th></th>\n",
       "      <th></th>\n",
       "      <th></th>\n",
       "      <th></th>\n",
       "      <th></th>\n",
       "      <th></th>\n",
       "      <th></th>\n",
       "      <th></th>\n",
       "    </tr>\n",
       "  </thead>\n",
       "  <tbody>\n",
       "    <tr>\n",
       "      <th>0</th>\n",
       "      <td>169.0</td>\n",
       "      <td>0.005917</td>\n",
       "      <td>0.076923</td>\n",
       "      <td>0.0</td>\n",
       "      <td>0.0</td>\n",
       "      <td>0.0</td>\n",
       "      <td>0.0</td>\n",
       "      <td>1.0</td>\n",
       "      <td>169.0</td>\n",
       "      <td>0.000000</td>\n",
       "      <td>...</td>\n",
       "      <td>1.109310e+18</td>\n",
       "      <td>1.227990e+18</td>\n",
       "      <td>169.0</td>\n",
       "      <td>1348.822485</td>\n",
       "      <td>1245.525813</td>\n",
       "      <td>13.0</td>\n",
       "      <td>341.0</td>\n",
       "      <td>932.0</td>\n",
       "      <td>2180.0</td>\n",
       "      <td>3974.0</td>\n",
       "    </tr>\n",
       "    <tr>\n",
       "      <th>1</th>\n",
       "      <td>106.0</td>\n",
       "      <td>0.962264</td>\n",
       "      <td>0.191462</td>\n",
       "      <td>0.0</td>\n",
       "      <td>1.0</td>\n",
       "      <td>1.0</td>\n",
       "      <td>1.0</td>\n",
       "      <td>1.0</td>\n",
       "      <td>106.0</td>\n",
       "      <td>0.971698</td>\n",
       "      <td>...</td>\n",
       "      <td>1.220152e+18</td>\n",
       "      <td>1.227765e+18</td>\n",
       "      <td>106.0</td>\n",
       "      <td>72.320755</td>\n",
       "      <td>162.320292</td>\n",
       "      <td>14.0</td>\n",
       "      <td>35.0</td>\n",
       "      <td>35.0</td>\n",
       "      <td>65.0</td>\n",
       "      <td>1009.0</td>\n",
       "    </tr>\n",
       "  </tbody>\n",
       "</table>\n",
       "<p>2 rows × 72 columns</p>\n",
       "</div>"
      ],
      "text/plain": [
       "      coder1                                              coder2            \\\n",
       "       count      mean       std  min  25%  50%  75%  max  count      mean   \n",
       "is_IO                                                                        \n",
       "0      169.0  0.005917  0.076923  0.0  0.0  0.0  0.0  1.0  169.0  0.000000   \n",
       "1      106.0  0.962264  0.191462  0.0  1.0  1.0  1.0  1.0  106.0  0.971698   \n",
       "\n",
       "       ...            id               days_on_twitter               \\\n",
       "       ...           75%           max           count         mean   \n",
       "is_IO  ...                                                            \n",
       "0      ...  1.109310e+18  1.227990e+18           169.0  1348.822485   \n",
       "1      ...  1.220152e+18  1.227765e+18           106.0    72.320755   \n",
       "\n",
       "                                                        \n",
       "               std   min    25%    50%     75%     max  \n",
       "is_IO                                                   \n",
       "0      1245.525813  13.0  341.0  932.0  2180.0  3974.0  \n",
       "1       162.320292  14.0   35.0   35.0    65.0  1009.0  \n",
       "\n",
       "[2 rows x 72 columns]"
      ]
     },
     "execution_count": 34,
     "metadata": {},
     "output_type": "execute_result"
    }
   ],
   "source": [
    "f_sample_df.groupby('is_IO').describe()"
   ]
  },
  {
   "cell_type": "code",
   "execution_count": 39,
   "metadata": {},
   "outputs": [],
   "source": [
    "test_set = f_sample_df.sample(frac=0.3, replace=False, random_state=27)"
   ]
  },
  {
   "cell_type": "code",
   "execution_count": 41,
   "metadata": {},
   "outputs": [
    {
     "data": {
      "text/html": [
       "<div>\n",
       "<style scoped>\n",
       "    .dataframe tbody tr th:only-of-type {\n",
       "        vertical-align: middle;\n",
       "    }\n",
       "\n",
       "    .dataframe tbody tr th {\n",
       "        vertical-align: top;\n",
       "    }\n",
       "\n",
       "    .dataframe thead tr th {\n",
       "        text-align: left;\n",
       "    }\n",
       "\n",
       "    .dataframe thead tr:last-of-type th {\n",
       "        text-align: right;\n",
       "    }\n",
       "</style>\n",
       "<table border=\"1\" class=\"dataframe\">\n",
       "  <thead>\n",
       "    <tr>\n",
       "      <th></th>\n",
       "      <th colspan=\"8\" halign=\"left\">coder1</th>\n",
       "      <th colspan=\"2\" halign=\"left\">coder2</th>\n",
       "      <th>...</th>\n",
       "      <th colspan=\"2\" halign=\"left\">id</th>\n",
       "      <th colspan=\"8\" halign=\"left\">days_on_twitter</th>\n",
       "    </tr>\n",
       "    <tr>\n",
       "      <th></th>\n",
       "      <th>count</th>\n",
       "      <th>mean</th>\n",
       "      <th>std</th>\n",
       "      <th>min</th>\n",
       "      <th>25%</th>\n",
       "      <th>50%</th>\n",
       "      <th>75%</th>\n",
       "      <th>max</th>\n",
       "      <th>count</th>\n",
       "      <th>mean</th>\n",
       "      <th>...</th>\n",
       "      <th>75%</th>\n",
       "      <th>max</th>\n",
       "      <th>count</th>\n",
       "      <th>mean</th>\n",
       "      <th>std</th>\n",
       "      <th>min</th>\n",
       "      <th>25%</th>\n",
       "      <th>50%</th>\n",
       "      <th>75%</th>\n",
       "      <th>max</th>\n",
       "    </tr>\n",
       "    <tr>\n",
       "      <th>is_IO</th>\n",
       "      <th></th>\n",
       "      <th></th>\n",
       "      <th></th>\n",
       "      <th></th>\n",
       "      <th></th>\n",
       "      <th></th>\n",
       "      <th></th>\n",
       "      <th></th>\n",
       "      <th></th>\n",
       "      <th></th>\n",
       "      <th></th>\n",
       "      <th></th>\n",
       "      <th></th>\n",
       "      <th></th>\n",
       "      <th></th>\n",
       "      <th></th>\n",
       "      <th></th>\n",
       "      <th></th>\n",
       "      <th></th>\n",
       "      <th></th>\n",
       "      <th></th>\n",
       "    </tr>\n",
       "  </thead>\n",
       "  <tbody>\n",
       "    <tr>\n",
       "      <th>0</th>\n",
       "      <td>51.0</td>\n",
       "      <td>0.0</td>\n",
       "      <td>0.0</td>\n",
       "      <td>0.0</td>\n",
       "      <td>0.0</td>\n",
       "      <td>0.0</td>\n",
       "      <td>0.0</td>\n",
       "      <td>0.0</td>\n",
       "      <td>51.0</td>\n",
       "      <td>0.0</td>\n",
       "      <td>...</td>\n",
       "      <td>1.100507e+18</td>\n",
       "      <td>1.221056e+18</td>\n",
       "      <td>51.0</td>\n",
       "      <td>1434.705882</td>\n",
       "      <td>1182.030969</td>\n",
       "      <td>32.0</td>\n",
       "      <td>365.0</td>\n",
       "      <td>1221.0</td>\n",
       "      <td>2024.0</td>\n",
       "      <td>3898.0</td>\n",
       "    </tr>\n",
       "    <tr>\n",
       "      <th>1</th>\n",
       "      <td>31.0</td>\n",
       "      <td>1.0</td>\n",
       "      <td>0.0</td>\n",
       "      <td>1.0</td>\n",
       "      <td>1.0</td>\n",
       "      <td>1.0</td>\n",
       "      <td>1.0</td>\n",
       "      <td>1.0</td>\n",
       "      <td>31.0</td>\n",
       "      <td>1.0</td>\n",
       "      <td>...</td>\n",
       "      <td>1.225975e+18</td>\n",
       "      <td>1.227765e+18</td>\n",
       "      <td>31.0</td>\n",
       "      <td>69.032258</td>\n",
       "      <td>176.046676</td>\n",
       "      <td>14.0</td>\n",
       "      <td>19.0</td>\n",
       "      <td>35.0</td>\n",
       "      <td>53.0</td>\n",
       "      <td>1009.0</td>\n",
       "    </tr>\n",
       "  </tbody>\n",
       "</table>\n",
       "<p>2 rows × 72 columns</p>\n",
       "</div>"
      ],
      "text/plain": [
       "      coder1                                    coder2       ...  \\\n",
       "       count mean  std  min  25%  50%  75%  max  count mean  ...   \n",
       "is_IO                                                        ...   \n",
       "0       51.0  0.0  0.0  0.0  0.0  0.0  0.0  0.0   51.0  0.0  ...   \n",
       "1       31.0  1.0  0.0  1.0  1.0  1.0  1.0  1.0   31.0  1.0  ...   \n",
       "\n",
       "                 id               days_on_twitter                            \\\n",
       "                75%           max           count         mean          std   \n",
       "is_IO                                                                         \n",
       "0      1.100507e+18  1.221056e+18            51.0  1434.705882  1182.030969   \n",
       "1      1.225975e+18  1.227765e+18            31.0    69.032258   176.046676   \n",
       "\n",
       "                                            \n",
       "        min    25%     50%     75%     max  \n",
       "is_IO                                       \n",
       "0      32.0  365.0  1221.0  2024.0  3898.0  \n",
       "1      14.0   19.0    35.0    53.0  1009.0  \n",
       "\n",
       "[2 rows x 72 columns]"
      ]
     },
     "execution_count": 41,
     "metadata": {},
     "output_type": "execute_result"
    }
   ],
   "source": [
    "test_set.groupby('is_IO').describe()"
   ]
  },
  {
   "cell_type": "code",
   "execution_count": 42,
   "metadata": {},
   "outputs": [],
   "source": [
    "test_set.to_csv('./data/sample_test_set.csv', index=False, encoding='utf-8')"
   ]
  },
  {
   "cell_type": "code",
   "execution_count": 49,
   "metadata": {},
   "outputs": [
    {
     "name": "stdout",
     "output_type": "stream",
     "text": [
      "[125, 216, 140, 245, 183, 205, 48, 223, 212, 59, 242, 63, 5, 101, 139, 227, 115, 168, 237, 211, 180, 119, 148, 116, 171, 54, 236, 10, 70, 147, 193, 8, 120, 129, 65, 175, 137, 58, 123, 49, 233, 74, 69, 232, 202, 88, 38, 143, 186, 229, 37, 190, 156, 188, 110, 164, 21, 246, 61, 243, 9, 134, 145, 172, 27, 261, 12, 109, 18, 169, 165, 217, 208, 121, 210, 219, 122, 214, 161, 40, 78, 235]\n"
     ]
    }
   ],
   "source": [
    "rows_to_drop = list(test_set.index)\n",
    "print(rows_to_drop)\n",
    "train_set = f_sample_df.drop(rows_to_drop, axis='index')"
   ]
  },
  {
   "cell_type": "code",
   "execution_count": 55,
   "metadata": {},
   "outputs": [],
   "source": [
    "train_set.reset_index(drop=True, inplace=True)"
   ]
  },
  {
   "cell_type": "code",
   "execution_count": 56,
   "metadata": {},
   "outputs": [],
   "source": [
    "train_set.to_csv('./data/sample_train_set.csv', index=False, encoding='utf-8')"
   ]
  },
  {
   "cell_type": "code",
   "execution_count": 57,
   "metadata": {},
   "outputs": [
    {
     "data": {
      "text/html": [
       "<div>\n",
       "<style scoped>\n",
       "    .dataframe tbody tr th:only-of-type {\n",
       "        vertical-align: middle;\n",
       "    }\n",
       "\n",
       "    .dataframe tbody tr th {\n",
       "        vertical-align: top;\n",
       "    }\n",
       "\n",
       "    .dataframe thead tr th {\n",
       "        text-align: left;\n",
       "    }\n",
       "\n",
       "    .dataframe thead tr:last-of-type th {\n",
       "        text-align: right;\n",
       "    }\n",
       "</style>\n",
       "<table border=\"1\" class=\"dataframe\">\n",
       "  <thead>\n",
       "    <tr>\n",
       "      <th></th>\n",
       "      <th colspan=\"8\" halign=\"left\">coder1</th>\n",
       "      <th colspan=\"2\" halign=\"left\">coder2</th>\n",
       "      <th>...</th>\n",
       "      <th colspan=\"2\" halign=\"left\">id</th>\n",
       "      <th colspan=\"8\" halign=\"left\">days_on_twitter</th>\n",
       "    </tr>\n",
       "    <tr>\n",
       "      <th></th>\n",
       "      <th>count</th>\n",
       "      <th>mean</th>\n",
       "      <th>std</th>\n",
       "      <th>min</th>\n",
       "      <th>25%</th>\n",
       "      <th>50%</th>\n",
       "      <th>75%</th>\n",
       "      <th>max</th>\n",
       "      <th>count</th>\n",
       "      <th>mean</th>\n",
       "      <th>...</th>\n",
       "      <th>75%</th>\n",
       "      <th>max</th>\n",
       "      <th>count</th>\n",
       "      <th>mean</th>\n",
       "      <th>std</th>\n",
       "      <th>min</th>\n",
       "      <th>25%</th>\n",
       "      <th>50%</th>\n",
       "      <th>75%</th>\n",
       "      <th>max</th>\n",
       "    </tr>\n",
       "    <tr>\n",
       "      <th>is_IO</th>\n",
       "      <th></th>\n",
       "      <th></th>\n",
       "      <th></th>\n",
       "      <th></th>\n",
       "      <th></th>\n",
       "      <th></th>\n",
       "      <th></th>\n",
       "      <th></th>\n",
       "      <th></th>\n",
       "      <th></th>\n",
       "      <th></th>\n",
       "      <th></th>\n",
       "      <th></th>\n",
       "      <th></th>\n",
       "      <th></th>\n",
       "      <th></th>\n",
       "      <th></th>\n",
       "      <th></th>\n",
       "      <th></th>\n",
       "      <th></th>\n",
       "      <th></th>\n",
       "    </tr>\n",
       "  </thead>\n",
       "  <tbody>\n",
       "    <tr>\n",
       "      <th>0</th>\n",
       "      <td>118.0</td>\n",
       "      <td>0.008475</td>\n",
       "      <td>0.092057</td>\n",
       "      <td>0.0</td>\n",
       "      <td>0.0</td>\n",
       "      <td>0.0</td>\n",
       "      <td>0.0</td>\n",
       "      <td>1.0</td>\n",
       "      <td>118.0</td>\n",
       "      <td>0.00</td>\n",
       "      <td>...</td>\n",
       "      <td>1.110201e+18</td>\n",
       "      <td>1.227990e+18</td>\n",
       "      <td>118.0</td>\n",
       "      <td>1311.70339</td>\n",
       "      <td>1275.092042</td>\n",
       "      <td>13.0</td>\n",
       "      <td>338.5</td>\n",
       "      <td>762.0</td>\n",
       "      <td>2382.75</td>\n",
       "      <td>3974.0</td>\n",
       "    </tr>\n",
       "    <tr>\n",
       "      <th>1</th>\n",
       "      <td>75.0</td>\n",
       "      <td>0.946667</td>\n",
       "      <td>0.226210</td>\n",
       "      <td>0.0</td>\n",
       "      <td>1.0</td>\n",
       "      <td>1.0</td>\n",
       "      <td>1.0</td>\n",
       "      <td>1.0</td>\n",
       "      <td>75.0</td>\n",
       "      <td>0.96</td>\n",
       "      <td>...</td>\n",
       "      <td>1.220152e+18</td>\n",
       "      <td>1.227765e+18</td>\n",
       "      <td>75.0</td>\n",
       "      <td>73.68000</td>\n",
       "      <td>157.526502</td>\n",
       "      <td>14.0</td>\n",
       "      <td>35.0</td>\n",
       "      <td>37.0</td>\n",
       "      <td>65.00</td>\n",
       "      <td>1009.0</td>\n",
       "    </tr>\n",
       "  </tbody>\n",
       "</table>\n",
       "<p>2 rows × 72 columns</p>\n",
       "</div>"
      ],
      "text/plain": [
       "      coder1                                              coder2        ...  \\\n",
       "       count      mean       std  min  25%  50%  75%  max  count  mean  ...   \n",
       "is_IO                                                                   ...   \n",
       "0      118.0  0.008475  0.092057  0.0  0.0  0.0  0.0  1.0  118.0  0.00  ...   \n",
       "1       75.0  0.946667  0.226210  0.0  1.0  1.0  1.0  1.0   75.0  0.96  ...   \n",
       "\n",
       "                 id               days_on_twitter                           \\\n",
       "                75%           max           count        mean          std   \n",
       "is_IO                                                                        \n",
       "0      1.110201e+18  1.227990e+18           118.0  1311.70339  1275.092042   \n",
       "1      1.220152e+18  1.227765e+18            75.0    73.68000   157.526502   \n",
       "\n",
       "                                            \n",
       "        min    25%    50%      75%     max  \n",
       "is_IO                                       \n",
       "0      13.0  338.5  762.0  2382.75  3974.0  \n",
       "1      14.0   35.0   37.0    65.00  1009.0  \n",
       "\n",
       "[2 rows x 72 columns]"
      ]
     },
     "execution_count": 57,
     "metadata": {},
     "output_type": "execute_result"
    }
   ],
   "source": [
    "train_set.groupby('is_IO').describe()"
   ]
  },
  {
   "cell_type": "code",
   "execution_count": 60,
   "metadata": {},
   "outputs": [
    {
     "name": "stdout",
     "output_type": "stream",
     "text": [
      "0.6113989637305699\n",
      "0.38860103626943004\n"
     ]
    }
   ],
   "source": [
    "print(118/193)\n",
    "print(75/193)"
   ]
  },
  {
   "cell_type": "markdown",
   "metadata": {},
   "source": [
    "## Training a classifier"
   ]
  },
  {
   "cell_type": "code",
   "execution_count": 2,
   "metadata": {},
   "outputs": [],
   "source": [
    "from sklearn import metrics\n",
    "from sklearn.linear_model import LogisticRegression as Logit\n",
    "from sklearn.neighbors import KNeighborsClassifier as KNN\n",
    "from sklearn.naive_bayes import GaussianNB as GNB\n",
    "from sklearn.linear_model import RidgeClassifier\n",
    "\n",
    "from sklearn.tree import DecisionTreeClassifier\n",
    "from sklearn.ensemble import BaggingClassifier\n",
    "from sklearn.ensemble import RandomForestClassifier\n",
    "from sklearn.model_selection import KFold\n",
    "from sklearn.model_selection import cross_val_score\n",
    "from sklearn.metrics import mean_squared_error\n",
    "\n",
    "from sklearn.model_selection import GridSearchCV\n",
    "from sklearn.model_selection import RandomizedSearchCV\n",
    "\n",
    "import time"
   ]
  },
  {
   "cell_type": "code",
   "execution_count": 28,
   "metadata": {},
   "outputs": [
    {
     "name": "stdout",
     "output_type": "stream",
     "text": [
      "(193, 17)\n"
     ]
    }
   ],
   "source": [
    "f_sample_df = pd.read_csv('./data/sample_train_set.csv', encoding='utf-8')\n",
    "print(f_sample_df.shape)"
   ]
  },
  {
   "cell_type": "code",
   "execution_count": 29,
   "metadata": {},
   "outputs": [
    {
     "name": "stdout",
     "output_type": "stream",
     "text": [
      "(82, 17)\n"
     ]
    }
   ],
   "source": [
    "test_df = pd.read_csv('./data/sample_test_set.csv', encoding='utf-8')\n",
    "print(test_df.shape)"
   ]
  },
  {
   "cell_type": "code",
   "execution_count": 30,
   "metadata": {},
   "outputs": [
    {
     "data": {
      "text/plain": [
       "Index(['coder1', 'coder2', 'coder3', 'screen_name_tweets', 'fullname', 'text',\n",
       "       'timestamp', 'following', 'followers', 'num_tweets', 'location',\n",
       "       'num_likes', 'id', 'date_joined', 'num_days_joined', 'days_on_twitter',\n",
       "       'is_IO'],\n",
       "      dtype='object')"
      ]
     },
     "execution_count": 30,
     "metadata": {},
     "output_type": "execute_result"
    }
   ],
   "source": [
    "f_sample_df.columns"
   ]
  },
  {
   "cell_type": "code",
   "execution_count": 31,
   "metadata": {},
   "outputs": [],
   "source": [
    "features = ['following', 'followers', 'num_tweets', 'num_likes', 'days_on_twitter']\n",
    "target = 'is_IO'"
   ]
  },
  {
   "cell_type": "code",
   "execution_count": 32,
   "metadata": {},
   "outputs": [],
   "source": [
    "X = f_sample_df[features]\n",
    "y = f_sample_df[target]"
   ]
  },
  {
   "cell_type": "code",
   "execution_count": 33,
   "metadata": {},
   "outputs": [],
   "source": [
    "def calc_accu_score(model, X_train_df, y_train_df):\n",
    "    score = (np.mean(cross_val_score(model, X_train_df, y_train_df,\n",
    "                                                scoring='accuracy', cv=5)))\n",
    "    print(\"The 5-fold CV accuracy score of the model is {:.3f}\".format(score))\n",
    "    return score"
   ]
  },
  {
   "cell_type": "markdown",
   "metadata": {},
   "source": [
    "### Logistic Regression as a base line"
   ]
  },
  {
   "cell_type": "code",
   "execution_count": 34,
   "metadata": {},
   "outputs": [
    {
     "name": "stdout",
     "output_type": "stream",
     "text": [
      "The 5-fold CV accuracy score of the model is 0.699\n"
     ]
    }
   ],
   "source": [
    "lgt = Logit(solver='liblinear')\n",
    "lgt_model = lgt.fit(X, y)\n",
    "lgt_accu_score = calc_accu_score(lgt_model, X, y)"
   ]
  },
  {
   "cell_type": "code",
   "execution_count": 10,
   "metadata": {},
   "outputs": [
    {
     "name": "stdout",
     "output_type": "stream",
     "text": [
      "Optimization terminated successfully.\n",
      "         Current function value: 0.288973\n",
      "         Iterations 13\n",
      "                           Logit Regression Results                           \n",
      "==============================================================================\n",
      "Dep. Variable:                  is_IO   No. Observations:                  193\n",
      "Model:                          Logit   Df Residuals:                      187\n",
      "Method:                           MLE   Df Model:                            5\n",
      "Date:                Thu, 12 Mar 2020   Pseudo R-squ.:                  0.5675\n",
      "Time:                        13:44:28   Log-Likelihood:                -55.772\n",
      "converged:                       True   LL-Null:                       -128.95\n",
      "Covariance Type:            nonrobust   LLR p-value:                 7.985e-30\n",
      "===================================================================================\n",
      "                      coef    std err          z      P>|z|      [0.025      0.975]\n",
      "-----------------------------------------------------------------------------------\n",
      "const               2.0152      0.414      4.867      0.000       1.204       2.827\n",
      "following          -0.0018      0.003     -0.690      0.490      -0.007       0.003\n",
      "followers          -0.0005      0.002     -0.194      0.846      -0.005       0.004\n",
      "num_tweets      -2.758e-05      0.000     -0.177      0.860      -0.000       0.000\n",
      "num_likes          -0.0005      0.000     -1.454      0.146      -0.001       0.000\n",
      "days_on_twitter    -0.0063      0.002     -3.660      0.000      -0.010      -0.003\n",
      "===================================================================================\n",
      "\n",
      "Possibly complete quasi-separation: A fraction 0.30 of observations can be\n",
      "perfectly predicted. This might indicate that there is complete\n",
      "quasi-separation. In this case some parameters will not be identified.\n"
     ]
    }
   ],
   "source": [
    "import statsmodels.api as sm\n",
    "import statsmodels.formula.api as smf\n",
    "from statsmodels.stats.outliers_influence import summary_table\n",
    "\n",
    "# actually get the logistic result to look at the variables\n",
    "X = sm.add_constant(X)\n",
    "logit_model = sm.Logit(y, X)\n",
    "logit_model_result = logit_model.fit()\n",
    "print(logit_model_result.summary())"
   ]
  },
  {
   "cell_type": "code",
   "execution_count": 89,
   "metadata": {},
   "outputs": [
    {
     "name": "stdout",
     "output_type": "stream",
     "text": [
      "\\begin{center}\n",
      "\\begin{tabular}{lclc}\n",
      "\\toprule\n",
      "\\textbf{Dep. Variable:}    &      is\\_IO      & \\textbf{  No. Observations:  } &      275    \\\\\n",
      "\\textbf{Model:}            &      Logit       & \\textbf{  Df Residuals:      } &      269    \\\\\n",
      "\\textbf{Method:}           &       MLE        & \\textbf{  Df Model:          } &        5    \\\\\n",
      "\\textbf{Date:}             & Thu, 27 Feb 2020 & \\textbf{  Pseudo R-squ.:     } &   0.5740    \\\\\n",
      "\\textbf{Time:}             &     22:18:11     & \\textbf{  Log-Likelihood:    } &   -78.092   \\\\\n",
      "\\textbf{converged:}        &       True       & \\textbf{  LL-Null:           } &   -183.33   \\\\\n",
      "\\bottomrule\n",
      "\\end{tabular}\n",
      "\\begin{tabular}{lcccccc}\n",
      "                           & \\textbf{coef} & \\textbf{std err} & \\textbf{z} & \\textbf{P$> |$z$|$} & \\textbf{[0.025} & \\textbf{0.975]}  \\\\\n",
      "\\midrule\n",
      "\\textbf{const}             &       2.1357  &        0.333     &     6.418  &         0.000        &        1.483    &        2.788     \\\\\n",
      "\\textbf{following}         &      -0.0021  &        0.002     &    -1.299  &         0.194        &       -0.005    &        0.001     \\\\\n",
      "\\textbf{followers}         &      -0.0005  &        0.002     &    -0.202  &         0.840        &       -0.005    &        0.004     \\\\\n",
      "\\textbf{num\\_tweets}       &      -0.0001  &        0.000     &    -0.969  &         0.332        &       -0.000    &        0.000     \\\\\n",
      "\\textbf{num\\_likes}        &      -0.0004  &        0.000     &    -1.518  &         0.129        &       -0.001    &        0.000     \\\\\n",
      "\\textbf{days\\_on\\_twitter} &      -0.0063  &        0.001     &    -4.535  &         0.000        &       -0.009    &       -0.004     \\\\\n",
      "\\bottomrule\n",
      "\\end{tabular}\n",
      "%\\caption{Logit Regression Results}\n",
      "\\end{center}\n",
      "\n",
      "Possibly complete quasi-separation: A fraction 0.31 of observations can be \\newline\n",
      " perfectly predicted. This might indicate that there is complete \\newline\n",
      " quasi-separation. In this case some parameters will not be identified.\n"
     ]
    }
   ],
   "source": [
    "print(logit_model_result.summary().as_latex())"
   ]
  },
  {
   "cell_type": "markdown",
   "metadata": {},
   "source": [
    "### Gaussian Naive Bayes"
   ]
  },
  {
   "cell_type": "code",
   "execution_count": 11,
   "metadata": {},
   "outputs": [
    {
     "name": "stdout",
     "output_type": "stream",
     "text": [
      "The 5-fold CV accuracy score of the model is 0.819\n"
     ]
    }
   ],
   "source": [
    "# assume that features follow normal distribution\n",
    "gnb = GNB()\n",
    "gnb_model = gnb.fit(X, y)\n",
    "gnb_accu_score = calc_accu_score(gnb_model, X, y)"
   ]
  },
  {
   "cell_type": "markdown",
   "metadata": {},
   "source": [
    "### k-Nearest Neighbor Classifier"
   ]
  },
  {
   "cell_type": "code",
   "execution_count": 12,
   "metadata": {},
   "outputs": [],
   "source": [
    "knn_param_grid = {'n_neighbors': [5, 10, 15, 20, 25],\n",
    "                  'weights': ['uniform', 'distance'],\n",
    "                  'p': [1, 2, 3, 4, 5]}\n",
    "# p = 1 = manhattan distance\n",
    "# p = 2 = Euclidean distance\n",
    "# p >= 3 = Minkowski"
   ]
  },
  {
   "cell_type": "code",
   "execution_count": 13,
   "metadata": {},
   "outputs": [
    {
     "name": "stdout",
     "output_type": "stream",
     "text": [
      "Time elapsed: 1.525 seconds\n"
     ]
    }
   ],
   "source": [
    "tic = time.time()\n",
    "knn = KNN()\n",
    "knn_gs = GridSearchCV(knn, knn_param_grid, cv=5,\n",
    "                             scoring='accuracy', n_jobs=-1,\n",
    "                             iid=False, return_train_score=True)\n",
    "knn_gs.fit(X, y)\n",
    "toc = time.time()\n",
    "print(\"Time elapsed: {:.3f} seconds\".format(toc - tic))"
   ]
  },
  {
   "cell_type": "code",
   "execution_count": 14,
   "metadata": {},
   "outputs": [
    {
     "name": "stdout",
     "output_type": "stream",
     "text": [
      "Best hyperparameter setting for KNN is {'n_neighbors': 5, 'p': 1, 'weights': 'distance'}\n",
      "5-fold accuracy score is 0.907\n"
     ]
    }
   ],
   "source": [
    "print('Best hyperparameter setting for KNN is {}'.format(knn_gs.best_params_))\n",
    "print('5-fold accuracy score is {:.3f}'.format(knn_gs.best_score_))"
   ]
  },
  {
   "cell_type": "markdown",
   "metadata": {},
   "source": [
    "### XGBoost"
   ]
  },
  {
   "cell_type": "code",
   "execution_count": 15,
   "metadata": {},
   "outputs": [],
   "source": [
    "import xgboost as xgb"
   ]
  },
  {
   "cell_type": "code",
   "execution_count": 35,
   "metadata": {},
   "outputs": [],
   "source": [
    "param_grid = {\n",
    "        'silent': [True],\n",
    "        'max_depth': [6, 10, 15, 20],\n",
    "        'learning_rate': [0.001, 0.01, 0.1, 0.2, 0,3],\n",
    "        'subsample': [0.5, 0.6, 0.7, 0.8, 0.9, 1.0],\n",
    "        'colsample_bytree': [0.4, 0.5, 0.6, 0.7, 0.8, 0.9, 1.0],\n",
    "        'colsample_bylevel': [0.4, 0.5, 0.6, 0.7, 0.8, 0.9, 1.0],\n",
    "        'min_child_weight': [0.5, 1.0, 3.0, 5.0, 7.0, 10.0],\n",
    "        'gamma': [0, 0.25, 0.5, 1.0],\n",
    "        'reg_lambda': [0.1, 1.0, 5.0, 10.0, 50.0, 100.0],\n",
    "        'n_estimators': [100, 500]}"
   ]
  },
  {
   "cell_type": "code",
   "execution_count": 36,
   "metadata": {},
   "outputs": [
    {
     "name": "stdout",
     "output_type": "stream",
     "text": [
      "Randomized search..\n",
      "Fitting 5 folds for each of 20 candidates, totalling 100 fits\n"
     ]
    },
    {
     "name": "stderr",
     "output_type": "stream",
     "text": [
      "[Parallel(n_jobs=1)]: Using backend SequentialBackend with 1 concurrent workers.\n"
     ]
    },
    {
     "name": "stdout",
     "output_type": "stream",
     "text": [
      "Randomized search time: 1.4886279106140137 seconds\n"
     ]
    },
    {
     "name": "stderr",
     "output_type": "stream",
     "text": [
      "[Parallel(n_jobs=1)]: Done 100 out of 100 | elapsed:    1.5s finished\n"
     ]
    }
   ],
   "source": [
    "clf = xgb.XGBClassifier()\n",
    "xgb_clf = RandomizedSearchCV(clf, param_grid, n_iter=20,\n",
    "                            n_jobs=1, verbose=1, cv=5,\n",
    "                            scoring='accuracy', refit=True, random_state=42)\n",
    "print(\"Randomized search..\")\n",
    "search_time_start = time.time()\n",
    "xgb_clf.fit(X, y)\n",
    "print(\"Randomized search time:\", time.time() - search_time_start, \"seconds\")"
   ]
  },
  {
   "cell_type": "code",
   "execution_count": 37,
   "metadata": {},
   "outputs": [
    {
     "name": "stdout",
     "output_type": "stream",
     "text": [
      "Best hyperparameter setting for Boosting is {'subsample': 0.9, 'silent': True, 'reg_lambda': 1.0, 'n_estimators': 500, 'min_child_weight': 0.5, 'max_depth': 15, 'learning_rate': 0.1, 'gamma': 0, 'colsample_bytree': 1.0, 'colsample_bylevel': 0.8}\n",
      "5-fold accuracy score is 0.969\n"
     ]
    }
   ],
   "source": [
    "print('Best hyperparameter setting for Boosting is {}'.format(xgb_clf.best_params_))\n",
    "print('5-fold accuracy score is {:.3f}'.format(xgb_clf.best_score_))"
   ]
  },
  {
   "cell_type": "markdown",
   "metadata": {},
   "source": [
    "## Test against test set"
   ]
  },
  {
   "cell_type": "code",
   "execution_count": 38,
   "metadata": {},
   "outputs": [],
   "source": [
    "X_test = test_df[features]\n",
    "y_test = test_df[target]"
   ]
  },
  {
   "cell_type": "code",
   "execution_count": 39,
   "metadata": {},
   "outputs": [],
   "source": [
    "# train\n",
    "final_model = xgb_clf.best_estimator_"
   ]
  },
  {
   "cell_type": "code",
   "execution_count": 40,
   "metadata": {},
   "outputs": [
    {
     "data": {
      "text/plain": [
       "XGBClassifier(base_score=0.5, booster='gbtree', colsample_bylevel=0.8,\n",
       "              colsample_bytree=1.0, gamma=0, learning_rate=0.1,\n",
       "              max_delta_step=0, max_depth=15, min_child_weight=0.5,\n",
       "              missing=None, n_estimators=500, n_jobs=1, nthread=None,\n",
       "              objective='binary:logistic', random_state=0, reg_alpha=0,\n",
       "              reg_lambda=1.0, scale_pos_weight=1, seed=None, silent=True,\n",
       "              subsample=0.9)"
      ]
     },
     "execution_count": 40,
     "metadata": {},
     "output_type": "execute_result"
    }
   ],
   "source": [
    "final_model.fit(X, y)"
   ]
  },
  {
   "cell_type": "code",
   "execution_count": 41,
   "metadata": {},
   "outputs": [],
   "source": [
    "y_pred = final_model.predict(X_test)"
   ]
  },
  {
   "cell_type": "code",
   "execution_count": 43,
   "metadata": {
    "scrolled": true
   },
   "outputs": [
    {
     "data": {
      "text/plain": [
       "array([[9.9943542e-01, 5.6456280e-04],\n",
       "       [9.9914807e-01, 8.5191295e-04],\n",
       "       [9.9951208e-01, 4.8791504e-04],\n",
       "       [9.9980336e-01, 1.9663604e-04],\n",
       "       [9.9943542e-01, 5.6456280e-04],\n",
       "       [4.8112869e-03, 9.9518871e-01],\n",
       "       [1.9226462e-01, 8.0773538e-01],\n",
       "       [9.9950850e-01, 4.9147726e-04],\n",
       "       [9.9943542e-01, 5.6456280e-04],\n",
       "       [2.0154715e-03, 9.9798453e-01],\n",
       "       [4.8112869e-03, 9.9518871e-01],\n",
       "       [5.5364418e-01, 4.4635582e-01],\n",
       "       [1.0293722e-03, 9.9897063e-01],\n",
       "       [9.9891311e-01, 1.0868821e-03],\n",
       "       [9.9943542e-01, 5.6456280e-04],\n",
       "       [9.9943542e-01, 5.6456280e-04],\n",
       "       [9.9943542e-01, 5.6456280e-04],\n",
       "       [2.4316251e-02, 9.7568375e-01],\n",
       "       [8.2650435e-01, 1.7349562e-01],\n",
       "       [9.9978846e-01, 2.1155005e-04],\n",
       "       [9.2720020e-01, 7.2799802e-02],\n",
       "       [9.9765515e-01, 2.3448239e-03],\n",
       "       [9.9923259e-01, 7.6741126e-04],\n",
       "       [9.9947435e-01, 5.2565226e-04],\n",
       "       [9.9978095e-01, 2.1902734e-04],\n",
       "       [6.8599343e-02, 9.3140066e-01],\n",
       "       [9.4992983e-01, 5.0070193e-02],\n",
       "       [8.7332129e-03, 9.9126679e-01],\n",
       "       [8.7332129e-03, 9.9126679e-01],\n",
       "       [4.8112869e-03, 9.9518871e-01],\n",
       "       [9.9946463e-01, 5.3534098e-04],\n",
       "       [5.9045553e-03, 9.9409544e-01],\n",
       "       [9.6254605e-01, 3.7453968e-02],\n",
       "       [9.6619540e-01, 3.3804603e-02],\n",
       "       [9.9943542e-01, 5.6456280e-04],\n",
       "       [9.9943542e-01, 5.6456280e-04],\n",
       "       [9.9421561e-01, 5.7843775e-03],\n",
       "       [1.0293722e-03, 9.9897063e-01],\n",
       "       [4.8112869e-03, 9.9518871e-01],\n",
       "       [1.9226462e-01, 8.0773538e-01],\n",
       "       [4.8112869e-03, 9.9518871e-01],\n",
       "       [8.7332129e-03, 9.9126679e-01],\n",
       "       [2.0154715e-03, 9.9798453e-01],\n",
       "       [9.9950850e-01, 4.9147726e-04],\n",
       "       [9.9941474e-01, 5.8528024e-04],\n",
       "       [1.9226462e-01, 8.0773538e-01],\n",
       "       [1.0293722e-03, 9.9897063e-01],\n",
       "       [9.9571151e-01, 4.2884685e-03],\n",
       "       [9.8340535e-01, 1.6594663e-02],\n",
       "       [9.9943542e-01, 5.6456280e-04],\n",
       "       [1.9226462e-01, 8.0773538e-01],\n",
       "       [9.9946463e-01, 5.3534098e-04],\n",
       "       [9.9948543e-01, 5.1454938e-04],\n",
       "       [9.9950999e-01, 4.9000653e-04],\n",
       "       [9.9979079e-01, 2.0920359e-04],\n",
       "       [9.9943542e-01, 5.6456280e-04],\n",
       "       [1.0293722e-03, 9.9897063e-01],\n",
       "       [8.4628999e-01, 1.5370998e-01],\n",
       "       [1.0293722e-03, 9.9897063e-01],\n",
       "       [9.9843800e-01, 1.5619806e-03],\n",
       "       [1.0293722e-03, 9.9897063e-01],\n",
       "       [9.9893504e-01, 1.0649338e-03],\n",
       "       [4.8112869e-03, 9.9518871e-01],\n",
       "       [9.9948341e-01, 5.1658362e-04],\n",
       "       [1.2971759e-02, 9.8702824e-01],\n",
       "       [9.9700201e-01, 2.9979653e-03],\n",
       "       [8.7332129e-03, 9.9126679e-01],\n",
       "       [9.1493732e-01, 8.5062668e-02],\n",
       "       [1.0293722e-03, 9.9897063e-01],\n",
       "       [9.9938786e-01, 6.1213644e-04],\n",
       "       [9.9949378e-01, 5.0624373e-04],\n",
       "       [9.9946463e-01, 5.3534098e-04],\n",
       "       [9.9943542e-01, 5.6456280e-04],\n",
       "       [9.9942344e-01, 5.7656231e-04],\n",
       "       [4.8112869e-03, 9.9518871e-01],\n",
       "       [9.9955732e-01, 4.4270456e-04],\n",
       "       [4.8112869e-03, 9.9518871e-01],\n",
       "       [9.9943542e-01, 5.6456280e-04],\n",
       "       [9.9943542e-01, 5.6456280e-04],\n",
       "       [1.2971759e-02, 9.8702824e-01],\n",
       "       [1.9226462e-01, 8.0773538e-01],\n",
       "       [9.9793792e-01, 2.0621016e-03]], dtype=float32)"
      ]
     },
     "execution_count": 43,
     "metadata": {},
     "output_type": "execute_result"
    }
   ],
   "source": [
    "y_prob = final_model.predict_proba(X_test)\n",
    "y_prob"
   ]
  },
  {
   "cell_type": "code",
   "execution_count": 44,
   "metadata": {},
   "outputs": [
    {
     "name": "stdout",
     "output_type": "stream",
     "text": [
      "0.975609756097561\n"
     ]
    }
   ],
   "source": [
    "from sklearn.metrics import accuracy_score\n",
    "accuracy = accuracy_score(y_test, y_pred)\n",
    "print(accuracy)"
   ]
  },
  {
   "cell_type": "markdown",
   "metadata": {},
   "source": [
    "We got really a good test set accuracy score of 98%. I will go with XGBoost as my metadata classifier. Next, generate predicted probabilities for the entire training set and will use that as a feature in a deep learning model."
   ]
  },
  {
   "cell_type": "code",
   "execution_count": 50,
   "metadata": {},
   "outputs": [],
   "source": [
    "full_train_set = pd.concat([f_sample_df, test_df])"
   ]
  },
  {
   "cell_type": "code",
   "execution_count": 51,
   "metadata": {},
   "outputs": [
    {
     "data": {
      "text/html": [
       "<div>\n",
       "<style scoped>\n",
       "    .dataframe tbody tr th:only-of-type {\n",
       "        vertical-align: middle;\n",
       "    }\n",
       "\n",
       "    .dataframe tbody tr th {\n",
       "        vertical-align: top;\n",
       "    }\n",
       "\n",
       "    .dataframe thead th {\n",
       "        text-align: right;\n",
       "    }\n",
       "</style>\n",
       "<table border=\"1\" class=\"dataframe\">\n",
       "  <thead>\n",
       "    <tr style=\"text-align: right;\">\n",
       "      <th></th>\n",
       "      <th>coder1</th>\n",
       "      <th>coder2</th>\n",
       "      <th>coder3</th>\n",
       "      <th>screen_name_tweets</th>\n",
       "      <th>fullname</th>\n",
       "      <th>text</th>\n",
       "      <th>timestamp</th>\n",
       "      <th>following</th>\n",
       "      <th>followers</th>\n",
       "      <th>num_tweets</th>\n",
       "      <th>location</th>\n",
       "      <th>num_likes</th>\n",
       "      <th>id</th>\n",
       "      <th>date_joined</th>\n",
       "      <th>num_days_joined</th>\n",
       "      <th>days_on_twitter</th>\n",
       "      <th>is_IO</th>\n",
       "    </tr>\n",
       "  </thead>\n",
       "  <tbody>\n",
       "    <tr>\n",
       "      <th>0</th>\n",
       "      <td>1</td>\n",
       "      <td>1</td>\n",
       "      <td>1</td>\n",
       "      <td>trueman98587845</td>\n",
       "      <td>trueman</td>\n",
       "      <td>สู้ๆ นะครับ เป็นกำลังใจให้ เจ้าหน้าที่ทุกคน มั...</td>\n",
       "      <td>2020-01-28 13:27:29</td>\n",
       "      <td>30</td>\n",
       "      <td>4</td>\n",
       "      <td>1032</td>\n",
       "      <td>NaN</td>\n",
       "      <td>502</td>\n",
       "      <td>1220152441666039808</td>\n",
       "      <td>2020-01-22 17:13:00</td>\n",
       "      <td>35 days 06:47:00.000000000</td>\n",
       "      <td>35</td>\n",
       "      <td>1</td>\n",
       "    </tr>\n",
       "    <tr>\n",
       "      <th>1</th>\n",
       "      <td>1</td>\n",
       "      <td>1</td>\n",
       "      <td>1</td>\n",
       "      <td>KI36bsxg8ozf6bg</td>\n",
       "      <td>ชัย สุขกายสบายใจ</td>\n",
       "      <td>เพื่อรักษา และ ระวังป้องกัน เจ้าหน้าที่รัฐ ผมด...</td>\n",
       "      <td>2020-02-03 15:58:04</td>\n",
       "      <td>36</td>\n",
       "      <td>22</td>\n",
       "      <td>2673</td>\n",
       "      <td>NaN</td>\n",
       "      <td>770</td>\n",
       "      <td>1201755584225107968</td>\n",
       "      <td>2019-12-02 22:50:00</td>\n",
       "      <td>86 days 01:10:00.000000000</td>\n",
       "      <td>86</td>\n",
       "      <td>1</td>\n",
       "    </tr>\n",
       "  </tbody>\n",
       "</table>\n",
       "</div>"
      ],
      "text/plain": [
       "   coder1  coder2  coder3 screen_name_tweets          fullname  \\\n",
       "0       1       1       1    trueman98587845           trueman   \n",
       "1       1       1       1    KI36bsxg8ozf6bg  ชัย สุขกายสบายใจ   \n",
       "\n",
       "                                                text            timestamp  \\\n",
       "0  สู้ๆ นะครับ เป็นกำลังใจให้ เจ้าหน้าที่ทุกคน มั...  2020-01-28 13:27:29   \n",
       "1  เพื่อรักษา และ ระวังป้องกัน เจ้าหน้าที่รัฐ ผมด...  2020-02-03 15:58:04   \n",
       "\n",
       "   following  followers  num_tweets location  num_likes                   id  \\\n",
       "0         30          4        1032      NaN        502  1220152441666039808   \n",
       "1         36         22        2673      NaN        770  1201755584225107968   \n",
       "\n",
       "           date_joined             num_days_joined  days_on_twitter  is_IO  \n",
       "0  2020-01-22 17:13:00  35 days 06:47:00.000000000               35      1  \n",
       "1  2019-12-02 22:50:00  86 days 01:10:00.000000000               86      1  "
      ]
     },
     "execution_count": 51,
     "metadata": {},
     "output_type": "execute_result"
    }
   ],
   "source": [
    "full_train_set.head(2)"
   ]
  },
  {
   "cell_type": "code",
   "execution_count": 52,
   "metadata": {},
   "outputs": [],
   "source": [
    "features = ['following', 'followers', 'num_tweets', 'num_likes', 'days_on_twitter']\n",
    "target = 'is_IO'"
   ]
  },
  {
   "cell_type": "code",
   "execution_count": 53,
   "metadata": {},
   "outputs": [],
   "source": [
    "X_full_train = full_train_set[features]\n",
    "y_full_train = full_train_set[target]"
   ]
  },
  {
   "cell_type": "code",
   "execution_count": 58,
   "metadata": {},
   "outputs": [
    {
     "data": {
      "text/plain": [
       "0     1\n",
       "1     1\n",
       "2     1\n",
       "3     1\n",
       "4     1\n",
       "     ..\n",
       "77    0\n",
       "78    0\n",
       "79    1\n",
       "80    1\n",
       "81    0\n",
       "Name: is_IO, Length: 275, dtype: int64"
      ]
     },
     "execution_count": 58,
     "metadata": {},
     "output_type": "execute_result"
    }
   ],
   "source": [
    "y_full_train"
   ]
  },
  {
   "cell_type": "code",
   "execution_count": 54,
   "metadata": {},
   "outputs": [
    {
     "data": {
      "text/plain": [
       "XGBClassifier(base_score=0.5, booster='gbtree', colsample_bylevel=0.8,\n",
       "              colsample_bytree=1.0, gamma=0, learning_rate=0.1,\n",
       "              max_delta_step=0, max_depth=15, min_child_weight=0.5,\n",
       "              missing=None, n_estimators=500, n_jobs=1, nthread=None,\n",
       "              objective='binary:logistic', random_state=0, reg_alpha=0,\n",
       "              reg_lambda=1.0, scale_pos_weight=1, seed=None, silent=True,\n",
       "              subsample=0.9)"
      ]
     },
     "execution_count": 54,
     "metadata": {},
     "output_type": "execute_result"
    }
   ],
   "source": [
    "final_model.fit(X_full_train, y_full_train)"
   ]
  },
  {
   "cell_type": "code",
   "execution_count": 59,
   "metadata": {},
   "outputs": [],
   "source": [
    "full_y_pred = final_model.predict(X_full_train)\n",
    "full_y_prob = final_model.predict_proba(X_full_train)"
   ]
  },
  {
   "cell_type": "code",
   "execution_count": 60,
   "metadata": {},
   "outputs": [],
   "source": [
    "full_accuracy = accuracy_score(y_full_train, full_y_pred)"
   ]
  },
  {
   "cell_type": "code",
   "execution_count": 61,
   "metadata": {},
   "outputs": [
    {
     "data": {
      "text/plain": [
       "0.9890909090909091"
      ]
     },
     "execution_count": 61,
     "metadata": {},
     "output_type": "execute_result"
    }
   ],
   "source": [
    "full_accuracy"
   ]
  },
  {
   "cell_type": "code",
   "execution_count": 127,
   "metadata": {},
   "outputs": [],
   "source": [
    "full_train_set['IO_meta_clf'] = full_y_pred"
   ]
  },
  {
   "cell_type": "code",
   "execution_count": 128,
   "metadata": {},
   "outputs": [],
   "source": [
    "full_train_set['isIO_meta_prob'] = full_y_prob[:,1]"
   ]
  },
  {
   "cell_type": "code",
   "execution_count": 131,
   "metadata": {},
   "outputs": [
    {
     "data": {
      "text/html": [
       "<div>\n",
       "<style scoped>\n",
       "    .dataframe tbody tr th:only-of-type {\n",
       "        vertical-align: middle;\n",
       "    }\n",
       "\n",
       "    .dataframe tbody tr th {\n",
       "        vertical-align: top;\n",
       "    }\n",
       "\n",
       "    .dataframe thead th {\n",
       "        text-align: right;\n",
       "    }\n",
       "</style>\n",
       "<table border=\"1\" class=\"dataframe\">\n",
       "  <thead>\n",
       "    <tr style=\"text-align: right;\">\n",
       "      <th></th>\n",
       "      <th>coder1</th>\n",
       "      <th>coder2</th>\n",
       "      <th>coder3</th>\n",
       "      <th>screen_name_tweets</th>\n",
       "      <th>fullname</th>\n",
       "      <th>text</th>\n",
       "      <th>timestamp</th>\n",
       "      <th>following</th>\n",
       "      <th>followers</th>\n",
       "      <th>num_tweets</th>\n",
       "      <th>location</th>\n",
       "      <th>num_likes</th>\n",
       "      <th>id</th>\n",
       "      <th>date_joined</th>\n",
       "      <th>num_days_joined</th>\n",
       "      <th>days_on_twitter</th>\n",
       "      <th>is_IO</th>\n",
       "      <th>IO_meta_clf</th>\n",
       "      <th>isIO_meta_prob</th>\n",
       "    </tr>\n",
       "  </thead>\n",
       "  <tbody>\n",
       "    <tr>\n",
       "      <th>0</th>\n",
       "      <td>1</td>\n",
       "      <td>1</td>\n",
       "      <td>1</td>\n",
       "      <td>trueman98587845</td>\n",
       "      <td>trueman</td>\n",
       "      <td>สู้ๆ นะครับ เป็นกำลังใจให้ เจ้าหน้าที่ทุกคน มั...</td>\n",
       "      <td>2020-01-28 13:27:29</td>\n",
       "      <td>30</td>\n",
       "      <td>4</td>\n",
       "      <td>1032</td>\n",
       "      <td>NaN</td>\n",
       "      <td>502</td>\n",
       "      <td>1220152441666039808</td>\n",
       "      <td>2020-01-22 17:13:00</td>\n",
       "      <td>35 days 06:47:00.000000000</td>\n",
       "      <td>35</td>\n",
       "      <td>1</td>\n",
       "      <td>1</td>\n",
       "      <td>0.999324</td>\n",
       "    </tr>\n",
       "    <tr>\n",
       "      <th>1</th>\n",
       "      <td>1</td>\n",
       "      <td>1</td>\n",
       "      <td>1</td>\n",
       "      <td>KI36bsxg8ozf6bg</td>\n",
       "      <td>ชัย สุขกายสบายใจ</td>\n",
       "      <td>เพื่อรักษา และ ระวังป้องกัน เจ้าหน้าที่รัฐ ผมด...</td>\n",
       "      <td>2020-02-03 15:58:04</td>\n",
       "      <td>36</td>\n",
       "      <td>22</td>\n",
       "      <td>2673</td>\n",
       "      <td>NaN</td>\n",
       "      <td>770</td>\n",
       "      <td>1201755584225107968</td>\n",
       "      <td>2019-12-02 22:50:00</td>\n",
       "      <td>86 days 01:10:00.000000000</td>\n",
       "      <td>86</td>\n",
       "      <td>1</td>\n",
       "      <td>1</td>\n",
       "      <td>0.994460</td>\n",
       "    </tr>\n",
       "    <tr>\n",
       "      <th>2</th>\n",
       "      <td>1</td>\n",
       "      <td>1</td>\n",
       "      <td>1</td>\n",
       "      <td>daengbile436</td>\n",
       "      <td>แดง ไบเล่</td>\n",
       "      <td>ข่าวปลอม  ไม่จริง ไม่ควรแชร์ต่อ\\n#ไวรัสโคโรนา\\...</td>\n",
       "      <td>2020-01-29 3:46:25</td>\n",
       "      <td>38</td>\n",
       "      <td>5</td>\n",
       "      <td>1234</td>\n",
       "      <td>NaN</td>\n",
       "      <td>21</td>\n",
       "      <td>1219487869049307136</td>\n",
       "      <td>2020-01-20 21:12:00</td>\n",
       "      <td>37 days 02:48:00.000000000</td>\n",
       "      <td>37</td>\n",
       "      <td>1</td>\n",
       "      <td>1</td>\n",
       "      <td>0.998803</td>\n",
       "    </tr>\n",
       "    <tr>\n",
       "      <th>3</th>\n",
       "      <td>1</td>\n",
       "      <td>1</td>\n",
       "      <td>1</td>\n",
       "      <td>trueman98587845</td>\n",
       "      <td>trueman</td>\n",
       "      <td>กระผมหนึ่งในพลเมืองคนไทย ขอเป็นกำลังใจให้คุณหม...</td>\n",
       "      <td>2020-01-31 3:22:40</td>\n",
       "      <td>30</td>\n",
       "      <td>4</td>\n",
       "      <td>1032</td>\n",
       "      <td>NaN</td>\n",
       "      <td>502</td>\n",
       "      <td>1220152441666039808</td>\n",
       "      <td>2020-01-22 17:13:00</td>\n",
       "      <td>35 days 06:47:00.000000000</td>\n",
       "      <td>35</td>\n",
       "      <td>1</td>\n",
       "      <td>1</td>\n",
       "      <td>0.999324</td>\n",
       "    </tr>\n",
       "    <tr>\n",
       "      <th>4</th>\n",
       "      <td>1</td>\n",
       "      <td>1</td>\n",
       "      <td>1</td>\n",
       "      <td>thaiprong</td>\n",
       "      <td>รวมใจไทยปรองดอง</td>\n",
       "      <td>ขอร้องทุกคนช่วยเสพสื่ออย่างมีสติ อย่าแชร์ข่าวป...</td>\n",
       "      <td>2020-01-28 8:28:56</td>\n",
       "      <td>304</td>\n",
       "      <td>99</td>\n",
       "      <td>78</td>\n",
       "      <td>NaN</td>\n",
       "      <td>395</td>\n",
       "      <td>1209024400651014144</td>\n",
       "      <td>2019-12-23 00:14:00</td>\n",
       "      <td>65 days 23:46:00.000000000</td>\n",
       "      <td>65</td>\n",
       "      <td>1</td>\n",
       "      <td>1</td>\n",
       "      <td>0.991488</td>\n",
       "    </tr>\n",
       "  </tbody>\n",
       "</table>\n",
       "</div>"
      ],
      "text/plain": [
       "   coder1  coder2  coder3 screen_name_tweets          fullname  \\\n",
       "0       1       1       1    trueman98587845           trueman   \n",
       "1       1       1       1    KI36bsxg8ozf6bg  ชัย สุขกายสบายใจ   \n",
       "2       1       1       1       daengbile436         แดง ไบเล่   \n",
       "3       1       1       1    trueman98587845           trueman   \n",
       "4       1       1       1          thaiprong   รวมใจไทยปรองดอง   \n",
       "\n",
       "                                                text            timestamp  \\\n",
       "0  สู้ๆ นะครับ เป็นกำลังใจให้ เจ้าหน้าที่ทุกคน มั...  2020-01-28 13:27:29   \n",
       "1  เพื่อรักษา และ ระวังป้องกัน เจ้าหน้าที่รัฐ ผมด...  2020-02-03 15:58:04   \n",
       "2  ข่าวปลอม  ไม่จริง ไม่ควรแชร์ต่อ\\n#ไวรัสโคโรนา\\...   2020-01-29 3:46:25   \n",
       "3  กระผมหนึ่งในพลเมืองคนไทย ขอเป็นกำลังใจให้คุณหม...   2020-01-31 3:22:40   \n",
       "4  ขอร้องทุกคนช่วยเสพสื่ออย่างมีสติ อย่าแชร์ข่าวป...   2020-01-28 8:28:56   \n",
       "\n",
       "   following  followers  num_tweets location  num_likes                   id  \\\n",
       "0         30          4        1032      NaN        502  1220152441666039808   \n",
       "1         36         22        2673      NaN        770  1201755584225107968   \n",
       "2         38          5        1234      NaN         21  1219487869049307136   \n",
       "3         30          4        1032      NaN        502  1220152441666039808   \n",
       "4        304         99          78      NaN        395  1209024400651014144   \n",
       "\n",
       "           date_joined             num_days_joined  days_on_twitter  is_IO  \\\n",
       "0  2020-01-22 17:13:00  35 days 06:47:00.000000000               35      1   \n",
       "1  2019-12-02 22:50:00  86 days 01:10:00.000000000               86      1   \n",
       "2  2020-01-20 21:12:00  37 days 02:48:00.000000000               37      1   \n",
       "3  2020-01-22 17:13:00  35 days 06:47:00.000000000               35      1   \n",
       "4  2019-12-23 00:14:00  65 days 23:46:00.000000000               65      1   \n",
       "\n",
       "   IO_meta_clf  isIO_meta_prob  \n",
       "0            1        0.999324  \n",
       "1            1        0.994460  \n",
       "2            1        0.998803  \n",
       "3            1        0.999324  \n",
       "4            1        0.991488  "
      ]
     },
     "execution_count": 131,
     "metadata": {},
     "output_type": "execute_result"
    }
   ],
   "source": [
    "full_train_set.head(5)"
   ]
  },
  {
   "cell_type": "code",
   "execution_count": 132,
   "metadata": {},
   "outputs": [],
   "source": [
    "# this is the subset of data that is used to \n",
    "# generate the metadata classifier\n",
    "full_train_set.to_csv('./data/full_train_set.csv', index=False, encoding='utf-8')"
   ]
  },
  {
   "cell_type": "code",
   "execution_count": null,
   "metadata": {},
   "outputs": [],
   "source": [
    "# read the above file and train the model to get the final model"
   ]
  },
  {
   "cell_type": "markdown",
   "metadata": {},
   "source": [
    "## Generate predicted probabilities on the full data set"
   ]
  },
  {
   "cell_type": "code",
   "execution_count": 65,
   "metadata": {},
   "outputs": [],
   "source": [
    "# read full data\n",
    "tweets = pd.read_csv('./data/tweets_final.csv', encoding='utf-8')"
   ]
  },
  {
   "cell_type": "code",
   "execution_count": 66,
   "metadata": {},
   "outputs": [
    {
     "data": {
      "text/plain": [
       "Index(['has_media', 'hashtags', 'img_urls', 'is_replied', 'is_reply_to',\n",
       "       'likes', 'links', 'parent_tweet_id', 'replies', 'reply_to_users',\n",
       "       'retweets', 'screen_name', 'text', 'text_html', 'timestamp',\n",
       "       'timestamp_epochs', 'tweet_id', 'tweet_url', 'id', 'username',\n",
       "       'video_url', 'fullname', 'location', 'blog', 'num_tweets', 'following',\n",
       "       'followers', 'num_likes', 'lists', 'date_joined'],\n",
       "      dtype='object')"
      ]
     },
     "execution_count": 66,
     "metadata": {},
     "output_type": "execute_result"
    }
   ],
   "source": [
    "tweets.columns"
   ]
  },
  {
   "cell_type": "code",
   "execution_count": 67,
   "metadata": {},
   "outputs": [],
   "source": [
    "# subset only useful columns\n",
    "cols_to_keep = ['screen_name', 'fullname',\n",
    "                'text', 'timestamp', 'following', 'followers', 'num_tweets',\n",
    "                'date_joined', 'location', 'likes', 'id']\n",
    "filtered_tweets = tweets[cols_to_keep]"
   ]
  },
  {
   "cell_type": "code",
   "execution_count": 68,
   "metadata": {},
   "outputs": [
    {
     "data": {
      "text/html": [
       "<div>\n",
       "<style scoped>\n",
       "    .dataframe tbody tr th:only-of-type {\n",
       "        vertical-align: middle;\n",
       "    }\n",
       "\n",
       "    .dataframe tbody tr th {\n",
       "        vertical-align: top;\n",
       "    }\n",
       "\n",
       "    .dataframe thead th {\n",
       "        text-align: right;\n",
       "    }\n",
       "</style>\n",
       "<table border=\"1\" class=\"dataframe\">\n",
       "  <thead>\n",
       "    <tr style=\"text-align: right;\">\n",
       "      <th></th>\n",
       "      <th>screen_name</th>\n",
       "      <th>fullname</th>\n",
       "      <th>text</th>\n",
       "      <th>timestamp</th>\n",
       "      <th>following</th>\n",
       "      <th>followers</th>\n",
       "      <th>num_tweets</th>\n",
       "      <th>date_joined</th>\n",
       "      <th>location</th>\n",
       "      <th>likes</th>\n",
       "      <th>id</th>\n",
       "    </tr>\n",
       "  </thead>\n",
       "  <tbody>\n",
       "    <tr>\n",
       "      <th>0</th>\n",
       "      <td>KI36bsxg8ozf6bg</td>\n",
       "      <td>ชัย สุขกายสบายใจ</td>\n",
       "      <td>ดูข่าวให้ดี อย่าเชื่อข่าวปลอม แล้วค่อยมาแสดงึว...</td>\n",
       "      <td>2020-02-02 17:52:19</td>\n",
       "      <td>36.0</td>\n",
       "      <td>22.0</td>\n",
       "      <td>2673.0</td>\n",
       "      <td>2019-12-02 22:50:00</td>\n",
       "      <td>-1</td>\n",
       "      <td>0</td>\n",
       "      <td>1201755584225107968</td>\n",
       "    </tr>\n",
       "    <tr>\n",
       "      <th>1</th>\n",
       "      <td>thaiprong</td>\n",
       "      <td>รวมใจไทยปรองดอง</td>\n",
       "      <td>ข่าวดี!! แพทย์ราชวิถี รักษาผู้ป่วยโคโรนา อากา...</td>\n",
       "      <td>2020-02-02 15:15:13</td>\n",
       "      <td>304.0</td>\n",
       "      <td>99.0</td>\n",
       "      <td>78.0</td>\n",
       "      <td>2019-12-23 00:14:00</td>\n",
       "      <td>-1</td>\n",
       "      <td>9</td>\n",
       "      <td>1209024400651014144</td>\n",
       "    </tr>\n",
       "  </tbody>\n",
       "</table>\n",
       "</div>"
      ],
      "text/plain": [
       "       screen_name          fullname  \\\n",
       "0  KI36bsxg8ozf6bg  ชัย สุขกายสบายใจ   \n",
       "1        thaiprong   รวมใจไทยปรองดอง   \n",
       "\n",
       "                                                text            timestamp  \\\n",
       "0  ดูข่าวให้ดี อย่าเชื่อข่าวปลอม แล้วค่อยมาแสดงึว...  2020-02-02 17:52:19   \n",
       "1   ข่าวดี!! แพทย์ราชวิถี รักษาผู้ป่วยโคโรนา อากา...  2020-02-02 15:15:13   \n",
       "\n",
       "   following  followers  num_tweets          date_joined location  likes  \\\n",
       "0       36.0       22.0      2673.0  2019-12-02 22:50:00       -1      0   \n",
       "1      304.0       99.0        78.0  2019-12-23 00:14:00       -1      9   \n",
       "\n",
       "                    id  \n",
       "0  1201755584225107968  \n",
       "1  1209024400651014144  "
      ]
     },
     "execution_count": 68,
     "metadata": {},
     "output_type": "execute_result"
    }
   ],
   "source": [
    "filtered_tweets.head(2)"
   ]
  },
  {
   "cell_type": "code",
   "execution_count": 70,
   "metadata": {},
   "outputs": [
    {
     "name": "stderr",
     "output_type": "stream",
     "text": [
      "/Users/sanittawan/anaconda3/lib/python3.7/site-packages/pandas/core/frame.py:4133: SettingWithCopyWarning: \n",
      "A value is trying to be set on a copy of a slice from a DataFrame\n",
      "\n",
      "See the caveats in the documentation: https://pandas.pydata.org/pandas-docs/stable/user_guide/indexing.html#returning-a-view-versus-a-copy\n",
      "  errors=errors,\n"
     ]
    }
   ],
   "source": [
    "filtered_tweets.rename(columns={\"likes\": \"num_likes\"}, inplace=True)"
   ]
  },
  {
   "cell_type": "code",
   "execution_count": 71,
   "metadata": {},
   "outputs": [],
   "source": [
    "new_filtered_tweets = filtered_tweets.dropna(subset=['following', 'followers', 'num_tweets', \n",
    "                                                     'date_joined', 'num_likes'])"
   ]
  },
  {
   "cell_type": "code",
   "execution_count": 72,
   "metadata": {},
   "outputs": [
    {
     "data": {
      "text/plain": [
       "(3405, 11)"
      ]
     },
     "execution_count": 72,
     "metadata": {},
     "output_type": "execute_result"
    }
   ],
   "source": [
    "new_filtered_tweets.shape # a bit smaller but still good"
   ]
  },
  {
   "cell_type": "code",
   "execution_count": 75,
   "metadata": {},
   "outputs": [
    {
     "data": {
      "text/plain": [
       "Index(['screen_name', 'fullname', 'text', 'timestamp', 'following',\n",
       "       'followers', 'num_tweets', 'date_joined', 'location', 'num_likes',\n",
       "       'id'],\n",
       "      dtype='object')"
      ]
     },
     "execution_count": 75,
     "metadata": {},
     "output_type": "execute_result"
    }
   ],
   "source": [
    "new_filtered_tweets.columns"
   ]
  },
  {
   "cell_type": "code",
   "execution_count": 76,
   "metadata": {},
   "outputs": [],
   "source": [
    "types = {'screen_name': 'str', 'text': 'str', 'following': 'int64', \n",
    "         'followers': 'int64', 'num_tweets': 'int64', 'num_likes': 'int64', 'id': 'int64'}\n",
    "new_filtered_tweets = new_filtered_tweets.astype(types)"
   ]
  },
  {
   "cell_type": "code",
   "execution_count": 78,
   "metadata": {},
   "outputs": [
    {
     "data": {
      "text/plain": [
       "0       2019-12-02 22:50:00\n",
       "1       2019-12-23 00:14:00\n",
       "2       2019-12-02 22:50:00\n",
       "3       2019-12-23 00:14:00\n",
       "4       2019-12-23 00:14:00\n",
       "               ...         \n",
       "3400    2016-01-06 23:07:00\n",
       "3401    2009-12-16 01:08:00\n",
       "3402    2019-08-07 19:20:00\n",
       "3403    2019-08-07 19:20:00\n",
       "3404    2019-05-10 09:05:12\n",
       "Name: date_joined, Length: 3405, dtype: object"
      ]
     },
     "execution_count": 78,
     "metadata": {},
     "output_type": "execute_result"
    }
   ],
   "source": [
    "new_filtered_tweets['date_joined']"
   ]
  },
  {
   "cell_type": "code",
   "execution_count": 93,
   "metadata": {},
   "outputs": [],
   "source": [
    "def new_change_to_timestamp(s):\n",
    "    if s == -1:\n",
    "        return s\n",
    "    new_s = s.split()\n",
    "    new_s = ''.join(new_s)\n",
    "    f = \"%Y-%m-%d%H:%M:%S\"\n",
    "    out = datetime.strptime(new_s, f)\n",
    "    out = pd.Timestamp(out)\n",
    "    return out"
   ]
  },
  {
   "cell_type": "code",
   "execution_count": 94,
   "metadata": {},
   "outputs": [
    {
     "data": {
      "text/plain": [
       "0      2019-12-02 22:50:00\n",
       "1      2019-12-23 00:14:00\n",
       "2      2019-12-02 22:50:00\n",
       "3      2019-12-23 00:14:00\n",
       "4      2019-12-23 00:14:00\n",
       "               ...        \n",
       "3400   2016-01-06 23:07:00\n",
       "3401   2009-12-16 01:08:00\n",
       "3402   2019-08-07 19:20:00\n",
       "3403   2019-08-07 19:20:00\n",
       "3404   2019-05-10 09:05:12\n",
       "Name: new_date_joined, Length: 3405, dtype: datetime64[ns]"
      ]
     },
     "execution_count": 94,
     "metadata": {},
     "output_type": "execute_result"
    }
   ],
   "source": [
    "new_filtered_tweets['new_date_joined'] = new_filtered_tweets['date_joined'].apply(new_change_to_timestamp)\n",
    "new_filtered_tweets['new_date_joined']"
   ]
  },
  {
   "cell_type": "code",
   "execution_count": 95,
   "metadata": {},
   "outputs": [],
   "source": [
    "new_filtered_tweets.drop(columns=['date_joined'], inplace=True)\n",
    "new_filtered_tweets.rename(columns={\"new_date_joined\": \"date_joined\"}, inplace=True)"
   ]
  },
  {
   "cell_type": "code",
   "execution_count": 97,
   "metadata": {},
   "outputs": [],
   "source": [
    "df = pd.DataFrame({'year': [2020]*new_filtered_tweets.shape[0],\n",
    "                   'month': [2]*new_filtered_tweets.shape[0],\n",
    "                   'day': [27]*new_filtered_tweets.shape[0]})\n",
    "df = pd.to_datetime(df)"
   ]
  },
  {
   "cell_type": "code",
   "execution_count": 98,
   "metadata": {},
   "outputs": [],
   "source": [
    "new_filtered_tweets['num_days_joined'] = df - new_filtered_tweets['date_joined']"
   ]
  },
  {
   "cell_type": "code",
   "execution_count": 99,
   "metadata": {},
   "outputs": [],
   "source": [
    "new_filtered_tweets['days_on_twitter'] = new_filtered_tweets['num_days_joined'].apply(lambda x: x.days)"
   ]
  },
  {
   "cell_type": "code",
   "execution_count": 101,
   "metadata": {},
   "outputs": [
    {
     "data": {
      "text/html": [
       "<div>\n",
       "<style scoped>\n",
       "    .dataframe tbody tr th:only-of-type {\n",
       "        vertical-align: middle;\n",
       "    }\n",
       "\n",
       "    .dataframe tbody tr th {\n",
       "        vertical-align: top;\n",
       "    }\n",
       "\n",
       "    .dataframe thead th {\n",
       "        text-align: right;\n",
       "    }\n",
       "</style>\n",
       "<table border=\"1\" class=\"dataframe\">\n",
       "  <thead>\n",
       "    <tr style=\"text-align: right;\">\n",
       "      <th></th>\n",
       "      <th>screen_name</th>\n",
       "      <th>fullname</th>\n",
       "      <th>text</th>\n",
       "      <th>timestamp</th>\n",
       "      <th>following</th>\n",
       "      <th>followers</th>\n",
       "      <th>num_tweets</th>\n",
       "      <th>location</th>\n",
       "      <th>num_likes</th>\n",
       "      <th>id</th>\n",
       "      <th>date_joined</th>\n",
       "      <th>num_days_joined</th>\n",
       "      <th>days_on_twitter</th>\n",
       "    </tr>\n",
       "  </thead>\n",
       "  <tbody>\n",
       "    <tr>\n",
       "      <th>0</th>\n",
       "      <td>KI36bsxg8ozf6bg</td>\n",
       "      <td>ชัย สุขกายสบายใจ</td>\n",
       "      <td>ดูข่าวให้ดี อย่าเชื่อข่าวปลอม แล้วค่อยมาแสดงึว...</td>\n",
       "      <td>2020-02-02 17:52:19</td>\n",
       "      <td>36</td>\n",
       "      <td>22</td>\n",
       "      <td>2673</td>\n",
       "      <td>-1</td>\n",
       "      <td>0</td>\n",
       "      <td>1201755584225107968</td>\n",
       "      <td>2019-12-02 22:50:00</td>\n",
       "      <td>86 days 01:10:00</td>\n",
       "      <td>86</td>\n",
       "    </tr>\n",
       "    <tr>\n",
       "      <th>1</th>\n",
       "      <td>thaiprong</td>\n",
       "      <td>รวมใจไทยปรองดอง</td>\n",
       "      <td>ข่าวดี!! แพทย์ราชวิถี รักษาผู้ป่วยโคโรนา อากา...</td>\n",
       "      <td>2020-02-02 15:15:13</td>\n",
       "      <td>304</td>\n",
       "      <td>99</td>\n",
       "      <td>78</td>\n",
       "      <td>-1</td>\n",
       "      <td>9</td>\n",
       "      <td>1209024400651014144</td>\n",
       "      <td>2019-12-23 00:14:00</td>\n",
       "      <td>65 days 23:46:00</td>\n",
       "      <td>65</td>\n",
       "    </tr>\n",
       "  </tbody>\n",
       "</table>\n",
       "</div>"
      ],
      "text/plain": [
       "       screen_name          fullname  \\\n",
       "0  KI36bsxg8ozf6bg  ชัย สุขกายสบายใจ   \n",
       "1        thaiprong   รวมใจไทยปรองดอง   \n",
       "\n",
       "                                                text            timestamp  \\\n",
       "0  ดูข่าวให้ดี อย่าเชื่อข่าวปลอม แล้วค่อยมาแสดงึว...  2020-02-02 17:52:19   \n",
       "1   ข่าวดี!! แพทย์ราชวิถี รักษาผู้ป่วยโคโรนา อากา...  2020-02-02 15:15:13   \n",
       "\n",
       "   following  followers  num_tweets location  num_likes                   id  \\\n",
       "0         36         22        2673       -1          0  1201755584225107968   \n",
       "1        304         99          78       -1          9  1209024400651014144   \n",
       "\n",
       "          date_joined  num_days_joined  days_on_twitter  \n",
       "0 2019-12-02 22:50:00 86 days 01:10:00               86  \n",
       "1 2019-12-23 00:14:00 65 days 23:46:00               65  "
      ]
     },
     "execution_count": 101,
     "metadata": {},
     "output_type": "execute_result"
    }
   ],
   "source": [
    "new_filtered_tweets.head(2)"
   ]
  },
  {
   "cell_type": "code",
   "execution_count": 108,
   "metadata": {},
   "outputs": [],
   "source": [
    "final_tweets = new_filtered_tweets.copy()"
   ]
  },
  {
   "cell_type": "code",
   "execution_count": 111,
   "metadata": {},
   "outputs": [],
   "source": [
    "final_tweets.to_csv('./data/full_tweets_final.csv', index=False, encoding='utf-8')"
   ]
  },
  {
   "cell_type": "markdown",
   "metadata": {},
   "source": [
    "## Make prediction on the full data set!"
   ]
  },
  {
   "cell_type": "code",
   "execution_count": 112,
   "metadata": {},
   "outputs": [],
   "source": [
    "final_tweets = pd.read_csv('./data/full_tweets_final.csv', encoding='utf-8')"
   ]
  },
  {
   "cell_type": "code",
   "execution_count": 113,
   "metadata": {},
   "outputs": [],
   "source": [
    "features = ['following', 'followers', 'num_tweets', 'num_likes', 'days_on_twitter']"
   ]
  },
  {
   "cell_type": "code",
   "execution_count": 114,
   "metadata": {},
   "outputs": [],
   "source": [
    "X_full = final_tweets[features]"
   ]
  },
  {
   "cell_type": "code",
   "execution_count": 116,
   "metadata": {},
   "outputs": [],
   "source": [
    "final_y_pred = final_model.predict(X_full)\n",
    "final_y_prob = final_model.predict_proba(X_full)"
   ]
  },
  {
   "cell_type": "code",
   "execution_count": 121,
   "metadata": {},
   "outputs": [
    {
     "data": {
      "text/plain": [
       "array([[2.7827501e-02, 9.7217250e-01],\n",
       "       [8.3046377e-02, 9.1695362e-01],\n",
       "       [2.7827501e-02, 9.7217250e-01],\n",
       "       ...,\n",
       "       [9.9943048e-01, 5.6954758e-04],\n",
       "       [9.9943048e-01, 5.6954758e-04],\n",
       "       [9.7612679e-01, 2.3873240e-02]], dtype=float32)"
      ]
     },
     "execution_count": 121,
     "metadata": {},
     "output_type": "execute_result"
    }
   ],
   "source": [
    "final_y_prob"
   ]
  },
  {
   "cell_type": "code",
   "execution_count": 117,
   "metadata": {},
   "outputs": [
    {
     "data": {
      "text/plain": [
       "375"
      ]
     },
     "execution_count": 117,
     "metadata": {},
     "output_type": "execute_result"
    }
   ],
   "source": [
    "final_y_pred.sum()"
   ]
  },
  {
   "cell_type": "code",
   "execution_count": 118,
   "metadata": {},
   "outputs": [
    {
     "name": "stdout",
     "output_type": "stream",
     "text": [
      "0.11013215859030837\n"
     ]
    }
   ],
   "source": [
    "# IO makes up 11% of the data set\n",
    "print(final_y_pred.sum() / X_full.shape[0])"
   ]
  },
  {
   "cell_type": "code",
   "execution_count": 122,
   "metadata": {},
   "outputs": [],
   "source": [
    "final_tweets['IO_meta_clf'] = final_y_pred"
   ]
  },
  {
   "cell_type": "code",
   "execution_count": 123,
   "metadata": {},
   "outputs": [],
   "source": [
    "# probability of the data point being from an IO account\n",
    "final_tweets['isIO_meta_prob'] = final_y_prob[:,1]"
   ]
  },
  {
   "cell_type": "code",
   "execution_count": 126,
   "metadata": {},
   "outputs": [
    {
     "data": {
      "text/html": [
       "<div>\n",
       "<style scoped>\n",
       "    .dataframe tbody tr th:only-of-type {\n",
       "        vertical-align: middle;\n",
       "    }\n",
       "\n",
       "    .dataframe tbody tr th {\n",
       "        vertical-align: top;\n",
       "    }\n",
       "\n",
       "    .dataframe thead th {\n",
       "        text-align: right;\n",
       "    }\n",
       "</style>\n",
       "<table border=\"1\" class=\"dataframe\">\n",
       "  <thead>\n",
       "    <tr style=\"text-align: right;\">\n",
       "      <th></th>\n",
       "      <th>screen_name</th>\n",
       "      <th>fullname</th>\n",
       "      <th>text</th>\n",
       "      <th>timestamp</th>\n",
       "      <th>following</th>\n",
       "      <th>followers</th>\n",
       "      <th>num_tweets</th>\n",
       "      <th>location</th>\n",
       "      <th>num_likes</th>\n",
       "      <th>id</th>\n",
       "      <th>date_joined</th>\n",
       "      <th>num_days_joined</th>\n",
       "      <th>days_on_twitter</th>\n",
       "      <th>IO_meta_clf</th>\n",
       "      <th>isIO_meta_prob</th>\n",
       "    </tr>\n",
       "  </thead>\n",
       "  <tbody>\n",
       "    <tr>\n",
       "      <th>0</th>\n",
       "      <td>KI36bsxg8ozf6bg</td>\n",
       "      <td>ชัย สุขกายสบายใจ</td>\n",
       "      <td>ดูข่าวให้ดี อย่าเชื่อข่าวปลอม แล้วค่อยมาแสดงึว...</td>\n",
       "      <td>2020-02-02 17:52:19</td>\n",
       "      <td>36</td>\n",
       "      <td>22</td>\n",
       "      <td>2673</td>\n",
       "      <td>-1</td>\n",
       "      <td>0</td>\n",
       "      <td>1201755584225107968</td>\n",
       "      <td>2019-12-02 22:50:00</td>\n",
       "      <td>86 days 01:10:00.000000000</td>\n",
       "      <td>86</td>\n",
       "      <td>1</td>\n",
       "      <td>0.972172</td>\n",
       "    </tr>\n",
       "    <tr>\n",
       "      <th>1</th>\n",
       "      <td>thaiprong</td>\n",
       "      <td>รวมใจไทยปรองดอง</td>\n",
       "      <td>ข่าวดี!! แพทย์ราชวิถี รักษาผู้ป่วยโคโรนา อากา...</td>\n",
       "      <td>2020-02-02 15:15:13</td>\n",
       "      <td>304</td>\n",
       "      <td>99</td>\n",
       "      <td>78</td>\n",
       "      <td>-1</td>\n",
       "      <td>9</td>\n",
       "      <td>1209024400651014144</td>\n",
       "      <td>2019-12-23 00:14:00</td>\n",
       "      <td>65 days 23:46:00.000000000</td>\n",
       "      <td>65</td>\n",
       "      <td>1</td>\n",
       "      <td>0.916954</td>\n",
       "    </tr>\n",
       "  </tbody>\n",
       "</table>\n",
       "</div>"
      ],
      "text/plain": [
       "       screen_name          fullname  \\\n",
       "0  KI36bsxg8ozf6bg  ชัย สุขกายสบายใจ   \n",
       "1        thaiprong   รวมใจไทยปรองดอง   \n",
       "\n",
       "                                                text            timestamp  \\\n",
       "0  ดูข่าวให้ดี อย่าเชื่อข่าวปลอม แล้วค่อยมาแสดงึว...  2020-02-02 17:52:19   \n",
       "1   ข่าวดี!! แพทย์ราชวิถี รักษาผู้ป่วยโคโรนา อากา...  2020-02-02 15:15:13   \n",
       "\n",
       "   following  followers  num_tweets location  num_likes                   id  \\\n",
       "0         36         22        2673       -1          0  1201755584225107968   \n",
       "1        304         99          78       -1          9  1209024400651014144   \n",
       "\n",
       "           date_joined             num_days_joined  days_on_twitter  \\\n",
       "0  2019-12-02 22:50:00  86 days 01:10:00.000000000               86   \n",
       "1  2019-12-23 00:14:00  65 days 23:46:00.000000000               65   \n",
       "\n",
       "   IO_meta_clf  isIO_meta_prob  \n",
       "0            1        0.972172  \n",
       "1            1        0.916954  "
      ]
     },
     "execution_count": 126,
     "metadata": {},
     "output_type": "execute_result"
    }
   ],
   "source": [
    "final_tweets.head(2)"
   ]
  },
  {
   "cell_type": "code",
   "execution_count": 125,
   "metadata": {},
   "outputs": [
    {
     "data": {
      "text/html": [
       "<div>\n",
       "<style scoped>\n",
       "    .dataframe tbody tr th:only-of-type {\n",
       "        vertical-align: middle;\n",
       "    }\n",
       "\n",
       "    .dataframe tbody tr th {\n",
       "        vertical-align: top;\n",
       "    }\n",
       "\n",
       "    .dataframe thead th {\n",
       "        text-align: right;\n",
       "    }\n",
       "</style>\n",
       "<table border=\"1\" class=\"dataframe\">\n",
       "  <thead>\n",
       "    <tr style=\"text-align: right;\">\n",
       "      <th></th>\n",
       "      <th>screen_name</th>\n",
       "      <th>fullname</th>\n",
       "      <th>text</th>\n",
       "      <th>timestamp</th>\n",
       "      <th>following</th>\n",
       "      <th>followers</th>\n",
       "      <th>num_tweets</th>\n",
       "      <th>location</th>\n",
       "      <th>num_likes</th>\n",
       "      <th>id</th>\n",
       "      <th>date_joined</th>\n",
       "      <th>num_days_joined</th>\n",
       "      <th>days_on_twitter</th>\n",
       "      <th>IO_meta_clf</th>\n",
       "      <th>isIO_meta_prob</th>\n",
       "    </tr>\n",
       "  </thead>\n",
       "  <tbody>\n",
       "    <tr>\n",
       "      <th>3403</th>\n",
       "      <td>zazukekenji</td>\n",
       "      <td>zazukekenji</td>\n",
       "      <td>กำขี้ดีกว่ากำตด..... #รัฐบาลเตรียมพร้อม</td>\n",
       "      <td>2020-02-14 00:00:38</td>\n",
       "      <td>153</td>\n",
       "      <td>125</td>\n",
       "      <td>9948</td>\n",
       "      <td>-1</td>\n",
       "      <td>1</td>\n",
       "      <td>1159288164994838528</td>\n",
       "      <td>2019-08-07 19:20:00</td>\n",
       "      <td>203 days 04:40:00.000000000</td>\n",
       "      <td>203</td>\n",
       "      <td>0</td>\n",
       "      <td>0.000570</td>\n",
       "    </tr>\n",
       "    <tr>\n",
       "      <th>3404</th>\n",
       "      <td>mmmmmmmz5</td>\n",
       "      <td>mmmmmmmz</td>\n",
       "      <td>#รัฐบาลเตรียมพร้อม    พร้อมเท่าที่รู้ https://...</td>\n",
       "      <td>2020-02-14 00:00:04</td>\n",
       "      <td>20</td>\n",
       "      <td>0</td>\n",
       "      <td>88</td>\n",
       "      <td>-1</td>\n",
       "      <td>0</td>\n",
       "      <td>1126775183065341952</td>\n",
       "      <td>2019-05-10 09:05:12</td>\n",
       "      <td>292 days 14:54:48.000000000</td>\n",
       "      <td>292</td>\n",
       "      <td>0</td>\n",
       "      <td>0.023873</td>\n",
       "    </tr>\n",
       "  </tbody>\n",
       "</table>\n",
       "</div>"
      ],
      "text/plain": [
       "      screen_name     fullname  \\\n",
       "3403  zazukekenji  zazukekenji   \n",
       "3404    mmmmmmmz5     mmmmmmmz   \n",
       "\n",
       "                                                   text            timestamp  \\\n",
       "3403            กำขี้ดีกว่ากำตด..... #รัฐบาลเตรียมพร้อม  2020-02-14 00:00:38   \n",
       "3404  #รัฐบาลเตรียมพร้อม    พร้อมเท่าที่รู้ https://...  2020-02-14 00:00:04   \n",
       "\n",
       "      following  followers  num_tweets location  num_likes  \\\n",
       "3403        153        125        9948       -1          1   \n",
       "3404         20          0          88       -1          0   \n",
       "\n",
       "                       id          date_joined              num_days_joined  \\\n",
       "3403  1159288164994838528  2019-08-07 19:20:00  203 days 04:40:00.000000000   \n",
       "3404  1126775183065341952  2019-05-10 09:05:12  292 days 14:54:48.000000000   \n",
       "\n",
       "      days_on_twitter  IO_meta_clf  isIO_meta_prob  \n",
       "3403              203            0        0.000570  \n",
       "3404              292            0        0.023873  "
      ]
     },
     "execution_count": 125,
     "metadata": {},
     "output_type": "execute_result"
    }
   ],
   "source": [
    "final_tweets.tail(2)"
   ]
  },
  {
   "cell_type": "code",
   "execution_count": 134,
   "metadata": {},
   "outputs": [],
   "source": [
    "final_tweets.to_csv('./data/full_tweets_final_with_proba.csv', index=False, encoding='utf-8')"
   ]
  },
  {
   "cell_type": "markdown",
   "metadata": {},
   "source": [
    "## Text classifier\n",
    "\n",
    "Switch to google colab notebook: see text_classifier.ipynb"
   ]
  },
  {
   "cell_type": "code",
   "execution_count": null,
   "metadata": {},
   "outputs": [],
   "source": [
    "# need to tokenize words and build a classifier on training set"
   ]
  },
  {
   "cell_type": "markdown",
   "metadata": {},
   "source": [
    "## Note to self:\n",
    "\n",
    "read these:\n",
    "1. https://medium.com/@newnoi/%E0%B8%AA%E0%B8%AD%E0%B8%99%E0%B8%84%E0%B8%AD%E0%B8%A1%E0%B8%9E%E0%B8%B9%E0%B8%94%E0%B9%81%E0%B8%9A%E0%B8%9A%E0%B9%84%E0%B8%97%E0%B8%A2%E0%B9%86-%E0%B8%94%E0%B9%89%E0%B8%A7%E0%B8%A2-machine-learning-model-part2-2a1609af1bd7\n",
    "2. https://medium.com/@newnoi/%E0%B8%A1%E0%B8%B2%E0%B8%AA%E0%B8%A3%E0%B9%89%E0%B8%B2%E0%B8%87-chatbot-%E0%B9%81%E0%B8%9A%E0%B8%9A%E0%B9%84%E0%B8%97%E0%B8%A2%E0%B9%86-%E0%B8%94%E0%B9%89%E0%B8%A7%E0%B8%A2-machine-learning-lstm-model-%E0%B8%81%E0%B8%B1%E0%B8%99%E0%B8%94%E0%B8%B5%E0%B8%81%E0%B8%A7%E0%B9%88%E0%B8%B2-part1-6230eac8d1f8\n",
    "3. https://lukkiddd.com/word-embedding-%E0%B9%81%E0%B8%A5%E0%B8%B0-word2vec-%E0%B8%84%E0%B8%B7%E0%B8%AD%E0%B8%AD%E0%B8%B0%E0%B9%84%E0%B8%A3-e60bdf6d78d3\n",
    "4. https://lukkiddd.com/word2vec-%E0%B8%97%E0%B8%B3%E0%B8%AD%E0%B8%A2%E0%B9%88%E0%B8%B2%E0%B8%87%E0%B9%84%E0%B8%A3-b3de9d9a38b3\n",
    "5. https://kobkrit.com/%E0%B8%81%E0%B8%B2%E0%B8%A3%E0%B8%9B%E0%B8%A3%E0%B8%B0%E0%B8%A1%E0%B8%A7%E0%B8%A5%E0%B8%A0%E0%B8%B2%E0%B8%A9%E0%B8%B2%E0%B9%84%E0%B8%97%E0%B8%A2-nlp-%E0%B9%81%E0%B8%9A%E0%B8%9A-transfer-learning-%E0%B8%94%E0%B9%89%E0%B8%A7%E0%B8%A2-bert-1e8abaa578dc\n",
    "6. https://mc.ai/%E0%B8%A1%E0%B8%B2%E0%B8%A3%E0%B8%B9%E0%B9%89%E0%B8%88%E0%B8%B1%E0%B8%81%E0%B8%AD%E0%B8%B1%E0%B8%81%E0%B8%82%E0%B8%A3%E0%B8%B2%E0%B8%AD%E0%B8%B2%E0%B8%A3%E0%B9%8C%E0%B9%80%E0%B8%AD%E0%B9%87%E0%B8%99/\n",
    "7. https://www.thainlp.org/pythainlp/tutorials/notebooks/word2vec_examples.html\n",
    "8. https://github.com/kobkrit/nlp_thai_resources\n",
    "9. https://www.thainlp.org/pythainlp/tutorials/\n",
    "10. https://medium.com/@pongsakorn.jrc/%E0%B8%A3%E0%B8%B9%E0%B9%89%E0%B8%88%E0%B8%B1%E0%B8%81%E0%B8%81%E0%B8%B1%E0%B8%9A-latent-dirichlet-allocation-part-1-2495acfcda86\n",
    "\n",
    "Topic modeling in Thai\n",
    "11. https://datadairy.blogspot.com/2019/06/lda-topic-modeling.html\n",
    "12. https://lukkiddd.com/%E0%B8%AD%E0%B8%A2%E0%B8%B2%E0%B8%81%E0%B9%80%E0%B8%A3%E0%B8%B5%E0%B8%A2%E0%B8%99-nlp-%E0%B9%80%E0%B8%A3%E0%B8%B4%E0%B9%88%E0%B8%A1%E0%B8%A2%E0%B8%B1%E0%B8%87%E0%B9%84%E0%B8%87%E0%B8%94%E0%B8%B5-5dd40dd1acfe\n",
    "13. https://attapol.github.io/programming/archived2018.html"
   ]
  }
 ],
 "metadata": {
  "kernelspec": {
   "display_name": "Python 3",
   "language": "python",
   "name": "python3"
  },
  "language_info": {
   "codemirror_mode": {
    "name": "ipython",
    "version": 3
   },
   "file_extension": ".py",
   "mimetype": "text/x-python",
   "name": "python",
   "nbconvert_exporter": "python",
   "pygments_lexer": "ipython3",
   "version": "3.7.6"
  }
 },
 "nbformat": 4,
 "nbformat_minor": 4
}
