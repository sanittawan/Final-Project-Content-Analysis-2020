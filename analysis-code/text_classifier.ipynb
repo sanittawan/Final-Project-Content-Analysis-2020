{
  "nbformat": 4,
  "nbformat_minor": 0,
  "metadata": {
    "colab": {
      "name": "text_classifier.ipynb",
      "provenance": [],
      "collapsed_sections": [],
      "toc_visible": true
    },
    "kernelspec": {
      "name": "python3",
      "display_name": "Python 3"
    }
  },
  "cells": [
    {
      "cell_type": "markdown",
      "metadata": {
        "id": "MYBZFeIyJ-HH",
        "colab_type": "text"
      },
      "source": [
        "# Notebook for Text Analysis\n",
        "## Author: Sanittawan Tan\n",
        "## Date: March 12, 2020\n",
        "\n",
        "- build a text classifier"
      ]
    },
    {
      "cell_type": "markdown",
      "metadata": {
        "id": "Yt6m29KFKLjT",
        "colab_type": "text"
      },
      "source": [
        "## install required libraries"
      ]
    },
    {
      "cell_type": "code",
      "metadata": {
        "id": "tEPGB2IWHpT2",
        "colab_type": "code",
        "outputId": "aebba4f7-0840-4757-e57e-768da6969eda",
        "colab": {
          "base_uri": "https://localhost:8080/",
          "height": 664
        }
      },
      "source": [
        "!pip install pythainlp"
      ],
      "execution_count": 0,
      "outputs": [
        {
          "output_type": "stream",
          "text": [
            "Collecting pythainlp\n",
            "\u001b[?25l  Downloading https://files.pythonhosted.org/packages/cb/14/b80930a2cc09ed6b5f8a22da9be6ece56939839ae66d921d9c7123034ba0/pythainlp-2.1.4-py3-none-any.whl (11.1MB)\n",
            "\u001b[K     |████████████████████████████████| 11.1MB 4.6MB/s \n",
            "\u001b[?25hCollecting nltk>=3.3\n",
            "\u001b[?25l  Downloading https://files.pythonhosted.org/packages/f6/1d/d925cfb4f324ede997f6d47bea4d9babba51b49e87a767c170b77005889d/nltk-3.4.5.zip (1.5MB)\n",
            "\u001b[K     |████████████████████████████████| 1.5MB 41.2MB/s \n",
            "\u001b[?25hRequirement already satisfied: dill>=0.3.0 in /usr/local/lib/python3.6/dist-packages (from pythainlp) (0.3.1.1)\n",
            "Requirement already satisfied: tqdm>=4.1 in /usr/local/lib/python3.6/dist-packages (from pythainlp) (4.38.0)\n",
            "Collecting requests>=2.22.0\n",
            "\u001b[?25l  Downloading https://files.pythonhosted.org/packages/1a/70/1935c770cb3be6e3a8b78ced23d7e0f3b187f5cbfab4749523ed65d7c9b1/requests-2.23.0-py2.py3-none-any.whl (58kB)\n",
            "\u001b[K     |████████████████████████████████| 61kB 9.3MB/s \n",
            "\u001b[?25hCollecting tinydb>=3.0\n",
            "  Downloading https://files.pythonhosted.org/packages/22/11/c3adfc1b367d1955461f82a4a0a8ffffd37b193e98f2fe89338cdd4a8a6a/tinydb-3.15.2-py2.py3-none-any.whl\n",
            "Requirement already satisfied: six in /usr/local/lib/python3.6/dist-packages (from nltk>=3.3->pythainlp) (1.12.0)\n",
            "Requirement already satisfied: certifi>=2017.4.17 in /usr/local/lib/python3.6/dist-packages (from requests>=2.22.0->pythainlp) (2019.11.28)\n",
            "Requirement already satisfied: urllib3!=1.25.0,!=1.25.1,<1.26,>=1.21.1 in /usr/local/lib/python3.6/dist-packages (from requests>=2.22.0->pythainlp) (1.24.3)\n",
            "Requirement already satisfied: chardet<4,>=3.0.2 in /usr/local/lib/python3.6/dist-packages (from requests>=2.22.0->pythainlp) (3.0.4)\n",
            "Requirement already satisfied: idna<3,>=2.5 in /usr/local/lib/python3.6/dist-packages (from requests>=2.22.0->pythainlp) (2.8)\n",
            "Building wheels for collected packages: nltk\n",
            "  Building wheel for nltk (setup.py) ... \u001b[?25l\u001b[?25hdone\n",
            "  Created wheel for nltk: filename=nltk-3.4.5-cp36-none-any.whl size=1449905 sha256=c076a3b1659496cf5a5fe053a3ee48ee82ff20df217920911e077dc3dc70976c\n",
            "  Stored in directory: /root/.cache/pip/wheels/96/86/f6/68ab24c23f207c0077381a5e3904b2815136b879538a24b483\n",
            "Successfully built nltk\n",
            "\u001b[31mERROR: google-colab 1.0.0 has requirement requests~=2.21.0, but you'll have requests 2.23.0 which is incompatible.\u001b[0m\n",
            "\u001b[31mERROR: datascience 0.10.6 has requirement folium==0.2.1, but you'll have folium 0.8.3 which is incompatible.\u001b[0m\n",
            "Installing collected packages: nltk, requests, tinydb, pythainlp\n",
            "  Found existing installation: nltk 3.2.5\n",
            "    Uninstalling nltk-3.2.5:\n",
            "      Successfully uninstalled nltk-3.2.5\n",
            "  Found existing installation: requests 2.21.0\n",
            "    Uninstalling requests-2.21.0:\n",
            "      Successfully uninstalled requests-2.21.0\n",
            "Successfully installed nltk-3.4.5 pythainlp-2.1.4 requests-2.23.0 tinydb-3.15.2\n"
          ],
          "name": "stdout"
        },
        {
          "output_type": "display_data",
          "data": {
            "application/vnd.colab-display-data+json": {
              "pip_warning": {
                "packages": [
                  "requests"
                ]
              }
            }
          },
          "metadata": {
            "tags": []
          }
        }
      ]
    },
    {
      "cell_type": "code",
      "metadata": {
        "id": "-TfvTqpKHpaH",
        "colab_type": "code",
        "outputId": "d1379a1b-7632-4a87-ebe7-b445eb42c050",
        "colab": {
          "base_uri": "https://localhost:8080/",
          "height": 734
        }
      },
      "source": [
        "!pip install deepcut"
      ],
      "execution_count": 0,
      "outputs": [
        {
          "output_type": "stream",
          "text": [
            "Requirement already satisfied: deepcut in /usr/local/lib/python3.6/dist-packages (0.7.0.0)\n",
            "Requirement already satisfied: pandas in /usr/local/lib/python3.6/dist-packages (from deepcut) (0.25.3)\n",
            "Requirement already satisfied: scikit-learn in /usr/local/lib/python3.6/dist-packages (from deepcut) (0.22.2.post1)\n",
            "Requirement already satisfied: numpy in /usr/local/lib/python3.6/dist-packages (from deepcut) (1.18.2)\n",
            "Requirement already satisfied: tensorflow>=2.0.0 in /usr/local/lib/python3.6/dist-packages (from deepcut) (2.1.0)\n",
            "Requirement already satisfied: h5py in /usr/local/lib/python3.6/dist-packages (from deepcut) (2.8.0)\n",
            "Requirement already satisfied: scipy in /usr/local/lib/python3.6/dist-packages (from deepcut) (1.4.1)\n",
            "Requirement already satisfied: pytz>=2017.2 in /usr/local/lib/python3.6/dist-packages (from pandas->deepcut) (2018.9)\n",
            "Requirement already satisfied: python-dateutil>=2.6.1 in /usr/local/lib/python3.6/dist-packages (from pandas->deepcut) (2.8.1)\n",
            "Requirement already satisfied: joblib>=0.11 in /usr/local/lib/python3.6/dist-packages (from scikit-learn->deepcut) (0.14.1)\n",
            "Requirement already satisfied: absl-py>=0.7.0 in /usr/local/lib/python3.6/dist-packages (from tensorflow>=2.0.0->deepcut) (0.9.0)\n",
            "Requirement already satisfied: keras-preprocessing>=1.1.0 in /usr/local/lib/python3.6/dist-packages (from tensorflow>=2.0.0->deepcut) (1.1.0)\n",
            "Requirement already satisfied: google-pasta>=0.1.6 in /usr/local/lib/python3.6/dist-packages (from tensorflow>=2.0.0->deepcut) (0.2.0)\n",
            "Requirement already satisfied: protobuf>=3.8.0 in /usr/local/lib/python3.6/dist-packages (from tensorflow>=2.0.0->deepcut) (3.10.0)\n",
            "Requirement already satisfied: grpcio>=1.8.6 in /usr/local/lib/python3.6/dist-packages (from tensorflow>=2.0.0->deepcut) (1.24.3)\n",
            "Requirement already satisfied: termcolor>=1.1.0 in /usr/local/lib/python3.6/dist-packages (from tensorflow>=2.0.0->deepcut) (1.1.0)\n",
            "Requirement already satisfied: wheel>=0.26; python_version >= \"3\" in /usr/local/lib/python3.6/dist-packages (from tensorflow>=2.0.0->deepcut) (0.34.2)\n",
            "Requirement already satisfied: keras-applications>=1.0.8 in /usr/local/lib/python3.6/dist-packages (from tensorflow>=2.0.0->deepcut) (1.0.8)\n",
            "Requirement already satisfied: tensorboard<2.2.0,>=2.1.0 in /usr/local/lib/python3.6/dist-packages (from tensorflow>=2.0.0->deepcut) (2.1.1)\n",
            "Requirement already satisfied: opt-einsum>=2.3.2 in /usr/local/lib/python3.6/dist-packages (from tensorflow>=2.0.0->deepcut) (3.2.0)\n",
            "Requirement already satisfied: tensorflow-estimator<2.2.0,>=2.1.0rc0 in /usr/local/lib/python3.6/dist-packages (from tensorflow>=2.0.0->deepcut) (2.1.0)\n",
            "Requirement already satisfied: six>=1.12.0 in /usr/local/lib/python3.6/dist-packages (from tensorflow>=2.0.0->deepcut) (1.12.0)\n",
            "Requirement already satisfied: gast==0.2.2 in /usr/local/lib/python3.6/dist-packages (from tensorflow>=2.0.0->deepcut) (0.2.2)\n",
            "Requirement already satisfied: wrapt>=1.11.1 in /usr/local/lib/python3.6/dist-packages (from tensorflow>=2.0.0->deepcut) (1.12.1)\n",
            "Requirement already satisfied: astor>=0.6.0 in /usr/local/lib/python3.6/dist-packages (from tensorflow>=2.0.0->deepcut) (0.8.1)\n",
            "Requirement already satisfied: setuptools in /usr/local/lib/python3.6/dist-packages (from protobuf>=3.8.0->tensorflow>=2.0.0->deepcut) (46.0.0)\n",
            "Requirement already satisfied: requests<3,>=2.21.0 in /usr/local/lib/python3.6/dist-packages (from tensorboard<2.2.0,>=2.1.0->tensorflow>=2.0.0->deepcut) (2.23.0)\n",
            "Requirement already satisfied: google-auth<2,>=1.6.3 in /usr/local/lib/python3.6/dist-packages (from tensorboard<2.2.0,>=2.1.0->tensorflow>=2.0.0->deepcut) (1.7.2)\n",
            "Requirement already satisfied: markdown>=2.6.8 in /usr/local/lib/python3.6/dist-packages (from tensorboard<2.2.0,>=2.1.0->tensorflow>=2.0.0->deepcut) (3.2.1)\n",
            "Requirement already satisfied: google-auth-oauthlib<0.5,>=0.4.1 in /usr/local/lib/python3.6/dist-packages (from tensorboard<2.2.0,>=2.1.0->tensorflow>=2.0.0->deepcut) (0.4.1)\n",
            "Requirement already satisfied: werkzeug>=0.11.15 in /usr/local/lib/python3.6/dist-packages (from tensorboard<2.2.0,>=2.1.0->tensorflow>=2.0.0->deepcut) (1.0.0)\n",
            "Requirement already satisfied: idna<3,>=2.5 in /usr/local/lib/python3.6/dist-packages (from requests<3,>=2.21.0->tensorboard<2.2.0,>=2.1.0->tensorflow>=2.0.0->deepcut) (2.8)\n",
            "Requirement already satisfied: certifi>=2017.4.17 in /usr/local/lib/python3.6/dist-packages (from requests<3,>=2.21.0->tensorboard<2.2.0,>=2.1.0->tensorflow>=2.0.0->deepcut) (2019.11.28)\n",
            "Requirement already satisfied: chardet<4,>=3.0.2 in /usr/local/lib/python3.6/dist-packages (from requests<3,>=2.21.0->tensorboard<2.2.0,>=2.1.0->tensorflow>=2.0.0->deepcut) (3.0.4)\n",
            "Requirement already satisfied: urllib3!=1.25.0,!=1.25.1,<1.26,>=1.21.1 in /usr/local/lib/python3.6/dist-packages (from requests<3,>=2.21.0->tensorboard<2.2.0,>=2.1.0->tensorflow>=2.0.0->deepcut) (1.24.3)\n",
            "Requirement already satisfied: rsa<4.1,>=3.1.4 in /usr/local/lib/python3.6/dist-packages (from google-auth<2,>=1.6.3->tensorboard<2.2.0,>=2.1.0->tensorflow>=2.0.0->deepcut) (4.0)\n",
            "Requirement already satisfied: cachetools<3.2,>=2.0.0 in /usr/local/lib/python3.6/dist-packages (from google-auth<2,>=1.6.3->tensorboard<2.2.0,>=2.1.0->tensorflow>=2.0.0->deepcut) (3.1.1)\n",
            "Requirement already satisfied: pyasn1-modules>=0.2.1 in /usr/local/lib/python3.6/dist-packages (from google-auth<2,>=1.6.3->tensorboard<2.2.0,>=2.1.0->tensorflow>=2.0.0->deepcut) (0.2.8)\n",
            "Requirement already satisfied: requests-oauthlib>=0.7.0 in /usr/local/lib/python3.6/dist-packages (from google-auth-oauthlib<0.5,>=0.4.1->tensorboard<2.2.0,>=2.1.0->tensorflow>=2.0.0->deepcut) (1.3.0)\n",
            "Requirement already satisfied: pyasn1>=0.1.3 in /usr/local/lib/python3.6/dist-packages (from rsa<4.1,>=3.1.4->google-auth<2,>=1.6.3->tensorboard<2.2.0,>=2.1.0->tensorflow>=2.0.0->deepcut) (0.4.8)\n",
            "Requirement already satisfied: oauthlib>=3.0.0 in /usr/local/lib/python3.6/dist-packages (from requests-oauthlib>=0.7.0->google-auth-oauthlib<0.5,>=0.4.1->tensorboard<2.2.0,>=2.1.0->tensorflow>=2.0.0->deepcut) (3.1.0)\n"
          ],
          "name": "stdout"
        }
      ]
    },
    {
      "cell_type": "code",
      "metadata": {
        "id": "aFSn2mGGZ_oJ",
        "colab_type": "code",
        "outputId": "cff08fd4-811d-4b69-e0d3-7922e37f680b",
        "colab": {
          "base_uri": "https://localhost:8080/",
          "height": 34
        }
      },
      "source": [
        "!pip install emoji"
      ],
      "execution_count": 0,
      "outputs": [
        {
          "output_type": "stream",
          "text": [
            "Requirement already satisfied: emoji in /usr/local/lib/python3.6/dist-packages (0.5.4)\n"
          ],
          "name": "stdout"
        }
      ]
    },
    {
      "cell_type": "code",
      "metadata": {
        "id": "Ojw_d0orNJwT",
        "colab_type": "code",
        "outputId": "2b57b3df-422e-4fb9-8855-454c4f4ddfe7",
        "colab": {
          "base_uri": "https://localhost:8080/",
          "height": 1000
        }
      },
      "source": [
        "!pip install -U git+git://github.com/Computational-Content-Analysis-2020/lucem_illud_2020.git"
      ],
      "execution_count": 0,
      "outputs": [
        {
          "output_type": "stream",
          "text": [
            "Collecting git+git://github.com/Computational-Content-Analysis-2020/lucem_illud_2020.git\n",
            "  Cloning git://github.com/Computational-Content-Analysis-2020/lucem_illud_2020.git to /tmp/pip-req-build-nima8n8u\n",
            "  Running command git clone -q git://github.com/Computational-Content-Analysis-2020/lucem_illud_2020.git /tmp/pip-req-build-nima8n8u\n",
            "Requirement already satisfied, skipping upgrade: numpy in /usr/local/lib/python3.6/dist-packages (from lucem-illud-2020==8.0.1) (1.18.2)\n",
            "Requirement already satisfied, skipping upgrade: requests in /usr/local/lib/python3.6/dist-packages (from lucem-illud-2020==8.0.1) (2.23.0)\n",
            "Requirement already satisfied, skipping upgrade: pandas in /usr/local/lib/python3.6/dist-packages (from lucem-illud-2020==8.0.1) (0.25.3)\n",
            "Collecting python-docx\n",
            "\u001b[?25l  Downloading https://files.pythonhosted.org/packages/e4/83/c66a1934ed5ed8ab1dbb9931f1779079f8bca0f6bbc5793c06c4b5e7d671/python-docx-0.8.10.tar.gz (5.5MB)\n",
            "\u001b[K     |████████████████████████████████| 5.5MB 4.3MB/s \n",
            "\u001b[?25hRequirement already satisfied, skipping upgrade: pillow in /usr/local/lib/python3.6/dist-packages (from lucem-illud-2020==8.0.1) (7.0.0)\n",
            "Collecting pdfminer2\n",
            "\u001b[?25l  Downloading https://files.pythonhosted.org/packages/fa/97/bd2a2de878438c27ffd710b5d6562c7a0230b0f3ca86059ec635ed231eb1/pdfminer2-20151206-py2.py3-none-any.whl (117kB)\n",
            "\u001b[K     |████████████████████████████████| 122kB 48.0MB/s \n",
            "\u001b[?25hCollecting GitPython\n",
            "\u001b[?25l  Downloading https://files.pythonhosted.org/packages/d3/2f/6a366d56c9b1355b0880be9ea66b166cb3536392638d8d91413ec66305ad/GitPython-3.1.0-py3-none-any.whl (450kB)\n",
            "\u001b[K     |████████████████████████████████| 460kB 51.9MB/s \n",
            "\u001b[?25hRequirement already satisfied, skipping upgrade: wordcloud in /usr/local/lib/python3.6/dist-packages (from lucem-illud-2020==8.0.1) (1.5.0)\n",
            "Requirement already satisfied, skipping upgrade: scipy in /usr/local/lib/python3.6/dist-packages (from lucem-illud-2020==8.0.1) (1.4.1)\n",
            "Requirement already satisfied, skipping upgrade: seaborn in /usr/local/lib/python3.6/dist-packages (from lucem-illud-2020==8.0.1) (0.10.0)\n",
            "Requirement already satisfied, skipping upgrade: scikit-learn in /usr/local/lib/python3.6/dist-packages (from lucem-illud-2020==8.0.1) (0.22.2.post1)\n",
            "Requirement already satisfied, skipping upgrade: nltk in /usr/local/lib/python3.6/dist-packages (from lucem-illud-2020==8.0.1) (3.4.5)\n",
            "Requirement already satisfied, skipping upgrade: gensim in /usr/local/lib/python3.6/dist-packages (from lucem-illud-2020==8.0.1) (3.6.0)\n",
            "Requirement already satisfied, skipping upgrade: matplotlib in /usr/local/lib/python3.6/dist-packages (from lucem-illud-2020==8.0.1) (3.2.0)\n",
            "Collecting pyanno3\n",
            "\u001b[?25l  Downloading https://files.pythonhosted.org/packages/c5/1a/ee2b136ea0283adb2a9302c29594127f84b6e34cb0b02b91c63bed0a534b/pyanno3-2.0.2.tar.gz (76kB)\n",
            "\u001b[K     |████████████████████████████████| 81kB 11.4MB/s \n",
            "\u001b[?25hRequirement already satisfied, skipping upgrade: beautifulsoup4 in /usr/local/lib/python3.6/dist-packages (from lucem-illud-2020==8.0.1) (4.6.3)\n",
            "Requirement already satisfied, skipping upgrade: graphviz in /usr/local/lib/python3.6/dist-packages (from lucem-illud-2020==8.0.1) (0.10.1)\n",
            "Requirement already satisfied, skipping upgrade: boto3 in /usr/local/lib/python3.6/dist-packages (from lucem-illud-2020==8.0.1) (1.12.23)\n",
            "Requirement already satisfied, skipping upgrade: networkx in /usr/local/lib/python3.6/dist-packages (from lucem-illud-2020==8.0.1) (2.4)\n",
            "Collecting pydub\n",
            "  Downloading https://files.pythonhosted.org/packages/79/db/eaf620b73a1eec3c8c6f8f5b0b236a50f9da88ad57802154b7ba7664d0b8/pydub-0.23.1-py2.py3-none-any.whl\n",
            "Collecting speechrecognition\n",
            "\u001b[?25l  Downloading https://files.pythonhosted.org/packages/26/e1/7f5678cd94ec1234269d23756dbdaa4c8cfaed973412f88ae8adf7893a50/SpeechRecognition-3.8.1-py2.py3-none-any.whl (32.8MB)\n",
            "\u001b[K     |████████████████████████████████| 32.8MB 124kB/s \n",
            "\u001b[?25hCollecting pysoundfile\n",
            "  Downloading https://files.pythonhosted.org/packages/2a/b3/0b871e5fd31b9a8e54b4ee359384e705a1ca1e2870706d2f081dc7cc1693/PySoundFile-0.9.0.post1-py2.py3-none-any.whl\n",
            "Requirement already satisfied, skipping upgrade: scikit-image in /usr/local/lib/python3.6/dist-packages (from lucem-illud-2020==8.0.1) (0.16.2)\n",
            "Requirement already satisfied, skipping upgrade: IPython in /usr/local/lib/python3.6/dist-packages (from lucem-illud-2020==8.0.1) (5.5.0)\n",
            "Requirement already satisfied, skipping upgrade: spacy in /usr/local/lib/python3.6/dist-packages (from lucem-illud-2020==8.0.1) (2.2.4)\n",
            "Collecting transformers==2.4.1\n",
            "\u001b[?25l  Downloading https://files.pythonhosted.org/packages/ee/fc/bd726a15ab2c66dc09306689d04da07a3770dad724f0883f0a4bfb745087/transformers-2.4.1-py3-none-any.whl (475kB)\n",
            "\u001b[K     |████████████████████████████████| 481kB 47.2MB/s \n",
            "\u001b[?25hRequirement already satisfied, skipping upgrade: torch in /usr/local/lib/python3.6/dist-packages (from lucem-illud-2020==8.0.1) (1.4.0)\n",
            "Requirement already satisfied, skipping upgrade: tensorflow in /usr/local/lib/python3.6/dist-packages (from lucem-illud-2020==8.0.1) (2.1.0)\n",
            "Requirement already satisfied, skipping upgrade: keras in /usr/local/lib/python3.6/dist-packages (from lucem-illud-2020==8.0.1) (2.2.5)\n",
            "Requirement already satisfied, skipping upgrade: idna<3,>=2.5 in /usr/local/lib/python3.6/dist-packages (from requests->lucem-illud-2020==8.0.1) (2.8)\n",
            "Requirement already satisfied, skipping upgrade: chardet<4,>=3.0.2 in /usr/local/lib/python3.6/dist-packages (from requests->lucem-illud-2020==8.0.1) (3.0.4)\n",
            "Requirement already satisfied, skipping upgrade: urllib3!=1.25.0,!=1.25.1,<1.26,>=1.21.1 in /usr/local/lib/python3.6/dist-packages (from requests->lucem-illud-2020==8.0.1) (1.24.3)\n",
            "Requirement already satisfied, skipping upgrade: certifi>=2017.4.17 in /usr/local/lib/python3.6/dist-packages (from requests->lucem-illud-2020==8.0.1) (2019.11.28)\n",
            "Requirement already satisfied, skipping upgrade: pytz>=2017.2 in /usr/local/lib/python3.6/dist-packages (from pandas->lucem-illud-2020==8.0.1) (2018.9)\n",
            "Requirement already satisfied, skipping upgrade: python-dateutil>=2.6.1 in /usr/local/lib/python3.6/dist-packages (from pandas->lucem-illud-2020==8.0.1) (2.8.1)\n",
            "Requirement already satisfied, skipping upgrade: lxml>=2.3.2 in /usr/local/lib/python3.6/dist-packages (from python-docx->lucem-illud-2020==8.0.1) (4.2.6)\n",
            "Requirement already satisfied, skipping upgrade: six in /usr/local/lib/python3.6/dist-packages (from pdfminer2->lucem-illud-2020==8.0.1) (1.12.0)\n",
            "Collecting gitdb<5,>=4.0.1\n",
            "\u001b[?25l  Downloading https://files.pythonhosted.org/packages/1e/f5/8f84b3bf9d94bdf2454a302f2fa375832b53660ea532586b8a55ff16ae9a/gitdb-4.0.2-py3-none-any.whl (63kB)\n",
            "\u001b[K     |████████████████████████████████| 71kB 10.3MB/s \n",
            "\u001b[?25hRequirement already satisfied, skipping upgrade: joblib>=0.11 in /usr/local/lib/python3.6/dist-packages (from scikit-learn->lucem-illud-2020==8.0.1) (0.14.1)\n",
            "Requirement already satisfied, skipping upgrade: smart-open>=1.2.1 in /usr/local/lib/python3.6/dist-packages (from gensim->lucem-illud-2020==8.0.1) (1.10.0)\n",
            "Requirement already satisfied, skipping upgrade: kiwisolver>=1.0.1 in /usr/local/lib/python3.6/dist-packages (from matplotlib->lucem-illud-2020==8.0.1) (1.1.0)\n",
            "Requirement already satisfied, skipping upgrade: pyparsing!=2.0.4,!=2.1.2,!=2.1.6,>=2.0.1 in /usr/local/lib/python3.6/dist-packages (from matplotlib->lucem-illud-2020==8.0.1) (2.4.6)\n",
            "Requirement already satisfied, skipping upgrade: cycler>=0.10 in /usr/local/lib/python3.6/dist-packages (from matplotlib->lucem-illud-2020==8.0.1) (0.10.0)\n",
            "Collecting traits\n",
            "\u001b[?25l  Downloading https://files.pythonhosted.org/packages/b9/af/c6dc88130106d69e4f9a192043c85ed4cb522f83b9041b8691f0b0678405/traits-6.0.0.tar.gz (441kB)\n",
            "\u001b[K     |████████████████████████████████| 450kB 52.2MB/s \n",
            "\u001b[?25hRequirement already satisfied, skipping upgrade: jmespath<1.0.0,>=0.7.1 in /usr/local/lib/python3.6/dist-packages (from boto3->lucem-illud-2020==8.0.1) (0.9.5)\n",
            "Requirement already satisfied, skipping upgrade: botocore<1.16.0,>=1.15.23 in /usr/local/lib/python3.6/dist-packages (from boto3->lucem-illud-2020==8.0.1) (1.15.23)\n",
            "Requirement already satisfied, skipping upgrade: s3transfer<0.4.0,>=0.3.0 in /usr/local/lib/python3.6/dist-packages (from boto3->lucem-illud-2020==8.0.1) (0.3.3)\n",
            "Requirement already satisfied, skipping upgrade: decorator>=4.3.0 in /usr/local/lib/python3.6/dist-packages (from networkx->lucem-illud-2020==8.0.1) (4.4.2)\n",
            "Requirement already satisfied, skipping upgrade: cffi>=0.6 in /usr/local/lib/python3.6/dist-packages (from pysoundfile->lucem-illud-2020==8.0.1) (1.14.0)\n",
            "Requirement already satisfied, skipping upgrade: PyWavelets>=0.4.0 in /usr/local/lib/python3.6/dist-packages (from scikit-image->lucem-illud-2020==8.0.1) (1.1.1)\n",
            "Requirement already satisfied, skipping upgrade: imageio>=2.3.0 in /usr/local/lib/python3.6/dist-packages (from scikit-image->lucem-illud-2020==8.0.1) (2.4.1)\n",
            "Requirement already satisfied, skipping upgrade: traitlets>=4.2 in /usr/local/lib/python3.6/dist-packages (from IPython->lucem-illud-2020==8.0.1) (4.3.3)\n",
            "Requirement already satisfied, skipping upgrade: pygments in /usr/local/lib/python3.6/dist-packages (from IPython->lucem-illud-2020==8.0.1) (2.1.3)\n",
            "Requirement already satisfied, skipping upgrade: setuptools>=18.5 in /usr/local/lib/python3.6/dist-packages (from IPython->lucem-illud-2020==8.0.1) (46.0.0)\n",
            "Requirement already satisfied, skipping upgrade: simplegeneric>0.8 in /usr/local/lib/python3.6/dist-packages (from IPython->lucem-illud-2020==8.0.1) (0.8.1)\n",
            "Requirement already satisfied, skipping upgrade: pickleshare in /usr/local/lib/python3.6/dist-packages (from IPython->lucem-illud-2020==8.0.1) (0.7.5)\n",
            "Requirement already satisfied, skipping upgrade: pexpect; sys_platform != \"win32\" in /usr/local/lib/python3.6/dist-packages (from IPython->lucem-illud-2020==8.0.1) (4.8.0)\n",
            "Requirement already satisfied, skipping upgrade: prompt-toolkit<2.0.0,>=1.0.4 in /usr/local/lib/python3.6/dist-packages (from IPython->lucem-illud-2020==8.0.1) (1.0.18)\n",
            "Requirement already satisfied, skipping upgrade: tqdm<5.0.0,>=4.38.0 in /usr/local/lib/python3.6/dist-packages (from spacy->lucem-illud-2020==8.0.1) (4.38.0)\n",
            "Requirement already satisfied, skipping upgrade: plac<1.2.0,>=0.9.6 in /usr/local/lib/python3.6/dist-packages (from spacy->lucem-illud-2020==8.0.1) (1.1.3)\n",
            "Requirement already satisfied, skipping upgrade: wasabi<1.1.0,>=0.4.0 in /usr/local/lib/python3.6/dist-packages (from spacy->lucem-illud-2020==8.0.1) (0.6.0)\n",
            "Requirement already satisfied, skipping upgrade: murmurhash<1.1.0,>=0.28.0 in /usr/local/lib/python3.6/dist-packages (from spacy->lucem-illud-2020==8.0.1) (1.0.2)\n",
            "Requirement already satisfied, skipping upgrade: cymem<2.1.0,>=2.0.2 in /usr/local/lib/python3.6/dist-packages (from spacy->lucem-illud-2020==8.0.1) (2.0.3)\n",
            "Requirement already satisfied, skipping upgrade: srsly<1.1.0,>=1.0.2 in /usr/local/lib/python3.6/dist-packages (from spacy->lucem-illud-2020==8.0.1) (1.0.2)\n",
            "Requirement already satisfied, skipping upgrade: catalogue<1.1.0,>=0.0.7 in /usr/local/lib/python3.6/dist-packages (from spacy->lucem-illud-2020==8.0.1) (1.0.0)\n",
            "Requirement already satisfied, skipping upgrade: thinc==7.4.0 in /usr/local/lib/python3.6/dist-packages (from spacy->lucem-illud-2020==8.0.1) (7.4.0)\n",
            "Requirement already satisfied, skipping upgrade: preshed<3.1.0,>=3.0.2 in /usr/local/lib/python3.6/dist-packages (from spacy->lucem-illud-2020==8.0.1) (3.0.2)\n",
            "Requirement already satisfied, skipping upgrade: blis<0.5.0,>=0.4.0 in /usr/local/lib/python3.6/dist-packages (from spacy->lucem-illud-2020==8.0.1) (0.4.1)\n",
            "Collecting tokenizers==0.0.11\n",
            "\u001b[?25l  Downloading https://files.pythonhosted.org/packages/5e/36/7af38d572c935f8e0462ec7b4f7a46d73a2b3b1a938f50a5e8132d5b2dc5/tokenizers-0.0.11-cp36-cp36m-manylinux1_x86_64.whl (3.1MB)\n",
            "\u001b[K     |████████████████████████████████| 3.1MB 36.7MB/s \n",
            "\u001b[?25hCollecting sacremoses\n",
            "\u001b[?25l  Downloading https://files.pythonhosted.org/packages/a6/b4/7a41d630547a4afd58143597d5a49e07bfd4c42914d8335b2a5657efc14b/sacremoses-0.0.38.tar.gz (860kB)\n",
            "\u001b[K     |████████████████████████████████| 870kB 52.8MB/s \n",
            "\u001b[?25hRequirement already satisfied, skipping upgrade: regex!=2019.12.17 in /usr/local/lib/python3.6/dist-packages (from transformers==2.4.1->lucem-illud-2020==8.0.1) (2019.12.20)\n",
            "Requirement already satisfied, skipping upgrade: filelock in /usr/local/lib/python3.6/dist-packages (from transformers==2.4.1->lucem-illud-2020==8.0.1) (3.0.12)\n",
            "Collecting sentencepiece\n",
            "\u001b[?25l  Downloading https://files.pythonhosted.org/packages/74/f4/2d5214cbf13d06e7cb2c20d84115ca25b53ea76fa1f0ade0e3c9749de214/sentencepiece-0.1.85-cp36-cp36m-manylinux1_x86_64.whl (1.0MB)\n",
            "\u001b[K     |████████████████████████████████| 1.0MB 39.1MB/s \n",
            "\u001b[?25hRequirement already satisfied, skipping upgrade: grpcio>=1.8.6 in /usr/local/lib/python3.6/dist-packages (from tensorflow->lucem-illud-2020==8.0.1) (1.24.3)\n",
            "Requirement already satisfied, skipping upgrade: keras-applications>=1.0.8 in /usr/local/lib/python3.6/dist-packages (from tensorflow->lucem-illud-2020==8.0.1) (1.0.8)\n",
            "Requirement already satisfied, skipping upgrade: keras-preprocessing>=1.1.0 in /usr/local/lib/python3.6/dist-packages (from tensorflow->lucem-illud-2020==8.0.1) (1.1.0)\n",
            "Requirement already satisfied, skipping upgrade: tensorboard<2.2.0,>=2.1.0 in /usr/local/lib/python3.6/dist-packages (from tensorflow->lucem-illud-2020==8.0.1) (2.1.1)\n",
            "Requirement already satisfied, skipping upgrade: google-pasta>=0.1.6 in /usr/local/lib/python3.6/dist-packages (from tensorflow->lucem-illud-2020==8.0.1) (0.2.0)\n",
            "Requirement already satisfied, skipping upgrade: tensorflow-estimator<2.2.0,>=2.1.0rc0 in /usr/local/lib/python3.6/dist-packages (from tensorflow->lucem-illud-2020==8.0.1) (2.1.0)\n",
            "Requirement already satisfied, skipping upgrade: protobuf>=3.8.0 in /usr/local/lib/python3.6/dist-packages (from tensorflow->lucem-illud-2020==8.0.1) (3.10.0)\n",
            "Requirement already satisfied, skipping upgrade: absl-py>=0.7.0 in /usr/local/lib/python3.6/dist-packages (from tensorflow->lucem-illud-2020==8.0.1) (0.9.0)\n",
            "Requirement already satisfied, skipping upgrade: wheel>=0.26; python_version >= \"3\" in /usr/local/lib/python3.6/dist-packages (from tensorflow->lucem-illud-2020==8.0.1) (0.34.2)\n",
            "Requirement already satisfied, skipping upgrade: termcolor>=1.1.0 in /usr/local/lib/python3.6/dist-packages (from tensorflow->lucem-illud-2020==8.0.1) (1.1.0)\n",
            "Requirement already satisfied, skipping upgrade: wrapt>=1.11.1 in /usr/local/lib/python3.6/dist-packages (from tensorflow->lucem-illud-2020==8.0.1) (1.12.1)\n",
            "Requirement already satisfied, skipping upgrade: astor>=0.6.0 in /usr/local/lib/python3.6/dist-packages (from tensorflow->lucem-illud-2020==8.0.1) (0.8.1)\n",
            "Requirement already satisfied, skipping upgrade: gast==0.2.2 in /usr/local/lib/python3.6/dist-packages (from tensorflow->lucem-illud-2020==8.0.1) (0.2.2)\n",
            "Requirement already satisfied, skipping upgrade: opt-einsum>=2.3.2 in /usr/local/lib/python3.6/dist-packages (from tensorflow->lucem-illud-2020==8.0.1) (3.2.0)\n",
            "Requirement already satisfied, skipping upgrade: pyyaml in /usr/local/lib/python3.6/dist-packages (from keras->lucem-illud-2020==8.0.1) (3.13)\n",
            "Requirement already satisfied, skipping upgrade: h5py in /usr/local/lib/python3.6/dist-packages (from keras->lucem-illud-2020==8.0.1) (2.8.0)\n",
            "Collecting smmap<4,>=3.0.1\n",
            "  Downloading https://files.pythonhosted.org/packages/35/d2/27777ab463cd44842c78305fa8097dfba0d94768abbb7e1c4d88f1fa1a0b/smmap-3.0.1-py2.py3-none-any.whl\n",
            "Requirement already satisfied, skipping upgrade: google-cloud-storage in /usr/local/lib/python3.6/dist-packages (from smart-open>=1.2.1->gensim->lucem-illud-2020==8.0.1) (1.16.2)\n",
            "Requirement already satisfied, skipping upgrade: docutils<0.16,>=0.10 in /usr/local/lib/python3.6/dist-packages (from botocore<1.16.0,>=1.15.23->boto3->lucem-illud-2020==8.0.1) (0.15.2)\n",
            "Requirement already satisfied, skipping upgrade: pycparser in /usr/local/lib/python3.6/dist-packages (from cffi>=0.6->pysoundfile->lucem-illud-2020==8.0.1) (2.20)\n",
            "Requirement already satisfied, skipping upgrade: ipython-genutils in /usr/local/lib/python3.6/dist-packages (from traitlets>=4.2->IPython->lucem-illud-2020==8.0.1) (0.2.0)\n",
            "Requirement already satisfied, skipping upgrade: ptyprocess>=0.5 in /usr/local/lib/python3.6/dist-packages (from pexpect; sys_platform != \"win32\"->IPython->lucem-illud-2020==8.0.1) (0.6.0)\n",
            "Requirement already satisfied, skipping upgrade: wcwidth in /usr/local/lib/python3.6/dist-packages (from prompt-toolkit<2.0.0,>=1.0.4->IPython->lucem-illud-2020==8.0.1) (0.1.8)\n",
            "Requirement already satisfied, skipping upgrade: importlib-metadata>=0.20; python_version < \"3.8\" in /usr/local/lib/python3.6/dist-packages (from catalogue<1.1.0,>=0.0.7->spacy->lucem-illud-2020==8.0.1) (1.5.0)\n",
            "Requirement already satisfied, skipping upgrade: click in /usr/local/lib/python3.6/dist-packages (from sacremoses->transformers==2.4.1->lucem-illud-2020==8.0.1) (7.1.1)\n",
            "Requirement already satisfied, skipping upgrade: google-auth-oauthlib<0.5,>=0.4.1 in /usr/local/lib/python3.6/dist-packages (from tensorboard<2.2.0,>=2.1.0->tensorflow->lucem-illud-2020==8.0.1) (0.4.1)\n",
            "Requirement already satisfied, skipping upgrade: google-auth<2,>=1.6.3 in /usr/local/lib/python3.6/dist-packages (from tensorboard<2.2.0,>=2.1.0->tensorflow->lucem-illud-2020==8.0.1) (1.7.2)\n",
            "Requirement already satisfied, skipping upgrade: markdown>=2.6.8 in /usr/local/lib/python3.6/dist-packages (from tensorboard<2.2.0,>=2.1.0->tensorflow->lucem-illud-2020==8.0.1) (3.2.1)\n",
            "Requirement already satisfied, skipping upgrade: werkzeug>=0.11.15 in /usr/local/lib/python3.6/dist-packages (from tensorboard<2.2.0,>=2.1.0->tensorflow->lucem-illud-2020==8.0.1) (1.0.0)\n",
            "Requirement already satisfied, skipping upgrade: google-resumable-media<0.5.0dev,>=0.3.1 in /usr/local/lib/python3.6/dist-packages (from google-cloud-storage->smart-open>=1.2.1->gensim->lucem-illud-2020==8.0.1) (0.4.1)\n",
            "Requirement already satisfied, skipping upgrade: google-cloud-core<2.0dev,>=1.0.0 in /usr/local/lib/python3.6/dist-packages (from google-cloud-storage->smart-open>=1.2.1->gensim->lucem-illud-2020==8.0.1) (1.0.3)\n",
            "Requirement already satisfied, skipping upgrade: zipp>=0.5 in /usr/local/lib/python3.6/dist-packages (from importlib-metadata>=0.20; python_version < \"3.8\"->catalogue<1.1.0,>=0.0.7->spacy->lucem-illud-2020==8.0.1) (3.1.0)\n",
            "Requirement already satisfied, skipping upgrade: requests-oauthlib>=0.7.0 in /usr/local/lib/python3.6/dist-packages (from google-auth-oauthlib<0.5,>=0.4.1->tensorboard<2.2.0,>=2.1.0->tensorflow->lucem-illud-2020==8.0.1) (1.3.0)\n",
            "Requirement already satisfied, skipping upgrade: pyasn1-modules>=0.2.1 in /usr/local/lib/python3.6/dist-packages (from google-auth<2,>=1.6.3->tensorboard<2.2.0,>=2.1.0->tensorflow->lucem-illud-2020==8.0.1) (0.2.8)\n",
            "Requirement already satisfied, skipping upgrade: rsa<4.1,>=3.1.4 in /usr/local/lib/python3.6/dist-packages (from google-auth<2,>=1.6.3->tensorboard<2.2.0,>=2.1.0->tensorflow->lucem-illud-2020==8.0.1) (4.0)\n",
            "Requirement already satisfied, skipping upgrade: cachetools<3.2,>=2.0.0 in /usr/local/lib/python3.6/dist-packages (from google-auth<2,>=1.6.3->tensorboard<2.2.0,>=2.1.0->tensorflow->lucem-illud-2020==8.0.1) (3.1.1)\n",
            "Requirement already satisfied, skipping upgrade: google-api-core<2.0.0dev,>=1.14.0 in /usr/local/lib/python3.6/dist-packages (from google-cloud-core<2.0dev,>=1.0.0->google-cloud-storage->smart-open>=1.2.1->gensim->lucem-illud-2020==8.0.1) (1.16.0)\n",
            "Requirement already satisfied, skipping upgrade: oauthlib>=3.0.0 in /usr/local/lib/python3.6/dist-packages (from requests-oauthlib>=0.7.0->google-auth-oauthlib<0.5,>=0.4.1->tensorboard<2.2.0,>=2.1.0->tensorflow->lucem-illud-2020==8.0.1) (3.1.0)\n",
            "Requirement already satisfied, skipping upgrade: pyasn1<0.5.0,>=0.4.6 in /usr/local/lib/python3.6/dist-packages (from pyasn1-modules>=0.2.1->google-auth<2,>=1.6.3->tensorboard<2.2.0,>=2.1.0->tensorflow->lucem-illud-2020==8.0.1) (0.4.8)\n",
            "Requirement already satisfied, skipping upgrade: googleapis-common-protos<2.0dev,>=1.6.0 in /usr/local/lib/python3.6/dist-packages (from google-api-core<2.0.0dev,>=1.14.0->google-cloud-core<2.0dev,>=1.0.0->google-cloud-storage->smart-open>=1.2.1->gensim->lucem-illud-2020==8.0.1) (1.51.0)\n",
            "Building wheels for collected packages: lucem-illud-2020, python-docx, pyanno3, traits, sacremoses\n",
            "  Building wheel for lucem-illud-2020 (setup.py) ... \u001b[?25l\u001b[?25hdone\n",
            "  Created wheel for lucem-illud-2020: filename=lucem_illud_2020-8.0.1-cp36-none-any.whl size=35151 sha256=d5a81581119dd6566f6adaf6c4023a6702a2d2a7e4c0e6fb44657f9961617c23\n",
            "  Stored in directory: /tmp/pip-ephem-wheel-cache-8locjbvh/wheels/a8/16/91/3c63788e494d360378317fe5ec9f4972f661844af8ae8c26f0\n",
            "  Building wheel for python-docx (setup.py) ... \u001b[?25l\u001b[?25hdone\n",
            "  Created wheel for python-docx: filename=python_docx-0.8.10-cp36-none-any.whl size=184491 sha256=aca3d8718f0e46135eec9ab344fcf7230376f7186d11f2e6e00818dd469708bf\n",
            "  Stored in directory: /root/.cache/pip/wheels/18/0b/a0/1dd62ff812c857c9e487f27d80d53d2b40531bec1acecfa47b\n",
            "  Building wheel for pyanno3 (setup.py) ... \u001b[?25l\u001b[?25hdone\n",
            "  Created wheel for pyanno3: filename=pyanno3-2.0.2-cp36-none-any.whl size=116993 sha256=a07c30aa916a6f36e758bb05055442394df42633b50e030b3ca4677db01df7ca\n",
            "  Stored in directory: /root/.cache/pip/wheels/d8/5d/f6/7c1618b7471ec03ac97f6913baba31ae007003c4fa2bc99855\n",
            "  Building wheel for traits (setup.py) ... \u001b[?25l\u001b[?25hdone\n",
            "  Created wheel for traits: filename=traits-6.0.0-cp36-cp36m-linux_x86_64.whl size=385412 sha256=2e566118486fe5deef6204968e32c72e415d6cd86a753e450834d2fe3f7d6f45\n",
            "  Stored in directory: /root/.cache/pip/wheels/41/a7/f0/d1dfae8d3a4e5638a40818830c741c1c0e9f8a590b9ea22935\n",
            "  Building wheel for sacremoses (setup.py) ... \u001b[?25l\u001b[?25hdone\n",
            "  Created wheel for sacremoses: filename=sacremoses-0.0.38-cp36-none-any.whl size=884628 sha256=c3fb7bd3f19d5f9708e0d30050461e60be398109f91d7924f1b7088057eefca6\n",
            "  Stored in directory: /root/.cache/pip/wheels/6d/ec/1a/21b8912e35e02741306f35f66c785f3afe94de754a0eaf1422\n",
            "Successfully built lucem-illud-2020 python-docx pyanno3 traits sacremoses\n",
            "Installing collected packages: python-docx, pdfminer2, smmap, gitdb, GitPython, traits, pyanno3, pydub, speechrecognition, pysoundfile, tokenizers, sacremoses, sentencepiece, transformers, lucem-illud-2020\n",
            "Successfully installed GitPython-3.1.0 gitdb-4.0.2 lucem-illud-2020-8.0.1 pdfminer2-20151206 pyanno3-2.0.2 pydub-0.23.1 pysoundfile-0.9.0.post1 python-docx-0.8.10 sacremoses-0.0.38 sentencepiece-0.1.85 smmap-3.0.1 speechrecognition-3.8.1 tokenizers-0.0.11 traits-6.0.0 transformers-2.4.1\n"
          ],
          "name": "stdout"
        }
      ]
    },
    {
      "cell_type": "markdown",
      "metadata": {
        "id": "uDRpMtVgKRiY",
        "colab_type": "text"
      },
      "source": [
        "## Import stuff"
      ]
    },
    {
      "cell_type": "code",
      "metadata": {
        "id": "rdL_7v5mHm5Z",
        "colab_type": "code",
        "colab": {}
      },
      "source": [
        "import pandas as pd\n",
        "import deepcut\n",
        "import pythainlp\n",
        "import numpy as np\n",
        "import sklearn\n",
        "import matplotlib.pyplot as plt\n",
        "import matplotlib.cm \n",
        "import seaborn as sns\n",
        "import lucem_illud_2020"
      ],
      "execution_count": 0,
      "outputs": []
    },
    {
      "cell_type": "markdown",
      "metadata": {
        "id": "xRNlgM9WIyFj",
        "colab_type": "text"
      },
      "source": [
        "## Load Files"
      ]
    },
    {
      "cell_type": "code",
      "metadata": {
        "id": "hH4vhFV1IW5K",
        "colab_type": "code",
        "outputId": "7e3a600c-4267-4916-c4cb-6cafdc216f11",
        "colab": {
          "base_uri": "https://localhost:8080/",
          "height": 34
        }
      },
      "source": [
        "f_sample_df = pd.read_csv('sample_train_set.csv', encoding='utf-8')\n",
        "print(f_sample_df.shape)"
      ],
      "execution_count": 0,
      "outputs": [
        {
          "output_type": "stream",
          "text": [
            "(193, 17)\n"
          ],
          "name": "stdout"
        }
      ]
    },
    {
      "cell_type": "code",
      "metadata": {
        "id": "SujkOb32IXFF",
        "colab_type": "code",
        "outputId": "c40afc8b-6b52-42e8-a60b-ae83c9346098",
        "colab": {
          "base_uri": "https://localhost:8080/",
          "height": 34
        }
      },
      "source": [
        "test_df = pd.read_csv('sample_test_set.csv', encoding='utf-8')\n",
        "print(test_df.shape)"
      ],
      "execution_count": 0,
      "outputs": [
        {
          "output_type": "stream",
          "text": [
            "(82, 17)\n"
          ],
          "name": "stdout"
        }
      ]
    },
    {
      "cell_type": "markdown",
      "metadata": {
        "id": "pIzUoKL4I8ET",
        "colab_type": "text"
      },
      "source": [
        "## Pre-processing (tokenization etc.)"
      ]
    },
    {
      "cell_type": "markdown",
      "metadata": {
        "id": "h0hHYpDiKpNz",
        "colab_type": "text"
      },
      "source": [
        "Note on a dicision to be made: should I get rid of hash tags? "
      ]
    },
    {
      "cell_type": "code",
      "metadata": {
        "id": "VTlvxAl_JC2H",
        "colab_type": "code",
        "outputId": "9ed2c7f1-3d18-4ed5-fcb5-6d323cb8e271",
        "colab": {
          "base_uri": "https://localhost:8080/",
          "height": 221
        }
      },
      "source": [
        "f_sample_df['text']"
      ],
      "execution_count": 0,
      "outputs": [
        {
          "output_type": "execute_result",
          "data": {
            "text/plain": [
              "0      สู้ๆ นะครับ เป็นกำลังใจให้ เจ้าหน้าที่ทุกคน มั...\n",
              "1      เพื่อรักษา และ ระวังป้องกัน เจ้าหน้าที่รัฐ ผมด...\n",
              "2      ข่าวปลอม  ไม่จริง ไม่ควรแชร์ต่อ\\n#ไวรัสโคโรนา\\...\n",
              "3      กระผมหนึ่งในพลเมืองคนไทย ขอเป็นกำลังใจให้คุณหม...\n",
              "4      ขอร้องทุกคนช่วยเสพสื่ออย่างมีสติ อย่าแชร์ข่าวป...\n",
              "                             ...                        \n",
              "188    ถ้ายังมั่นใจว่าประเทศไทยคือระบอบประชาธิปไตย คว...\n",
              "189    ทหารใกล้เกษียณ ถ้าอยากอยู่บ้านหลวงฟรีหลังเกษีย...\n",
              "190    เมื่อไหร่ เราจะมีระบบแจ้งเตือน ประมานว่าตอนนี้...\n",
              "191    ติดเทรนด์แถบข้างแล้ว \\nเชี่ย ไอโอ ดูไว้ อันนี้...\n",
              "192    แล้วก็จะมีสื่อโง่ๆแคปไปลง ปชชแห่ให้กำลังใจรัฐบ...\n",
              "Name: text, Length: 193, dtype: object"
            ]
          },
          "metadata": {
            "tags": []
          },
          "execution_count": 10
        }
      ]
    },
    {
      "cell_type": "code",
      "metadata": {
        "id": "o3rKCWzZJC8x",
        "colab_type": "code",
        "outputId": "bca8876b-5eaa-4c1b-f312-c7a13e2d5469",
        "colab": {
          "base_uri": "https://localhost:8080/",
          "height": 221
        }
      },
      "source": [
        "test_df['text']"
      ],
      "execution_count": 0,
      "outputs": [
        {
          "output_type": "execute_result",
          "data": {
            "text/plain": [
              "0     ประเทศไทย ชีวิตดีดีที่ลงตัว #รัฐบาลเตรียมพร้อม...\n",
              "1     มันน่าจะมีวิธีMove onที่ดี สร้างสรรค์และสร้างพ...\n",
              "2     โง่ก็พากันลาออกไปอีควาย ยิ่งอยู่ยิ่งโชว์โง่ #ร...\n",
              "3                          โธ่อีควาย #รัฐบาลเตรียมพร้อม\n",
              "4     #รัฐบาลเตรียมพร้อม เตรียมพร้อมจากไปน่ะสิ ยินดี...\n",
              "                            ...                        \n",
              "77    เตรียมพร้อมอะยัยเหย๋อออออ #รัฐบาลเตรียมพร้อม h...\n",
              "78    พวก IO ก็คงไม่อยากจะโป๊ะแตกหรอก แต่เขาคิดคำมาอ...\n",
              "79    ทหารเป็นได้ทุกอย่าจริงๆ #ไวรัสโคโรนาสายพันธุ์ใ...\n",
              "80    ตามข่าวเเละคัดกรองข่าวดีๆ\\n#ไวรัสโคโรนา\\n#ไวรั...\n",
              "81    3 จังหวัดชายแดนใต้ เจอแบบนี้ทุกวันจนชิน 3จังหว...\n",
              "Name: text, Length: 82, dtype: object"
            ]
          },
          "metadata": {
            "tags": []
          },
          "execution_count": 11
        }
      ]
    },
    {
      "cell_type": "code",
      "metadata": {
        "id": "aDM-HGBNJDDa",
        "colab_type": "code",
        "colab": {}
      },
      "source": [
        "# training set\n",
        "f_sample_df['tokenized_text'] = f_sample_df['text'].apply(lambda x: deepcut.tokenize(x))"
      ],
      "execution_count": 0,
      "outputs": []
    },
    {
      "cell_type": "code",
      "metadata": {
        "id": "Gd-mhEMcLwqJ",
        "colab_type": "code",
        "outputId": "a338c127-2075-4ffb-cd8e-4076e69f9e6a",
        "colab": {
          "base_uri": "https://localhost:8080/",
          "height": 454
        }
      },
      "source": [
        "f_sample_df.tail(2)"
      ],
      "execution_count": 0,
      "outputs": [
        {
          "output_type": "execute_result",
          "data": {
            "text/html": [
              "<div>\n",
              "<style scoped>\n",
              "    .dataframe tbody tr th:only-of-type {\n",
              "        vertical-align: middle;\n",
              "    }\n",
              "\n",
              "    .dataframe tbody tr th {\n",
              "        vertical-align: top;\n",
              "    }\n",
              "\n",
              "    .dataframe thead th {\n",
              "        text-align: right;\n",
              "    }\n",
              "</style>\n",
              "<table border=\"1\" class=\"dataframe\">\n",
              "  <thead>\n",
              "    <tr style=\"text-align: right;\">\n",
              "      <th></th>\n",
              "      <th>coder1</th>\n",
              "      <th>coder2</th>\n",
              "      <th>coder3</th>\n",
              "      <th>screen_name_tweets</th>\n",
              "      <th>fullname</th>\n",
              "      <th>text</th>\n",
              "      <th>timestamp</th>\n",
              "      <th>following</th>\n",
              "      <th>followers</th>\n",
              "      <th>num_tweets</th>\n",
              "      <th>location</th>\n",
              "      <th>num_likes</th>\n",
              "      <th>id</th>\n",
              "      <th>date_joined</th>\n",
              "      <th>num_days_joined</th>\n",
              "      <th>days_on_twitter</th>\n",
              "      <th>is_IO</th>\n",
              "      <th>tokenized_text</th>\n",
              "    </tr>\n",
              "  </thead>\n",
              "  <tbody>\n",
              "    <tr>\n",
              "      <th>191</th>\n",
              "      <td>0</td>\n",
              "      <td>0</td>\n",
              "      <td>0</td>\n",
              "      <td>GrahAnimation</td>\n",
              "      <td>Kritsana Assadong</td>\n",
              "      <td>ติดเทรนด์แถบข้างแล้ว \\nเชี่ย ไอโอ ดูไว้ อันนี้...</td>\n",
              "      <td>2020-02-13 18:06:49</td>\n",
              "      <td>1888</td>\n",
              "      <td>145</td>\n",
              "      <td>2920</td>\n",
              "      <td>Thailand</td>\n",
              "      <td>10527</td>\n",
              "      <td>1029660114158989312</td>\n",
              "      <td>2018-08-15 02:24:00</td>\n",
              "      <td>560 days 21:36:00.000000000</td>\n",
              "      <td>560</td>\n",
              "      <td>0</td>\n",
              "      <td>[ติด, เทรนด์, แถบ, ข้าง, แล้ว,  \\n, เชี่ย,  , ...</td>\n",
              "    </tr>\n",
              "    <tr>\n",
              "      <th>192</th>\n",
              "      <td>0</td>\n",
              "      <td>0</td>\n",
              "      <td>0</td>\n",
              "      <td>eibbbb</td>\n",
              "      <td>เอิ่บ</td>\n",
              "      <td>แล้วก็จะมีสื่อโง่ๆแคปไปลง ปชชแห่ให้กำลังใจรัฐบ...</td>\n",
              "      <td>2020-02-13 18:34:06</td>\n",
              "      <td>542</td>\n",
              "      <td>116</td>\n",
              "      <td>92484</td>\n",
              "      <td>NaN</td>\n",
              "      <td>133900</td>\n",
              "      <td>1107665196254781440</td>\n",
              "      <td>2019-03-18 08:28:00</td>\n",
              "      <td>345 days 15:32:00.000000000</td>\n",
              "      <td>345</td>\n",
              "      <td>0</td>\n",
              "      <td>[แล้ว, ก็, จะ, มี, สื่อ, โง่, ๆ, แคป, ไป, ลง, ...</td>\n",
              "    </tr>\n",
              "  </tbody>\n",
              "</table>\n",
              "</div>"
            ],
            "text/plain": [
              "     coder1  coder2  ...  is_IO                                     tokenized_text\n",
              "191       0       0  ...      0  [ติด, เทรนด์, แถบ, ข้าง, แล้ว,  \\n, เชี่ย,  , ...\n",
              "192       0       0  ...      0  [แล้ว, ก็, จะ, มี, สื่อ, โง่, ๆ, แคป, ไป, ลง, ...\n",
              "\n",
              "[2 rows x 18 columns]"
            ]
          },
          "metadata": {
            "tags": []
          },
          "execution_count": 13
        }
      ]
    },
    {
      "cell_type": "code",
      "metadata": {
        "id": "-NEHlGTcM2Fr",
        "colab_type": "code",
        "outputId": "85fc35e1-76ff-477c-ce92-c96c0521299e",
        "colab": {
          "base_uri": "https://localhost:8080/",
          "height": 561
        }
      },
      "source": [
        "from pythainlp.util import normalize\n",
        "\n",
        "def normalize_words(tokenized_textlist):\n",
        "  normal = []\n",
        "  for word in tokenized_textlist:\n",
        "    if word in ['#', ' ', 'ๆ']:\n",
        "      continue\n",
        "    word = word.strip()\n",
        "    norm_word = normalize(word)\n",
        "    normal.append(norm_word)\n",
        "  return normal\n",
        "\n",
        "# this is an example\n",
        "\n",
        "normal = []\n",
        "for word in f_sample_df.iloc[0]['tokenized_text']:\n",
        "  if word in ['#', ' ', 'ๆ']:\n",
        "    continue\n",
        "  word = word.strip()\n",
        "  norm_word = normalize(word)\n",
        "  normal.append(norm_word)\n",
        "normal"
      ],
      "execution_count": 0,
      "outputs": [
        {
          "output_type": "execute_result",
          "data": {
            "text/plain": [
              "['สู้',\n",
              " 'นะ',\n",
              " 'ครับ',\n",
              " 'เป็น',\n",
              " 'กำลังใจ',\n",
              " 'ให้',\n",
              " 'เจ้าหน้าที่',\n",
              " 'ทุก',\n",
              " 'คน',\n",
              " 'มัน',\n",
              " 'เหนื่อย',\n",
              " 'จริง',\n",
              " '#ไวรัสโคโรนา',\n",
              " '#ไวรัส',\n",
              " 'อู่ฮั่น',\n",
              " '#รัฐบาล',\n",
              " 'เตรียม',\n",
              " 'พร้อม',\n",
              " 'เสพ',\n",
              " 'สื่อ',\n",
              " 'อย่าง',\n",
              " 'มี',\n",
              " 'สติ',\n",
              " '#อย่า',\n",
              " 'ตื่นตระหนก',\n",
              " '#ทหาร',\n",
              " 'ที่',\n",
              " 'พึ่ง',\n",
              " 'ของ',\n",
              " 'ประชาชน',\n",
              " 'ทุก',\n",
              " 'โอกาส']"
            ]
          },
          "metadata": {
            "tags": []
          },
          "execution_count": 14
        }
      ]
    },
    {
      "cell_type": "code",
      "metadata": {
        "id": "kA4_T1h1PIdj",
        "colab_type": "code",
        "outputId": "cb992bcb-ad24-4a6d-fecf-e56a622ff2f4",
        "colab": {
          "base_uri": "https://localhost:8080/",
          "height": 34
        }
      },
      "source": [
        "'ต่่่อ\\n'.strip()"
      ],
      "execution_count": 0,
      "outputs": [
        {
          "output_type": "execute_result",
          "data": {
            "text/plain": [
              "'ต่่่อ'"
            ]
          },
          "metadata": {
            "tags": []
          },
          "execution_count": 15
        }
      ]
    },
    {
      "cell_type": "code",
      "metadata": {
        "id": "HImLMzZQPdbX",
        "colab_type": "code",
        "colab": {}
      },
      "source": [
        "f_sample_df['normalized_text'] = f_sample_df['tokenized_text'].apply(lambda x: normalize_words(x))"
      ],
      "execution_count": 0,
      "outputs": []
    },
    {
      "cell_type": "code",
      "metadata": {
        "id": "XzTe-uj5PfJ6",
        "colab_type": "code",
        "outputId": "b7bf6a39-a47f-428e-d283-a044a854965a",
        "colab": {
          "base_uri": "https://localhost:8080/",
          "height": 598
        }
      },
      "source": [
        "f_sample_df.head()"
      ],
      "execution_count": 0,
      "outputs": [
        {
          "output_type": "execute_result",
          "data": {
            "text/html": [
              "<div>\n",
              "<style scoped>\n",
              "    .dataframe tbody tr th:only-of-type {\n",
              "        vertical-align: middle;\n",
              "    }\n",
              "\n",
              "    .dataframe tbody tr th {\n",
              "        vertical-align: top;\n",
              "    }\n",
              "\n",
              "    .dataframe thead th {\n",
              "        text-align: right;\n",
              "    }\n",
              "</style>\n",
              "<table border=\"1\" class=\"dataframe\">\n",
              "  <thead>\n",
              "    <tr style=\"text-align: right;\">\n",
              "      <th></th>\n",
              "      <th>coder1</th>\n",
              "      <th>coder2</th>\n",
              "      <th>coder3</th>\n",
              "      <th>screen_name_tweets</th>\n",
              "      <th>fullname</th>\n",
              "      <th>text</th>\n",
              "      <th>timestamp</th>\n",
              "      <th>following</th>\n",
              "      <th>followers</th>\n",
              "      <th>num_tweets</th>\n",
              "      <th>location</th>\n",
              "      <th>num_likes</th>\n",
              "      <th>id</th>\n",
              "      <th>date_joined</th>\n",
              "      <th>num_days_joined</th>\n",
              "      <th>days_on_twitter</th>\n",
              "      <th>is_IO</th>\n",
              "      <th>tokenized_text</th>\n",
              "      <th>normalized_text</th>\n",
              "    </tr>\n",
              "  </thead>\n",
              "  <tbody>\n",
              "    <tr>\n",
              "      <th>0</th>\n",
              "      <td>1</td>\n",
              "      <td>1</td>\n",
              "      <td>1</td>\n",
              "      <td>trueman98587845</td>\n",
              "      <td>trueman</td>\n",
              "      <td>สู้ๆ นะครับ เป็นกำลังใจให้ เจ้าหน้าที่ทุกคน มั...</td>\n",
              "      <td>2020-01-28 13:27:29</td>\n",
              "      <td>30</td>\n",
              "      <td>4</td>\n",
              "      <td>1032</td>\n",
              "      <td>NaN</td>\n",
              "      <td>502</td>\n",
              "      <td>1220152441666039808</td>\n",
              "      <td>2020-01-22 17:13:00</td>\n",
              "      <td>35 days 06:47:00.000000000</td>\n",
              "      <td>35</td>\n",
              "      <td>1</td>\n",
              "      <td>[สู้, ๆ,  , นะ, ครับ,  , เป็น, กำลังใจ, ให้,  ...</td>\n",
              "      <td>[สู้, นะ, ครับ, เป็น, กำลังใจ, ให้, เจ้าหน้าที...</td>\n",
              "    </tr>\n",
              "    <tr>\n",
              "      <th>1</th>\n",
              "      <td>1</td>\n",
              "      <td>1</td>\n",
              "      <td>1</td>\n",
              "      <td>KI36bsxg8ozf6bg</td>\n",
              "      <td>ชัย สุขกายสบายใจ</td>\n",
              "      <td>เพื่อรักษา และ ระวังป้องกัน เจ้าหน้าที่รัฐ ผมด...</td>\n",
              "      <td>2020-02-03 15:58:04</td>\n",
              "      <td>36</td>\n",
              "      <td>22</td>\n",
              "      <td>2673</td>\n",
              "      <td>NaN</td>\n",
              "      <td>770</td>\n",
              "      <td>1201755584225107968</td>\n",
              "      <td>2019-12-02 22:50:00</td>\n",
              "      <td>86 days 01:10:00.000000000</td>\n",
              "      <td>86</td>\n",
              "      <td>1</td>\n",
              "      <td>[เพื่อ, รักษา,  , และ,  , ระวัง, ป้องกัน,  , เ...</td>\n",
              "      <td>[เพื่อ, รักษา, และ, ระวัง, ป้องกัน, เจ้าหน้าที...</td>\n",
              "    </tr>\n",
              "    <tr>\n",
              "      <th>2</th>\n",
              "      <td>1</td>\n",
              "      <td>1</td>\n",
              "      <td>1</td>\n",
              "      <td>daengbile436</td>\n",
              "      <td>แดง ไบเล่</td>\n",
              "      <td>ข่าวปลอม  ไม่จริง ไม่ควรแชร์ต่อ\\n#ไวรัสโคโรนา\\...</td>\n",
              "      <td>2020-01-29 3:46:25</td>\n",
              "      <td>38</td>\n",
              "      <td>5</td>\n",
              "      <td>1234</td>\n",
              "      <td>NaN</td>\n",
              "      <td>21</td>\n",
              "      <td>1219487869049307136</td>\n",
              "      <td>2020-01-20 21:12:00</td>\n",
              "      <td>37 days 02:48:00.000000000</td>\n",
              "      <td>37</td>\n",
              "      <td>1</td>\n",
              "      <td>[ข่าว, ปลอม,  ,  , ไม่, จริง,  , ไม่, ควร, แชร...</td>\n",
              "      <td>[ข่าว, ปลอม, ไม่, จริง, ไม่, ควร, แชร์, ต่อ, #...</td>\n",
              "    </tr>\n",
              "    <tr>\n",
              "      <th>3</th>\n",
              "      <td>1</td>\n",
              "      <td>1</td>\n",
              "      <td>1</td>\n",
              "      <td>trueman98587845</td>\n",
              "      <td>trueman</td>\n",
              "      <td>กระผมหนึ่งในพลเมืองคนไทย ขอเป็นกำลังใจให้คุณหม...</td>\n",
              "      <td>2020-01-31 3:22:40</td>\n",
              "      <td>30</td>\n",
              "      <td>4</td>\n",
              "      <td>1032</td>\n",
              "      <td>NaN</td>\n",
              "      <td>502</td>\n",
              "      <td>1220152441666039808</td>\n",
              "      <td>2020-01-22 17:13:00</td>\n",
              "      <td>35 days 06:47:00.000000000</td>\n",
              "      <td>35</td>\n",
              "      <td>1</td>\n",
              "      <td>[กระผม, หนึ่ง, ใน, พลเมือง, คน, ไทย,  , ขอ, เป...</td>\n",
              "      <td>[กระผม, หนึ่ง, ใน, พลเมือง, คน, ไทย, ขอ, เป็น,...</td>\n",
              "    </tr>\n",
              "    <tr>\n",
              "      <th>4</th>\n",
              "      <td>1</td>\n",
              "      <td>1</td>\n",
              "      <td>1</td>\n",
              "      <td>thaiprong</td>\n",
              "      <td>รวมใจไทยปรองดอง</td>\n",
              "      <td>ขอร้องทุกคนช่วยเสพสื่ออย่างมีสติ อย่าแชร์ข่าวป...</td>\n",
              "      <td>2020-01-28 8:28:56</td>\n",
              "      <td>304</td>\n",
              "      <td>99</td>\n",
              "      <td>78</td>\n",
              "      <td>NaN</td>\n",
              "      <td>395</td>\n",
              "      <td>1209024400651014144</td>\n",
              "      <td>2019-12-23 00:14:00</td>\n",
              "      <td>65 days 23:46:00.000000000</td>\n",
              "      <td>65</td>\n",
              "      <td>1</td>\n",
              "      <td>[ขอร้อง, ทุก, คน, ช่วย, เสพ, สื่อ, อย่าง, มี, ...</td>\n",
              "      <td>[ขอร้อง, ทุก, คน, ช่วย, เสพ, สื่อ, อย่าง, มี, ...</td>\n",
              "    </tr>\n",
              "  </tbody>\n",
              "</table>\n",
              "</div>"
            ],
            "text/plain": [
              "   coder1  ...                                    normalized_text\n",
              "0       1  ...  [สู้, นะ, ครับ, เป็น, กำลังใจ, ให้, เจ้าหน้าที...\n",
              "1       1  ...  [เพื่อ, รักษา, และ, ระวัง, ป้องกัน, เจ้าหน้าที...\n",
              "2       1  ...  [ข่าว, ปลอม, ไม่, จริง, ไม่, ควร, แชร์, ต่อ, #...\n",
              "3       1  ...  [กระผม, หนึ่ง, ใน, พลเมือง, คน, ไทย, ขอ, เป็น,...\n",
              "4       1  ...  [ขอร้อง, ทุก, คน, ช่วย, เสพ, สื่อ, อย่าง, มี, ...\n",
              "\n",
              "[5 rows x 19 columns]"
            ]
          },
          "metadata": {
            "tags": []
          },
          "execution_count": 17
        }
      ]
    },
    {
      "cell_type": "code",
      "metadata": {
        "id": "FOIIkhFEOgQP",
        "colab_type": "code",
        "colab": {}
      },
      "source": [
        "# combine all steps in one place \n",
        "f_sample_df['tokenized_text'] = f_sample_df['text'].apply(lambda x: deepcut.tokenize(x))\n",
        "f_sample_df['normalized_text'] = f_sample_df['tokenized_text'].apply(lambda x: normalize_words(x))"
      ],
      "execution_count": 0,
      "outputs": []
    },
    {
      "cell_type": "code",
      "metadata": {
        "id": "c3Tgj8t9Jrr3",
        "colab_type": "code",
        "colab": {}
      },
      "source": [
        "# test set \n",
        "test_df['tokenized_text'] = test_df['text'].apply(lambda x: deepcut.tokenize(x))\n",
        "test_df['normalized_text'] = test_df['tokenized_text'].apply(lambda x: normalize_words(x))"
      ],
      "execution_count": 0,
      "outputs": []
    },
    {
      "cell_type": "code",
      "metadata": {
        "id": "x-dBvOWdJr05",
        "colab_type": "code",
        "outputId": "3e6769a0-1896-4cd0-c3f1-b0034112bbc7",
        "colab": {
          "base_uri": "https://localhost:8080/",
          "height": 301
        }
      },
      "source": [
        "test_df.head(2)"
      ],
      "execution_count": 0,
      "outputs": [
        {
          "output_type": "execute_result",
          "data": {
            "text/html": [
              "<div>\n",
              "<style scoped>\n",
              "    .dataframe tbody tr th:only-of-type {\n",
              "        vertical-align: middle;\n",
              "    }\n",
              "\n",
              "    .dataframe tbody tr th {\n",
              "        vertical-align: top;\n",
              "    }\n",
              "\n",
              "    .dataframe thead th {\n",
              "        text-align: right;\n",
              "    }\n",
              "</style>\n",
              "<table border=\"1\" class=\"dataframe\">\n",
              "  <thead>\n",
              "    <tr style=\"text-align: right;\">\n",
              "      <th></th>\n",
              "      <th>coder1</th>\n",
              "      <th>coder2</th>\n",
              "      <th>coder3</th>\n",
              "      <th>screen_name_tweets</th>\n",
              "      <th>fullname</th>\n",
              "      <th>text</th>\n",
              "      <th>timestamp</th>\n",
              "      <th>following</th>\n",
              "      <th>followers</th>\n",
              "      <th>num_tweets</th>\n",
              "      <th>location</th>\n",
              "      <th>num_likes</th>\n",
              "      <th>id</th>\n",
              "      <th>date_joined</th>\n",
              "      <th>num_days_joined</th>\n",
              "      <th>days_on_twitter</th>\n",
              "      <th>is_IO</th>\n",
              "      <th>tokenized_text</th>\n",
              "      <th>normalized_text</th>\n",
              "    </tr>\n",
              "  </thead>\n",
              "  <tbody>\n",
              "    <tr>\n",
              "      <th>0</th>\n",
              "      <td>0</td>\n",
              "      <td>0</td>\n",
              "      <td>0</td>\n",
              "      <td>Fai_Animajus</td>\n",
              "      <td>🗝ᗋᴺᴵᴹ ᐞ Ġ ✿ † I ઽ † ᗋ Ỵ ⁷ ⁹ 🎧</td>\n",
              "      <td>ประเทศไทย ชีวิตดีดีที่ลงตัว #รัฐบาลเตรียมพร้อม...</td>\n",
              "      <td>2020-02-14 4:00:00</td>\n",
              "      <td>629</td>\n",
              "      <td>692</td>\n",
              "      <td>61918</td>\n",
              "      <td>Thailand</td>\n",
              "      <td>135911</td>\n",
              "      <td>730189272792227840</td>\n",
              "      <td>2016-05-10 17:14:00</td>\n",
              "      <td>1387 days 06:46:00.000000000</td>\n",
              "      <td>1387</td>\n",
              "      <td>0</td>\n",
              "      <td>[ประเทศไทย,  , ชีวิต, ดีดี, ที่, ลงตัว,  , #, ...</td>\n",
              "      <td>[ประเทศไทย, ชีวิต, ดีดี, ที่, ลงตัว, รัฐบาล, เ...</td>\n",
              "    </tr>\n",
              "    <tr>\n",
              "      <th>1</th>\n",
              "      <td>0</td>\n",
              "      <td>0</td>\n",
              "      <td>0</td>\n",
              "      <td>CottageNongnoo7</td>\n",
              "      <td>Liberty Girl</td>\n",
              "      <td>มันน่าจะมีวิธีMove onที่ดี สร้างสรรค์และสร้างพ...</td>\n",
              "      <td>2020-02-15 3:51:35</td>\n",
              "      <td>136</td>\n",
              "      <td>54</td>\n",
              "      <td>2763</td>\n",
              "      <td>NaN</td>\n",
              "      <td>195</td>\n",
              "      <td>880680765796888576</td>\n",
              "      <td>2017-06-29 23:53:00</td>\n",
              "      <td>972 days 00:07:00.000000000</td>\n",
              "      <td>972</td>\n",
              "      <td>0</td>\n",
              "      <td>[มัน, น่า, จะ, มี, วิธี, Move,  , on, ที่, ดี,...</td>\n",
              "      <td>[มัน, น่า, จะ, มี, วิธี, Move, on, ที่, ดี, สร...</td>\n",
              "    </tr>\n",
              "  </tbody>\n",
              "</table>\n",
              "</div>"
            ],
            "text/plain": [
              "   coder1  ...                                    normalized_text\n",
              "0       0  ...  [ประเทศไทย, ชีวิต, ดีดี, ที่, ลงตัว, รัฐบาล, เ...\n",
              "1       0  ...  [มัน, น่า, จะ, มี, วิธี, Move, on, ที่, ดี, สร...\n",
              "\n",
              "[2 rows x 19 columns]"
            ]
          },
          "metadata": {
            "tags": []
          },
          "execution_count": 20
        }
      ]
    },
    {
      "cell_type": "code",
      "metadata": {
        "id": "sdwEsEC5MopG",
        "colab_type": "code",
        "colab": {}
      },
      "source": [
        "# non-specialized tokenization does not work with Thai!\n",
        "# from sklearn.feature_extraction.text import TfidfVectorizer\n",
        "\n",
        "# TFVectorizer = TfidfVectorizer(max_df=100, min_df=2, max_features=1000, norm='l2')\n",
        "# TFVects = TFVectorizer.fit_transform(f_sample_df['text'])"
      ],
      "execution_count": 0,
      "outputs": []
    },
    {
      "cell_type": "code",
      "metadata": {
        "id": "bhaUfHlgV46_",
        "colab_type": "code",
        "outputId": "9e245be1-c5c7-46c9-d5ec-198558319dfb",
        "colab": {
          "base_uri": "https://localhost:8080/",
          "height": 34
        }
      },
      "source": [
        "f_sample_df.iloc[0]['text']"
      ],
      "execution_count": 0,
      "outputs": [
        {
          "output_type": "execute_result",
          "data": {
            "text/plain": [
              "'สู้ๆ นะครับ เป็นกำลังใจให้ เจ้าหน้าที่ทุกคน มันเหนื่อยจริงๆ #ไวรัสโคโรนา #ไวรัสอู่ฮั่น #รัฐบาลเตรียมพร้อม #เสพสื่ออย่างมีสติ #อย่าตื่นตระหนก #ทหารที่พึ่งของประชาชนทุกโอกาส'"
            ]
          },
          "metadata": {
            "tags": []
          },
          "execution_count": 22
        }
      ]
    },
    {
      "cell_type": "code",
      "metadata": {
        "id": "u8w9SdsmMowP",
        "colab_type": "code",
        "outputId": "ee990c0c-b199-481f-fc2a-89b31c8a6f20",
        "colab": {
          "base_uri": "https://localhost:8080/",
          "height": 119
        }
      },
      "source": [
        "from pythainlp.ulmfit import process_thai"
      ],
      "execution_count": 0,
      "outputs": [
        {
          "output_type": "stream",
          "text": [
            "Corpus: wiki_lm_lstm\n",
            "- Downloading: wiki_lm_lstm 0.32\n"
          ],
          "name": "stdout"
        },
        {
          "output_type": "stream",
          "text": [
            "100%|██████████| 1050919089/1050919089 [00:38<00:00, 27435847.59it/s]\n"
          ],
          "name": "stderr"
        },
        {
          "output_type": "stream",
          "text": [
            "Corpus: wiki_itos_lstm\n",
            "- Downloading: wiki_itos_lstm 0.32\n"
          ],
          "name": "stdout"
        },
        {
          "output_type": "stream",
          "text": [
            "100%|██████████| 1530484/1530484 [00:00<00:00, 6072502.41it/s]\n"
          ],
          "name": "stderr"
        }
      ]
    },
    {
      "cell_type": "code",
      "metadata": {
        "id": "vgOYlhTfMoyn",
        "colab_type": "code",
        "colab": {}
      },
      "source": [
        "from sklearn.feature_extraction.text import TfidfVectorizer\n",
        "\n",
        "tfidf = TfidfVectorizer(tokenizer=process_thai, ngram_range=(1,1), min_df=5, sublinear_tf=True)\n",
        "TFVects = tfidf.fit_transform(f_sample_df['text'])"
      ],
      "execution_count": 0,
      "outputs": []
    },
    {
      "cell_type": "code",
      "metadata": {
        "id": "kFc83po0Mo0_",
        "colab_type": "code",
        "outputId": "9a9530c8-c3ef-44cf-ee8d-c15c37344830",
        "colab": {
          "base_uri": "https://localhost:8080/",
          "height": 1000
        }
      },
      "source": [
        "tfidf.vocabulary_"
      ],
      "execution_count": 0,
      "outputs": [
        {
          "output_type": "execute_result",
          "data": {
            "text/plain": [
              "{'\\n': 0,\n",
              " '  ': 1,\n",
              " '\"': 2,\n",
              " '#': 3,\n",
              " '&': 4,\n",
              " '.': 5,\n",
              " '/': 6,\n",
              " '0': 7,\n",
              " '1': 8,\n",
              " '10': 9,\n",
              " '2': 10,\n",
              " '2019': 11,\n",
              " '2020': 12,\n",
              " '3': 13,\n",
              " '4': 14,\n",
              " '436': 15,\n",
              " '5': 16,\n",
              " '9': 17,\n",
              " ':': 18,\n",
              " '=': 19,\n",
              " '?': 20,\n",
              " '_': 21,\n",
              " 'afncthailand': 22,\n",
              " 'd': 23,\n",
              " 'daengbile': 24,\n",
              " 'f': 25,\n",
              " 'fake': 26,\n",
              " 'fakenews': 27,\n",
              " 'html': 28,\n",
              " 'http': 29,\n",
              " 'https': 30,\n",
              " 'io': 31,\n",
              " 'news': 32,\n",
              " 'pic': 33,\n",
              " 'status': 34,\n",
              " 'valentinesday': 35,\n",
              " 'xxrep': 36,\n",
              " 'xxurl': 37,\n",
              " '\\xa0…': 38,\n",
              " 'กน': 39,\n",
              " 'กรอง': 40,\n",
              " 'กระผม': 41,\n",
              " 'กราด': 42,\n",
              " 'กว่า': 43,\n",
              " 'กัน': 44,\n",
              " 'กับ': 45,\n",
              " 'การ': 46,\n",
              " 'การป้องกัน': 47,\n",
              " 'กำลังใจ': 48,\n",
              " 'กี่': 49,\n",
              " 'กู': 50,\n",
              " 'ก็': 51,\n",
              " 'ก่อน': 52,\n",
              " 'ขอ': 53,\n",
              " 'ของ': 54,\n",
              " 'ขอบคุณ': 55,\n",
              " 'ขอให้': 56,\n",
              " 'ขึ้น': 57,\n",
              " 'ข่าว': 58,\n",
              " 'ค': 59,\n",
              " 'คน': 60,\n",
              " 'คนไทย': 61,\n",
              " 'ครับ': 62,\n",
              " 'ควร': 63,\n",
              " 'ความ': 64,\n",
              " 'ความตื่นตัว': 65,\n",
              " 'คัด': 66,\n",
              " 'คิด': 67,\n",
              " 'คือ': 68,\n",
              " 'คุณหญิง': 69,\n",
              " 'คุณหมอ': 70,\n",
              " 'จริง': 71,\n",
              " 'จริงๆ': 72,\n",
              " 'จะ': 73,\n",
              " 'จาก': 74,\n",
              " 'จุด': 75,\n",
              " 'จุฬา': 76,\n",
              " 'ช่วย': 77,\n",
              " 'ซวย': 78,\n",
              " 'ซอย': 79,\n",
              " 'ณ': 80,\n",
              " 'ดี': 81,\n",
              " 'ดีกว่า': 82,\n",
              " 'ดู': 83,\n",
              " 'ด่า': 84,\n",
              " 'ด้วย': 85,\n",
              " 'ต': 86,\n",
              " 'ตอนนี้': 87,\n",
              " 'ตั้งแต่': 88,\n",
              " 'ตื่นตระหนก': 89,\n",
              " 'ต่อ': 90,\n",
              " 'ต้อง': 91,\n",
              " 'ถ้า': 92,\n",
              " 'ทหาร': 93,\n",
              " 'ทำ': 94,\n",
              " 'ทำงาน': 95,\n",
              " 'ทำไม': 96,\n",
              " 'ทีมงาน': 97,\n",
              " 'ที่': 98,\n",
              " 'ที่พึ่ง': 99,\n",
              " 'ที่เชื่อถือได้': 100,\n",
              " 'ทุก': 101,\n",
              " 'ทุกคน': 102,\n",
              " 'ทุกๆ': 103,\n",
              " 'ท่าน': 104,\n",
              " 'นะ': 105,\n",
              " 'นั้น': 106,\n",
              " 'นา': 107,\n",
              " 'นี่': 108,\n",
              " 'นี้': 109,\n",
              " 'น่ะ': 110,\n",
              " 'น่าจะ': 111,\n",
              " 'บอ': 112,\n",
              " 'บ้าน': 113,\n",
              " 'ประชาชน': 114,\n",
              " 'ประชาสัมพันธ์': 115,\n",
              " 'ประเทศ': 116,\n",
              " 'ปลอดภัย': 117,\n",
              " 'ปลอม': 118,\n",
              " 'ปี': 119,\n",
              " 'ผม': 120,\n",
              " 'ผู้คน': 121,\n",
              " 'ฝ่ายค้าน': 122,\n",
              " 'พยายาม': 123,\n",
              " 'พร้อม': 124,\n",
              " 'พลเมือง': 125,\n",
              " 'พวก': 126,\n",
              " 'มัน': 127,\n",
              " 'มา': 128,\n",
              " 'มาก': 129,\n",
              " 'มี': 130,\n",
              " 'มีสติ': 131,\n",
              " 'มึง': 132,\n",
              " 'ยัง': 133,\n",
              " 'ยิง': 134,\n",
              " 'ระหว่าง': 135,\n",
              " 'รัก': 136,\n",
              " 'รัฐ': 137,\n",
              " 'รัฐบาล': 138,\n",
              " 'รับ': 139,\n",
              " 'ร่วมมือ': 140,\n",
              " 'ละ': 141,\n",
              " 'ลาออก': 142,\n",
              " 'วะ': 143,\n",
              " 'วัน': 144,\n",
              " 'วาเลนไทน์': 145,\n",
              " 'วิจารณญาณ': 146,\n",
              " 'วิเคราะห์': 147,\n",
              " 'ว่า': 148,\n",
              " 'สร้าง': 149,\n",
              " 'สร้างสถานการณ์': 150,\n",
              " 'สัก': 151,\n",
              " 'สายพันธุ์': 152,\n",
              " 'สื่อ': 153,\n",
              " 'ส่ง': 154,\n",
              " 'หนึ่ง': 155,\n",
              " 'หน้า': 156,\n",
              " 'หรอ': 157,\n",
              " 'หรือ': 158,\n",
              " 'ห่วงใย': 159,\n",
              " 'อนาคต': 160,\n",
              " 'อยาก': 161,\n",
              " 'อยู่': 162,\n",
              " 'อย่า': 163,\n",
              " 'อย่าง': 164,\n",
              " 'ออก': 165,\n",
              " 'ออกตัว': 166,\n",
              " 'ออกมา': 167,\n",
              " 'อะไร': 168,\n",
              " 'อันที่จริง': 169,\n",
              " 'อีก': 170,\n",
              " 'อู่': 171,\n",
              " 'อ่ะ': 172,\n",
              " 'ฮั่น': 173,\n",
              " 'เกิด': 174,\n",
              " 'เค้า': 175,\n",
              " 'เจ้าหน้าที่': 176,\n",
              " 'เชื่อ': 177,\n",
              " 'เดียว': 178,\n",
              " 'เตรียม': 179,\n",
              " 'เตรียมพร้อม': 180,\n",
              " 'เป็น': 181,\n",
              " 'เพราะ': 182,\n",
              " 'เยอะ': 183,\n",
              " 'เรา': 184,\n",
              " 'เรื่อง': 185,\n",
              " 'เร็ว': 186,\n",
              " 'เลย': 187,\n",
              " 'เวลา': 188,\n",
              " 'เสพ': 189,\n",
              " 'เห็น': 190,\n",
              " 'เอา': 191,\n",
              " 'เฮงซวย': 192,\n",
              " 'เฮ็ง': 193,\n",
              " 'แชร์': 194,\n",
              " 'แต่': 195,\n",
              " 'แบบ': 196,\n",
              " 'แมร่ง': 197,\n",
              " 'แรง': 198,\n",
              " 'และ': 199,\n",
              " 'แล้ว': 200,\n",
              " 'แส': 201,\n",
              " 'แหล่งข่าว': 202,\n",
              " 'โค': 203,\n",
              " 'โง่': 204,\n",
              " 'โดน': 205,\n",
              " 'โร': 206,\n",
              " 'โอกาส': 207,\n",
              " 'ใคร': 208,\n",
              " 'ใจสลาย': 209,\n",
              " 'ใช้': 210,\n",
              " 'ใน': 211,\n",
              " 'ใหม่': 212,\n",
              " 'ให้': 213,\n",
              " 'ไง': 214,\n",
              " 'ได้': 215,\n",
              " 'ไทย': 216,\n",
              " 'ไป': 217,\n",
              " 'ไม่': 218,\n",
              " 'ไม่ได้': 219,\n",
              " 'ไร': 220,\n",
              " 'ไวรัส': 221,\n",
              " 'ไว้': 222,\n",
              " 'ไอ้': 223,\n",
              " 'ๆ': 224}"
            ]
          },
          "metadata": {
            "tags": []
          },
          "execution_count": 25
        }
      ]
    },
    {
      "cell_type": "code",
      "metadata": {
        "id": "6vYMXdSzcRPI",
        "colab_type": "code",
        "outputId": "9f343400-904f-4e5d-eff9-c5c78eb52420",
        "colab": {
          "base_uri": "https://localhost:8080/",
          "height": 51
        }
      },
      "source": [
        "print(TFVects.shape)\n",
        "print(f_sample_df.shape)"
      ],
      "execution_count": 0,
      "outputs": [
        {
          "output_type": "stream",
          "text": [
            "(193, 225)\n",
            "(193, 19)\n"
          ],
          "name": "stdout"
        }
      ]
    },
    {
      "cell_type": "markdown",
      "metadata": {
        "id": "0k_ozY9gEzlg",
        "colab_type": "text"
      },
      "source": [
        "## Try k-Means clustering"
      ]
    },
    {
      "cell_type": "code",
      "metadata": {
        "id": "Gv4IVxkEE1e9",
        "colab_type": "code",
        "outputId": "c53d3455-bbf7-40a5-ab40-8c51925c7083",
        "colab": {
          "base_uri": "https://localhost:8080/",
          "height": 68
        }
      },
      "source": [
        "from sklearn.cluster import KMeans\n",
        "numClusters = 2\n",
        "km = KMeans(n_clusters=numClusters, init='k-means++')\n",
        "km.fit(TFVects)"
      ],
      "execution_count": 0,
      "outputs": [
        {
          "output_type": "execute_result",
          "data": {
            "text/plain": [
              "KMeans(algorithm='auto', copy_x=True, init='k-means++', max_iter=300,\n",
              "       n_clusters=2, n_init=10, n_jobs=None, precompute_distances='auto',\n",
              "       random_state=None, tol=0.0001, verbose=0)"
            ]
          },
          "metadata": {
            "tags": []
          },
          "execution_count": 27
        }
      ]
    },
    {
      "cell_type": "code",
      "metadata": {
        "id": "pDkfqdk6FC_k",
        "colab_type": "code",
        "outputId": "df20b7d8-f5f4-4092-bbfd-e8123142bf93",
        "colab": {
          "base_uri": "https://localhost:8080/",
          "height": 510
        }
      },
      "source": [
        "terms = tfidf.get_feature_names()\n",
        "print(\"Top terms per cluster:\")\n",
        "order_centroids = km.cluster_centers_.argsort()[:, ::-1]\n",
        "for i in range(numClusters):\n",
        "    print(\"Cluster %d:\" % i)\n",
        "    for ind in order_centroids[i, :10]:\n",
        "        print(' %s' % terms[ind])\n",
        "    print('\\n')"
      ],
      "execution_count": 0,
      "outputs": [
        {
          "output_type": "stream",
          "text": [
            "Top terms per cluster:\n",
            "Cluster 0:\n",
            " #\n",
            " รัฐบาล\n",
            " เตรียมพร้อม\n",
            " /\n",
            " \n",
            "\n",
            " พร้อม\n",
            " ที่\n",
            " แล้ว\n",
            " ก็\n",
            " มา\n",
            "\n",
            "\n",
            "Cluster 1:\n",
            " ไวรัส\n",
            " \n",
            "\n",
            " #\n",
            " /\n",
            " นา\n",
            " โร\n",
            " โค\n",
            " มีสติ\n",
            " ตื่นตระหนก\n",
            " เสพ\n",
            "\n",
            "\n"
          ],
          "name": "stdout"
        }
      ]
    },
    {
      "cell_type": "code",
      "metadata": {
        "id": "z_hLvJzlFQJ6",
        "colab_type": "code",
        "colab": {}
      },
      "source": [
        "def plotSilhouette(n_clusters, X, reduced_data):\n",
        "    fig, (ax1, ax2) = plt.subplots(ncols=2, figsize = (15,5))\n",
        "    \n",
        "    ax1.set_xlim([-0.1, 1])\n",
        "    ax1.set_ylim([0, len(X) + (n_clusters + 1) * 10])\n",
        "    clusterer = sklearn.cluster.KMeans(n_clusters=n_clusters, random_state=10)\n",
        "    cluster_labels = clusterer.fit_predict(X)\n",
        "    \n",
        "    silhouette_avg = sklearn.metrics.silhouette_score(X, cluster_labels)\n",
        "\n",
        "    # Compute the silhouette scores for each sample\n",
        "    sample_silhouette_values = sklearn.metrics.silhouette_samples(X, cluster_labels)\n",
        "\n",
        "    y_lower = 10\n",
        "    \n",
        "    for i in range(n_clusters):\n",
        "        ith_cluster_silhouette_values = sample_silhouette_values[cluster_labels == i]\n",
        "\n",
        "        ith_cluster_silhouette_values.sort()\n",
        "\n",
        "        size_cluster_i = ith_cluster_silhouette_values.shape[0]\n",
        "        y_upper = y_lower + size_cluster_i\n",
        "        cmap = matplotlib.cm.get_cmap(\"nipy_spectral\")\n",
        "        color = cmap(float(i) / n_clusters)\n",
        "        ax1.fill_betweenx(np.arange(y_lower, y_upper),\n",
        "                          0, ith_cluster_silhouette_values,\n",
        "                          facecolor=color, edgecolor=color, alpha=0.7)\n",
        "\n",
        "        ax1.text(-0.05, y_lower + 0.5 * size_cluster_i, str(i))\n",
        "\n",
        "        y_lower = y_upper + 10\n",
        "    \n",
        "    ax1.set_title(\"The silhouette plot for the various clusters.\")\n",
        "    ax1.set_xlabel(\"The silhouette coefficient values\")\n",
        "    ax1.set_ylabel(\"Cluster label\")\n",
        "\n",
        "    ax1.axvline(x=silhouette_avg, color=\"red\", linestyle=\"--\")\n",
        "\n",
        "    ax1.set_yticks([])  # Clear the yaxis labels / ticks\n",
        "    ax1.set_xticks([-0.1, 0, 0.2, 0.4, 0.6, 0.8, 1])\n",
        "\n",
        "    # 2nd Plot showing the actual clusters formed\n",
        "    cmap = matplotlib.cm.get_cmap(\"nipy_spectral\")\n",
        "    colors = cmap(float(i) / n_clusters)\n",
        "    ax2.scatter(reduced_data[:, 0], reduced_data[:, 1], marker='.', s=30, lw=0, alpha=0.7,\n",
        "                                c=colors)\n",
        "\n",
        "    # Labeling the clusters\n",
        "    centers = clusterer.cluster_centers_\n",
        "    projected_centers = pca.transform(centers)\n",
        "    # Draw white circles at cluster centers\n",
        "    ax2.scatter(projected_centers[:, 0], projected_centers[:, 1],\n",
        "                marker='o', c=\"white\", alpha=1, s=200)\n",
        "\n",
        "    for i, c in enumerate(projected_centers):\n",
        "        ax2.scatter(c[0], c[1], marker='$%d$' % i, alpha=1, s=50)\n",
        "\n",
        "    ax2.set_title(\"The visualization of the clustered data.\")\n",
        "    ax2.set_xlabel(\"PC 1\")\n",
        "    ax2.set_ylabel(\"PC 2\")\n",
        "\n",
        "    plt.suptitle((\"Silhouette analysis for KMeans clustering on sample data \"\n",
        "                  \"with n_clusters = %d\" % n_clusters),\n",
        "                 fontsize=14, fontweight='bold')\n",
        "    # save fig to disk \n",
        "    plt.savefig('kmeans' + str(n_clusters) + '.png', dpi=300)\n",
        "    plt.show()\n",
        "    print(\"For n_clusters = {}, The average silhouette_score is : {:.3f}\".format(n_clusters, silhouette_avg))"
      ],
      "execution_count": 0,
      "outputs": []
    },
    {
      "cell_type": "code",
      "metadata": {
        "id": "BGBQdA7DJgur",
        "colab_type": "code",
        "colab": {}
      },
      "source": [
        "from sklearn.decomposition import PCA\n",
        "pca = PCA(n_components=2).fit(TFVects.toarray())\n",
        "reduced_data = pca.transform(TFVects.toarray())"
      ],
      "execution_count": 0,
      "outputs": []
    },
    {
      "cell_type": "code",
      "metadata": {
        "id": "uQTVSXorFQUe",
        "colab_type": "code",
        "outputId": "fb1c5c99-de27-494a-f671-11bdccb0a22c",
        "colab": {
          "base_uri": "https://localhost:8080/",
          "height": 424
        }
      },
      "source": [
        "# plot with 2 clusters\n",
        "# looks like there are 2 different clusters definitely\n",
        "plotSilhouette(2, TFVects.toarray(), reduced_data)"
      ],
      "execution_count": 0,
      "outputs": [
        {
          "output_type": "stream",
          "text": [
            "'c' argument looks like a single numeric RGB or RGBA sequence, which should be avoided as value-mapping will have precedence in case its length matches with 'x' & 'y'.  Please use a 2-D array with a single row if you really want to specify the same RGB or RGBA value for all points.\n"
          ],
          "name": "stderr"
        },
        {
          "output_type": "display_data",
          "data": {
            "image/png": "[encoded data removed]",
            "text/plain": [
              "<Figure size 1080x360 with 2 Axes>"
            ]
          },
          "metadata": {
            "tags": []
          }
        },
        {
          "output_type": "stream",
          "text": [
            "For n_clusters = 2, The average silhouette_score is : 0.071\n"
          ],
          "name": "stdout"
        }
      ]
    },
    {
      "cell_type": "code",
      "metadata": {
        "id": "arKuURE0J98j",
        "colab_type": "code",
        "outputId": "e394a811-2dd5-404e-c2cf-28820be092c0",
        "colab": {
          "base_uri": "https://localhost:8080/",
          "height": 424
        }
      },
      "source": [
        "# 3 clusters also look good\n",
        "plotSilhouette(3, TFVects.toarray(), reduced_data)"
      ],
      "execution_count": 0,
      "outputs": [
        {
          "output_type": "stream",
          "text": [
            "'c' argument looks like a single numeric RGB or RGBA sequence, which should be avoided as value-mapping will have precedence in case its length matches with 'x' & 'y'.  Please use a 2-D array with a single row if you really want to specify the same RGB or RGBA value for all points.\n"
          ],
          "name": "stderr"
        },
        {
          "output_type": "display_data",
          "data": {
            "image/png": "[encoded data removed]",
            "text/plain": [
              "<Figure size 1080x360 with 2 Axes>"
            ]
          },
          "metadata": {
            "tags": []
          }
        },
        {
          "output_type": "stream",
          "text": [
            "For n_clusters = 3, The average silhouette_score is : 0.077\n"
          ],
          "name": "stdout"
        }
      ]
    },
    {
      "cell_type": "markdown",
      "metadata": {
        "id": "i6qRLeVud48l",
        "colab_type": "text"
      },
      "source": [
        "## Build a classifier"
      ]
    },
    {
      "cell_type": "code",
      "metadata": {
        "id": "LyKgBK4fcRSy",
        "colab_type": "code",
        "outputId": "d3edaed3-8600-40dd-87ad-be46c8b54826",
        "colab": {
          "base_uri": "https://localhost:8080/",
          "height": 34
        }
      },
      "source": [
        "import keras"
      ],
      "execution_count": 0,
      "outputs": [
        {
          "output_type": "stream",
          "text": [
            "Using TensorFlow backend.\n"
          ],
          "name": "stderr"
        }
      ]
    },
    {
      "cell_type": "code",
      "metadata": {
        "id": "xYb88b8ZQk_E",
        "colab_type": "code",
        "colab": {}
      },
      "source": [
        "X = TFVects.toarray()"
      ],
      "execution_count": 0,
      "outputs": []
    },
    {
      "cell_type": "code",
      "metadata": {
        "id": "BuQ0qzFMQ7Vu",
        "colab_type": "code",
        "outputId": "65afe1d6-334a-44a3-b338-fed250d2313f",
        "colab": {
          "base_uri": "https://localhost:8080/",
          "height": 34
        }
      },
      "source": [
        "y = f_sample_df['is_IO']\n",
        "print(y.shape)"
      ],
      "execution_count": 0,
      "outputs": [
        {
          "output_type": "stream",
          "text": [
            "(193,)\n"
          ],
          "name": "stdout"
        }
      ]
    },
    {
      "cell_type": "code",
      "metadata": {
        "id": "hsb83ReyRBIc",
        "colab_type": "code",
        "outputId": "31a149d7-8a83-41cc-c3c0-32ed1f487273",
        "colab": {
          "base_uri": "https://localhost:8080/",
          "height": 102
        }
      },
      "source": [
        "# need to retrieve predicted probabilities from metadata \n",
        "# from the full trainset\n",
        "full_train_df = pd.read_csv('full_train_set.csv', encoding='utf-8')\n",
        "print(full_train_df.columns)\n",
        "training_subset = full_train_df.iloc[:193]\n",
        "testing_subset = full_train_df.iloc[193:]"
      ],
      "execution_count": 0,
      "outputs": [
        {
          "output_type": "stream",
          "text": [
            "Index(['coder1', 'coder2', 'coder3', 'screen_name_tweets', 'fullname', 'text',\n",
            "       'timestamp', 'following', 'followers', 'num_tweets', 'location',\n",
            "       'num_likes', 'id', 'date_joined', 'num_days_joined', 'days_on_twitter',\n",
            "       'is_IO', 'IO_meta_clf', 'isIO_meta_prob'],\n",
            "      dtype='object')\n"
          ],
          "name": "stdout"
        }
      ]
    },
    {
      "cell_type": "code",
      "metadata": {
        "id": "vHN06-sgUD6d",
        "colab_type": "code",
        "colab": {}
      },
      "source": [
        "# do PCA to see how many dimensions to reduce to\n",
        "pca = PCA()\n",
        "new_reduced_data = pca.fit_transform(X)"
      ],
      "execution_count": 0,
      "outputs": []
    },
    {
      "cell_type": "code",
      "metadata": {
        "id": "Pj1uD7R7U-ee",
        "colab_type": "code",
        "outputId": "d2cf1a50-4765-4c63-d961-8ebdd1748d20",
        "colab": {
          "base_uri": "https://localhost:8080/",
          "height": 350
        }
      },
      "source": [
        "# Make a scree plot to look at the dimension\n",
        "n = len(f_sample_df)\n",
        "\n",
        "fig, (ax1, ax2, ax3) = plt.subplots(ncols=3, figsize = (16, 5), sharey=True)\n",
        "\n",
        "eigen_vals = np.arange(n) + 1\n",
        "ax1.plot(eigen_vals, pca.explained_variance_ratio_, 'ro-', linewidth=1)\n",
        "ax1.set_title('Scree Plot (Full)')\n",
        "ax1.set_xlabel('Principal Component')\n",
        "ax1.set_ylabel('Proportion of Explained Variance')\n",
        "\n",
        "eigen_vals = np.arange(50) + 1\n",
        "ax2.plot(eigen_vals, pca.explained_variance_ratio_[:50], 'ro-', linewidth=1)\n",
        "ax2.set_title('Scree Plot (First 50 Principal Components)')\n",
        "ax2.set_xlabel('Principal Component')\n",
        "ax2.set_ylabel('Proportion of Explained Variance')\n",
        "\n",
        "\n",
        "eigen_vals = np.arange(20) + 1\n",
        "ax3.plot(eigen_vals, pca.explained_variance_ratio_[:20], 'ro-', linewidth=2)\n",
        "ax3.set_title('Scree Plot (First 20 Principal Components)')\n",
        "ax3.set_xlabel('Principal Component')\n",
        "ax3.set_ylabel('Proportion of Explained Variance')\n",
        "\n",
        "plt.savefig('PCA_scree' + '.png', dpi=300)\n",
        "plt.show()\n"
      ],
      "execution_count": 0,
      "outputs": [
        {
          "output_type": "display_data",
          "data": {
            "image/png": "[encoded data removed]",
            "text/plain": [
              "<Figure size 1152x360 with 3 Axes>"
            ]
          },
          "metadata": {
            "tags": []
          }
        }
      ]
    },
    {
      "cell_type": "markdown",
      "metadata": {
        "id": "kaaYZAuTVUUw",
        "colab_type": "text"
      },
      "source": [
        "The scree plot shows that the number of dimensions that seem to be important is between 3 and 5. 2-3 dimensions appear to have the largest decrease in the proportioned of explained variance."
      ]
    },
    {
      "cell_type": "code",
      "metadata": {
        "id": "WRn4y9DMVTZb",
        "colab_type": "code",
        "colab": {}
      },
      "source": [
        "# We will go with 3\n",
        "pca_3d = PCA(n_components=3)\n",
        "new_reduced_data = pca_3d.fit_transform(X)"
      ],
      "execution_count": 0,
      "outputs": []
    },
    {
      "cell_type": "code",
      "metadata": {
        "id": "ev9OElSYW91Y",
        "colab_type": "code",
        "outputId": "8fc4b8cd-e30a-43c2-9390-a14218e7d1dd",
        "colab": {
          "base_uri": "https://localhost:8080/",
          "height": 34
        }
      },
      "source": [
        "new_reduced_data.shape"
      ],
      "execution_count": 0,
      "outputs": [
        {
          "output_type": "execute_result",
          "data": {
            "text/plain": [
              "(193, 3)"
            ]
          },
          "metadata": {
            "tags": []
          },
          "execution_count": 48
        }
      ]
    },
    {
      "cell_type": "code",
      "metadata": {
        "id": "Ls6y2k03XFH_",
        "colab_type": "code",
        "colab": {}
      },
      "source": [
        "X_mix = np.concatenate((new_reduced_data, training_subset['isIO_meta_prob'].values.reshape(193,1)), axis=1)"
      ],
      "execution_count": 0,
      "outputs": []
    },
    {
      "cell_type": "code",
      "metadata": {
        "id": "K7cRbVBASNCL",
        "colab_type": "code",
        "colab": {}
      },
      "source": [
        "# training_subset['isIO_meta_prob'].values"
      ],
      "execution_count": 0,
      "outputs": []
    },
    {
      "cell_type": "code",
      "metadata": {
        "id": "-M6K-UZ5OPus",
        "colab_type": "code",
        "outputId": "9080eff5-90ea-40c3-8e6b-fb1d3f954561",
        "colab": {
          "base_uri": "https://localhost:8080/",
          "height": 34
        }
      },
      "source": [
        "# cross validation score pipeline\n",
        "# default scorer to accuracy rate (can be changed to other things)\n",
        "from sklearn.model_selection import cross_val_score\n",
        "from sklearn.naive_bayes import BernoulliNB\n",
        "\n",
        "naiveBayes = BernoulliNB()\n",
        "bayes_cv_list = cross_val_score(naiveBayes, X_mix, y, cv=5)\n",
        "bayes_cv_mean = np.mean(bayes_cv_list)\n",
        "print(\"average 5-fold:\", bayes_cv_mean)"
      ],
      "execution_count": 0,
      "outputs": [
        {
          "output_type": "stream",
          "text": [
            "average 5-fold: 0.8446693657219972\n"
          ],
          "name": "stdout"
        }
      ]
    },
    {
      "cell_type": "code",
      "metadata": {
        "id": "1-m4_ggzZwKc",
        "colab_type": "code",
        "outputId": "3d853c54-225b-487a-abe5-af185a5684ce",
        "colab": {
          "base_uri": "https://localhost:8080/",
          "height": 51
        }
      },
      "source": [
        "from sklearn.svm import SVC\n",
        "svm = SVC(kernel='linear')\n",
        "#probability = True is slower but lets you call predict_proba()\n",
        "svm_cv_list = cross_val_score(svm, X_mix, y, cv=5)\n",
        "svm_cv_mean = np.mean(svm_cv_list)\n",
        "print(svm_cv_list)\n",
        "print(\"average 5-fold:\", svm_cv_mean)"
      ],
      "execution_count": 0,
      "outputs": [
        {
          "output_type": "stream",
          "text": [
            "[0.92307692 1.         1.         1.         1.        ]\n",
            "average 5-fold: 0.9846153846153847\n"
          ],
          "name": "stdout"
        }
      ]
    },
    {
      "cell_type": "code",
      "metadata": {
        "id": "pRfvtuh2iORM",
        "colab_type": "code",
        "outputId": "fb018ce1-cf7e-4abe-87d4-543a548c3bf3",
        "colab": {
          "base_uri": "https://localhost:8080/",
          "height": 34
        }
      },
      "source": [
        "from sklearn.svm import LinearSVC\n",
        "linSVC = LinearSVC()\n",
        "linsvc_cv_list = cross_val_score(linSVC, X_mix, y, cv=5)\n",
        "linsvc_cv_mean = np.mean(linsvc_cv_list)\n",
        "print(\"average 5-fold:\", linsvc_cv_mean)"
      ],
      "execution_count": 0,
      "outputs": [
        {
          "output_type": "stream",
          "text": [
            "average 5-fold: 0.9846153846153847\n"
          ],
          "name": "stdout"
        }
      ]
    },
    {
      "cell_type": "markdown",
      "metadata": {
        "id": "u8Gc9UcBdMKr",
        "colab_type": "text"
      },
      "source": [
        "SVM already performs very impressviely on this data set with 5-fold accuracy rate of 98%. I will go with SVM for the time being and use it to evaluate the test set."
      ]
    },
    {
      "cell_type": "code",
      "metadata": {
        "id": "DNCzrF1fghm1",
        "colab_type": "code",
        "colab": {}
      },
      "source": [
        "TFVects_test = tfidf.fit_transform(test_df['text'])"
      ],
      "execution_count": 0,
      "outputs": []
    },
    {
      "cell_type": "code",
      "metadata": {
        "id": "IvfriHwwg4LL",
        "colab_type": "code",
        "colab": {}
      },
      "source": [
        "X_test = TFVects_test.toarray()\n",
        "reduced_X_test = pca_3d.fit_transform(X_test)"
      ],
      "execution_count": 0,
      "outputs": []
    },
    {
      "cell_type": "code",
      "metadata": {
        "id": "AXeDN2oXZwTb",
        "colab_type": "code",
        "colab": {}
      },
      "source": [
        "X_test_mix = np.concatenate((reduced_X_test, \n",
        "                             testing_subset['isIO_meta_prob'].values.reshape(82,1)), axis=1)\n",
        "y_test = test_df['is_IO']"
      ],
      "execution_count": 0,
      "outputs": []
    },
    {
      "cell_type": "code",
      "metadata": {
        "id": "6RE7kq37hgoZ",
        "colab_type": "code",
        "colab": {}
      },
      "source": [
        "svm = SVC(kernel='linear', probability=True)\n",
        "svm.fit(X_mix, y)\n",
        "y_test_pred = svm.predict(X_test_mix)\n",
        "y_test_prob = svm.predict_proba(X_test_mix)"
      ],
      "execution_count": 0,
      "outputs": []
    },
    {
      "cell_type": "code",
      "metadata": {
        "id": "F0ei_UMxhitq",
        "colab_type": "code",
        "outputId": "4f6f6e3c-6799-40de-f454-210467b8d5ef",
        "colab": {
          "base_uri": "https://localhost:8080/",
          "height": 34
        }
      },
      "source": [
        "from sklearn.metrics import accuracy_score\n",
        "accuracy = accuracy_score(y_test, y_test_pred)\n",
        "print(accuracy)"
      ],
      "execution_count": 0,
      "outputs": [
        {
          "output_type": "stream",
          "text": [
            "1.0\n"
          ],
          "name": "stdout"
        }
      ]
    },
    {
      "cell_type": "code",
      "metadata": {
        "id": "KEXuVr93cRVo",
        "colab_type": "code",
        "colab": {}
      },
      "source": [
        "# the final model is svm\n",
        "# this is already trained\n",
        "# can be used with the full data set to classify accounts"
      ],
      "execution_count": 0,
      "outputs": []
    },
    {
      "cell_type": "markdown",
      "metadata": {
        "id": "l3DEUpeUlVSt",
        "colab_type": "text"
      },
      "source": [
        "## Classify the full data set"
      ]
    },
    {
      "cell_type": "markdown",
      "metadata": {
        "id": "ltXG24txla1s",
        "colab_type": "text"
      },
      "source": [
        "Steps\n",
        "1. grab the meta data predicted probabilities from the full data set -> save it in a numpy array\n",
        "2. generate tf-idf vector of the texts\n",
        "3. reduce data -> do pca on the full data set by projecting the data on the same space as the training\n",
        "4. combine 1 and 2 \n",
        "5. call svm and fit \n",
        "6. obtain the classification of 3,400 tweets"
      ]
    },
    {
      "cell_type": "code",
      "metadata": {
        "id": "O1H_vUZ_lNsu",
        "colab_type": "code",
        "colab": {}
      },
      "source": [
        "full_df = pd.read_csv('full_tweets_final_with_proba.csv', encoding='utf-8')"
      ],
      "execution_count": 0,
      "outputs": []
    },
    {
      "cell_type": "code",
      "metadata": {
        "id": "GfINosa5cRYS",
        "colab_type": "code",
        "outputId": "7be65954-8eb3-4c63-cc5e-986a6dfe8c5d",
        "colab": {
          "base_uri": "https://localhost:8080/",
          "height": 717
        }
      },
      "source": [
        "full_df.head()"
      ],
      "execution_count": 0,
      "outputs": [
        {
          "output_type": "execute_result",
          "data": {
            "text/html": [
              "<div>\n",
              "<style scoped>\n",
              "    .dataframe tbody tr th:only-of-type {\n",
              "        vertical-align: middle;\n",
              "    }\n",
              "\n",
              "    .dataframe tbody tr th {\n",
              "        vertical-align: top;\n",
              "    }\n",
              "\n",
              "    .dataframe thead th {\n",
              "        text-align: right;\n",
              "    }\n",
              "</style>\n",
              "<table border=\"1\" class=\"dataframe\">\n",
              "  <thead>\n",
              "    <tr style=\"text-align: right;\">\n",
              "      <th></th>\n",
              "      <th>screen_name</th>\n",
              "      <th>fullname</th>\n",
              "      <th>text</th>\n",
              "      <th>timestamp</th>\n",
              "      <th>following</th>\n",
              "      <th>followers</th>\n",
              "      <th>num_tweets</th>\n",
              "      <th>location</th>\n",
              "      <th>num_likes</th>\n",
              "      <th>id</th>\n",
              "      <th>date_joined</th>\n",
              "      <th>num_days_joined</th>\n",
              "      <th>days_on_twitter</th>\n",
              "      <th>IO_meta_clf</th>\n",
              "      <th>isIO_meta_prob</th>\n",
              "    </tr>\n",
              "  </thead>\n",
              "  <tbody>\n",
              "    <tr>\n",
              "      <th>0</th>\n",
              "      <td>KI36bsxg8ozf6bg</td>\n",
              "      <td>ชัย สุขกายสบายใจ</td>\n",
              "      <td>ดูข่าวให้ดี อย่าเชื่อข่าวปลอม แล้วค่อยมาแสดงึว...</td>\n",
              "      <td>2020-02-02 17:52:19</td>\n",
              "      <td>36</td>\n",
              "      <td>22</td>\n",
              "      <td>2673</td>\n",
              "      <td>-1</td>\n",
              "      <td>0</td>\n",
              "      <td>1201755584225107968</td>\n",
              "      <td>2019-12-02 22:50:00</td>\n",
              "      <td>86 days 01:10:00.000000000</td>\n",
              "      <td>86</td>\n",
              "      <td>1</td>\n",
              "      <td>0.972172</td>\n",
              "    </tr>\n",
              "    <tr>\n",
              "      <th>1</th>\n",
              "      <td>thaiprong</td>\n",
              "      <td>รวมใจไทยปรองดอง</td>\n",
              "      <td>ข่าวดี!! แพทย์ราชวิถี รักษาผู้ป่วยโคโรนา อากา...</td>\n",
              "      <td>2020-02-02 15:15:13</td>\n",
              "      <td>304</td>\n",
              "      <td>99</td>\n",
              "      <td>78</td>\n",
              "      <td>-1</td>\n",
              "      <td>9</td>\n",
              "      <td>1209024400651014144</td>\n",
              "      <td>2019-12-23 00:14:00</td>\n",
              "      <td>65 days 23:46:00.000000000</td>\n",
              "      <td>65</td>\n",
              "      <td>1</td>\n",
              "      <td>0.916954</td>\n",
              "    </tr>\n",
              "    <tr>\n",
              "      <th>2</th>\n",
              "      <td>KI36bsxg8ozf6bg</td>\n",
              "      <td>ชัย สุขกายสบายใจ</td>\n",
              "      <td>ดูข่าวให้ดี อย่าเชื่อข่าวปลอม แล้วค่อยมาแสดงึว...</td>\n",
              "      <td>2020-02-02 17:52:19</td>\n",
              "      <td>36</td>\n",
              "      <td>22</td>\n",
              "      <td>2673</td>\n",
              "      <td>-1</td>\n",
              "      <td>0</td>\n",
              "      <td>1201755584225107968</td>\n",
              "      <td>2019-12-02 22:50:00</td>\n",
              "      <td>86 days 01:10:00.000000000</td>\n",
              "      <td>86</td>\n",
              "      <td>1</td>\n",
              "      <td>0.972172</td>\n",
              "    </tr>\n",
              "    <tr>\n",
              "      <th>3</th>\n",
              "      <td>thaiprong</td>\n",
              "      <td>รวมใจไทยปรองดอง</td>\n",
              "      <td>ข่าวดี!! แพทย์ราชวิถี รักษาผู้ป่วยโคโรนา อากา...</td>\n",
              "      <td>2020-02-02 15:15:13</td>\n",
              "      <td>304</td>\n",
              "      <td>99</td>\n",
              "      <td>78</td>\n",
              "      <td>-1</td>\n",
              "      <td>9</td>\n",
              "      <td>1209024400651014144</td>\n",
              "      <td>2019-12-23 00:14:00</td>\n",
              "      <td>65 days 23:46:00.000000000</td>\n",
              "      <td>65</td>\n",
              "      <td>1</td>\n",
              "      <td>0.916954</td>\n",
              "    </tr>\n",
              "    <tr>\n",
              "      <th>4</th>\n",
              "      <td>thaiprong</td>\n",
              "      <td>รวมใจไทยปรองดอง</td>\n",
              "      <td>อัปเดตไวรัส \"โคโรนา\" ประจำวันที่ 1 ก.พ. 63 ใน...</td>\n",
              "      <td>2020-02-01 15:34:33</td>\n",
              "      <td>304</td>\n",
              "      <td>99</td>\n",
              "      <td>78</td>\n",
              "      <td>-1</td>\n",
              "      <td>8</td>\n",
              "      <td>1209024400651014144</td>\n",
              "      <td>2019-12-23 00:14:00</td>\n",
              "      <td>65 days 23:46:00.000000000</td>\n",
              "      <td>65</td>\n",
              "      <td>1</td>\n",
              "      <td>0.916954</td>\n",
              "    </tr>\n",
              "  </tbody>\n",
              "</table>\n",
              "</div>"
            ],
            "text/plain": [
              "       screen_name          fullname  ... IO_meta_clf isIO_meta_prob\n",
              "0  KI36bsxg8ozf6bg  ชัย สุขกายสบายใจ  ...           1       0.972172\n",
              "1        thaiprong   รวมใจไทยปรองดอง  ...           1       0.916954\n",
              "2  KI36bsxg8ozf6bg  ชัย สุขกายสบายใจ  ...           1       0.972172\n",
              "3        thaiprong   รวมใจไทยปรองดอง  ...           1       0.916954\n",
              "4        thaiprong   รวมใจไทยปรองดอง  ...           1       0.916954\n",
              "\n",
              "[5 rows x 15 columns]"
            ]
          },
          "metadata": {
            "tags": []
          },
          "execution_count": 41
        }
      ]
    },
    {
      "cell_type": "code",
      "metadata": {
        "id": "D9OUQLALcRa-",
        "colab_type": "code",
        "outputId": "36fa5d6f-65c0-4f29-9c1f-a34cd1e77acb",
        "colab": {
          "base_uri": "https://localhost:8080/",
          "height": 34
        }
      },
      "source": [
        "full_df.shape"
      ],
      "execution_count": 0,
      "outputs": [
        {
          "output_type": "execute_result",
          "data": {
            "text/plain": [
              "(3405, 15)"
            ]
          },
          "metadata": {
            "tags": []
          },
          "execution_count": 42
        }
      ]
    },
    {
      "cell_type": "code",
      "metadata": {
        "id": "8izk4hvicRdk",
        "colab_type": "code",
        "outputId": "0f410284-a270-4944-acb1-6bc8e4a9d19a",
        "colab": {
          "base_uri": "https://localhost:8080/",
          "height": 68
        }
      },
      "source": [
        "meta_prob = full_df['isIO_meta_prob'].values\n",
        "print(meta_prob.shape)\n",
        "meta_prob"
      ],
      "execution_count": 0,
      "outputs": [
        {
          "output_type": "stream",
          "text": [
            "(3405,)\n"
          ],
          "name": "stdout"
        },
        {
          "output_type": "execute_result",
          "data": {
            "text/plain": [
              "array([9.721725e-01, 9.169536e-01, 9.721725e-01, ..., 5.695476e-04,\n",
              "       5.695476e-04, 2.387324e-02])"
            ]
          },
          "metadata": {
            "tags": []
          },
          "execution_count": 43
        }
      ]
    },
    {
      "cell_type": "code",
      "metadata": {
        "id": "kxXto369neCm",
        "colab_type": "code",
        "colab": {}
      },
      "source": [
        "X_full_TFVects = tfidf.fit_transform(full_df['text'])"
      ],
      "execution_count": 0,
      "outputs": []
    },
    {
      "cell_type": "code",
      "metadata": {
        "id": "JqOc8O2JneG_",
        "colab_type": "code",
        "outputId": "f8fe317a-a6aa-4e23-ecc2-6f389734a9c3",
        "colab": {
          "base_uri": "https://localhost:8080/",
          "height": 51
        }
      },
      "source": [
        "X_full_TFVects"
      ],
      "execution_count": 0,
      "outputs": [
        {
          "output_type": "execute_result",
          "data": {
            "text/plain": [
              "<3405x1831 sparse matrix of type '<class 'numpy.float64'>'\n",
              "\twith 73233 stored elements in Compressed Sparse Row format>"
            ]
          },
          "metadata": {
            "tags": []
          },
          "execution_count": 45
        }
      ]
    },
    {
      "cell_type": "code",
      "metadata": {
        "id": "M4jVo_RoneFw",
        "colab_type": "code",
        "colab": {}
      },
      "source": [
        "X_full = X_full_TFVects.toarray()\n",
        "reduced_X_full = pca_3d.fit_transform(X_full)"
      ],
      "execution_count": 0,
      "outputs": []
    },
    {
      "cell_type": "code",
      "metadata": {
        "id": "YdDYKfercRgg",
        "colab_type": "code",
        "colab": {}
      },
      "source": [
        "X_full_mix = np.concatenate((reduced_X_full, \n",
        "                             meta_prob.reshape(3405,1)), axis=1)"
      ],
      "execution_count": 0,
      "outputs": []
    },
    {
      "cell_type": "code",
      "metadata": {
        "id": "NrHtYC9JohT7",
        "colab_type": "code",
        "colab": {}
      },
      "source": [
        "y_full_pred = svm.predict(X_full_mix)\n",
        "y_full_prob = svm.predict_proba(X_full_mix)"
      ],
      "execution_count": 0,
      "outputs": []
    },
    {
      "cell_type": "code",
      "metadata": {
        "id": "WsDsU5teohYS",
        "colab_type": "code",
        "outputId": "7f48ebee-d784-44d5-dc58-05313c162fc8",
        "colab": {
          "base_uri": "https://localhost:8080/",
          "height": 51
        }
      },
      "source": [
        "print(\"number of IO posts:\", y_full_pred.sum())\n",
        "print(\"percentage of IO posts:\", y_full_pred.sum() / len(y_full_pred))"
      ],
      "execution_count": 0,
      "outputs": [
        {
          "output_type": "stream",
          "text": [
            "number of IO posts: 375\n",
            "percentage of IO posts: 0.11013215859030837\n"
          ],
          "name": "stdout"
        }
      ]
    },
    {
      "cell_type": "code",
      "metadata": {
        "id": "23VWn8X2ohbI",
        "colab_type": "code",
        "colab": {}
      },
      "source": [
        "full_df['is_IO'] = y_full_pred"
      ],
      "execution_count": 0,
      "outputs": []
    },
    {
      "cell_type": "code",
      "metadata": {
        "id": "vb9n-dCfohWg",
        "colab_type": "code",
        "colab": {}
      },
      "source": [
        "full_df['is_IO_prob'] = y_full_prob[:,1]"
      ],
      "execution_count": 0,
      "outputs": []
    },
    {
      "cell_type": "code",
      "metadata": {
        "id": "KfRgBJPeqIHV",
        "colab_type": "code",
        "outputId": "9821b72e-cd14-4bb5-f950-70a2ae6d2f0c",
        "colab": {
          "base_uri": "https://localhost:8080/",
          "height": 1000
        }
      },
      "source": [
        "full_df"
      ],
      "execution_count": 0,
      "outputs": [
        {
          "output_type": "execute_result",
          "data": {
            "text/html": [
              "<div>\n",
              "<style scoped>\n",
              "    .dataframe tbody tr th:only-of-type {\n",
              "        vertical-align: middle;\n",
              "    }\n",
              "\n",
              "    .dataframe tbody tr th {\n",
              "        vertical-align: top;\n",
              "    }\n",
              "\n",
              "    .dataframe thead th {\n",
              "        text-align: right;\n",
              "    }\n",
              "</style>\n",
              "<table border=\"1\" class=\"dataframe\">\n",
              "  <thead>\n",
              "    <tr style=\"text-align: right;\">\n",
              "      <th></th>\n",
              "      <th>screen_name</th>\n",
              "      <th>fullname</th>\n",
              "      <th>text</th>\n",
              "      <th>timestamp</th>\n",
              "      <th>following</th>\n",
              "      <th>followers</th>\n",
              "      <th>num_tweets</th>\n",
              "      <th>location</th>\n",
              "      <th>num_likes</th>\n",
              "      <th>id</th>\n",
              "      <th>date_joined</th>\n",
              "      <th>num_days_joined</th>\n",
              "      <th>days_on_twitter</th>\n",
              "      <th>IO_meta_clf</th>\n",
              "      <th>isIO_meta_prob</th>\n",
              "      <th>is_IO</th>\n",
              "      <th>is_IO_prob</th>\n",
              "    </tr>\n",
              "  </thead>\n",
              "  <tbody>\n",
              "    <tr>\n",
              "      <th>0</th>\n",
              "      <td>KI36bsxg8ozf6bg</td>\n",
              "      <td>ชัย สุขกายสบายใจ</td>\n",
              "      <td>ดูข่าวให้ดี อย่าเชื่อข่าวปลอม แล้วค่อยมาแสดงึว...</td>\n",
              "      <td>2020-02-02 17:52:19</td>\n",
              "      <td>36</td>\n",
              "      <td>22</td>\n",
              "      <td>2673</td>\n",
              "      <td>-1</td>\n",
              "      <td>0</td>\n",
              "      <td>1201755584225107968</td>\n",
              "      <td>2019-12-02 22:50:00</td>\n",
              "      <td>86 days 01:10:00.000000000</td>\n",
              "      <td>86</td>\n",
              "      <td>1</td>\n",
              "      <td>0.972172</td>\n",
              "      <td>1</td>\n",
              "      <td>0.938540</td>\n",
              "    </tr>\n",
              "    <tr>\n",
              "      <th>1</th>\n",
              "      <td>thaiprong</td>\n",
              "      <td>รวมใจไทยปรองดอง</td>\n",
              "      <td>ข่าวดี!! แพทย์ราชวิถี รักษาผู้ป่วยโคโรนา อากา...</td>\n",
              "      <td>2020-02-02 15:15:13</td>\n",
              "      <td>304</td>\n",
              "      <td>99</td>\n",
              "      <td>78</td>\n",
              "      <td>-1</td>\n",
              "      <td>9</td>\n",
              "      <td>1209024400651014144</td>\n",
              "      <td>2019-12-23 00:14:00</td>\n",
              "      <td>65 days 23:46:00.000000000</td>\n",
              "      <td>65</td>\n",
              "      <td>1</td>\n",
              "      <td>0.916954</td>\n",
              "      <td>1</td>\n",
              "      <td>0.918539</td>\n",
              "    </tr>\n",
              "    <tr>\n",
              "      <th>2</th>\n",
              "      <td>KI36bsxg8ozf6bg</td>\n",
              "      <td>ชัย สุขกายสบายใจ</td>\n",
              "      <td>ดูข่าวให้ดี อย่าเชื่อข่าวปลอม แล้วค่อยมาแสดงึว...</td>\n",
              "      <td>2020-02-02 17:52:19</td>\n",
              "      <td>36</td>\n",
              "      <td>22</td>\n",
              "      <td>2673</td>\n",
              "      <td>-1</td>\n",
              "      <td>0</td>\n",
              "      <td>1201755584225107968</td>\n",
              "      <td>2019-12-02 22:50:00</td>\n",
              "      <td>86 days 01:10:00.000000000</td>\n",
              "      <td>86</td>\n",
              "      <td>1</td>\n",
              "      <td>0.972172</td>\n",
              "      <td>1</td>\n",
              "      <td>0.938540</td>\n",
              "    </tr>\n",
              "    <tr>\n",
              "      <th>3</th>\n",
              "      <td>thaiprong</td>\n",
              "      <td>รวมใจไทยปรองดอง</td>\n",
              "      <td>ข่าวดี!! แพทย์ราชวิถี รักษาผู้ป่วยโคโรนา อากา...</td>\n",
              "      <td>2020-02-02 15:15:13</td>\n",
              "      <td>304</td>\n",
              "      <td>99</td>\n",
              "      <td>78</td>\n",
              "      <td>-1</td>\n",
              "      <td>9</td>\n",
              "      <td>1209024400651014144</td>\n",
              "      <td>2019-12-23 00:14:00</td>\n",
              "      <td>65 days 23:46:00.000000000</td>\n",
              "      <td>65</td>\n",
              "      <td>1</td>\n",
              "      <td>0.916954</td>\n",
              "      <td>1</td>\n",
              "      <td>0.918539</td>\n",
              "    </tr>\n",
              "    <tr>\n",
              "      <th>4</th>\n",
              "      <td>thaiprong</td>\n",
              "      <td>รวมใจไทยปรองดอง</td>\n",
              "      <td>อัปเดตไวรัส \"โคโรนา\" ประจำวันที่ 1 ก.พ. 63 ใน...</td>\n",
              "      <td>2020-02-01 15:34:33</td>\n",
              "      <td>304</td>\n",
              "      <td>99</td>\n",
              "      <td>78</td>\n",
              "      <td>-1</td>\n",
              "      <td>8</td>\n",
              "      <td>1209024400651014144</td>\n",
              "      <td>2019-12-23 00:14:00</td>\n",
              "      <td>65 days 23:46:00.000000000</td>\n",
              "      <td>65</td>\n",
              "      <td>1</td>\n",
              "      <td>0.916954</td>\n",
              "      <td>1</td>\n",
              "      <td>0.896328</td>\n",
              "    </tr>\n",
              "    <tr>\n",
              "      <th>...</th>\n",
              "      <td>...</td>\n",
              "      <td>...</td>\n",
              "      <td>...</td>\n",
              "      <td>...</td>\n",
              "      <td>...</td>\n",
              "      <td>...</td>\n",
              "      <td>...</td>\n",
              "      <td>...</td>\n",
              "      <td>...</td>\n",
              "      <td>...</td>\n",
              "      <td>...</td>\n",
              "      <td>...</td>\n",
              "      <td>...</td>\n",
              "      <td>...</td>\n",
              "      <td>...</td>\n",
              "      <td>...</td>\n",
              "      <td>...</td>\n",
              "    </tr>\n",
              "    <tr>\n",
              "      <th>3400</th>\n",
              "      <td>jhxcat</td>\n",
              "      <td>` ข้าวปั้น</td>\n",
              "      <td>รัฐบาลทำอะไรดีบ้างนอกจากสร้างภาพกับทำตัวไร้สาร...</td>\n",
              "      <td>2020-02-14 00:01:43</td>\n",
              "      <td>77</td>\n",
              "      <td>17</td>\n",
              "      <td>1618</td>\n",
              "      <td>ที่ 1 ในใจคุณ</td>\n",
              "      <td>0</td>\n",
              "      <td>4722210492</td>\n",
              "      <td>2016-01-06 23:07:00</td>\n",
              "      <td>1512 days 00:53:00.000000000</td>\n",
              "      <td>1512</td>\n",
              "      <td>0</td>\n",
              "      <td>0.000236</td>\n",
              "      <td>0</td>\n",
              "      <td>0.010584</td>\n",
              "    </tr>\n",
              "    <tr>\n",
              "      <th>3401</th>\n",
              "      <td>SR1501Y</td>\n",
              "      <td>💜ปีนี้มาแน่ โซชิมาแน่!!!!~❥태연 🦋</td>\n",
              "      <td>พน้อมทำให้พังพินาศหน่ะสิ หุหุ #รัฐบาลเตรียมพร้อม</td>\n",
              "      <td>2020-02-14 00:01:09</td>\n",
              "      <td>758</td>\n",
              "      <td>560</td>\n",
              "      <td>130677</td>\n",
              "      <td>S ❤️NE | 0805</td>\n",
              "      <td>1</td>\n",
              "      <td>97171991</td>\n",
              "      <td>2009-12-16 01:08:00</td>\n",
              "      <td>3724 days 22:52:00.000000000</td>\n",
              "      <td>3724</td>\n",
              "      <td>0</td>\n",
              "      <td>0.000579</td>\n",
              "      <td>0</td>\n",
              "      <td>0.010841</td>\n",
              "    </tr>\n",
              "    <tr>\n",
              "      <th>3402</th>\n",
              "      <td>zazukekenji</td>\n",
              "      <td>zazukekenji</td>\n",
              "      <td>ด้านได้ อายอด... #รัฐบาลเตรียมพร้อม</td>\n",
              "      <td>2020-02-14 00:01:06</td>\n",
              "      <td>153</td>\n",
              "      <td>125</td>\n",
              "      <td>9948</td>\n",
              "      <td>-1</td>\n",
              "      <td>1</td>\n",
              "      <td>1159288164994838528</td>\n",
              "      <td>2019-08-07 19:20:00</td>\n",
              "      <td>203 days 04:40:00.000000000</td>\n",
              "      <td>203</td>\n",
              "      <td>0</td>\n",
              "      <td>0.000570</td>\n",
              "      <td>0</td>\n",
              "      <td>0.010831</td>\n",
              "    </tr>\n",
              "    <tr>\n",
              "      <th>3403</th>\n",
              "      <td>zazukekenji</td>\n",
              "      <td>zazukekenji</td>\n",
              "      <td>กำขี้ดีกว่ากำตด..... #รัฐบาลเตรียมพร้อม</td>\n",
              "      <td>2020-02-14 00:00:38</td>\n",
              "      <td>153</td>\n",
              "      <td>125</td>\n",
              "      <td>9948</td>\n",
              "      <td>-1</td>\n",
              "      <td>1</td>\n",
              "      <td>1159288164994838528</td>\n",
              "      <td>2019-08-07 19:20:00</td>\n",
              "      <td>203 days 04:40:00.000000000</td>\n",
              "      <td>203</td>\n",
              "      <td>0</td>\n",
              "      <td>0.000570</td>\n",
              "      <td>0</td>\n",
              "      <td>0.011197</td>\n",
              "    </tr>\n",
              "    <tr>\n",
              "      <th>3404</th>\n",
              "      <td>mmmmmmmz5</td>\n",
              "      <td>mmmmmmmz</td>\n",
              "      <td>#รัฐบาลเตรียมพร้อม    พร้อมเท่าที่รู้ https://...</td>\n",
              "      <td>2020-02-14 00:00:04</td>\n",
              "      <td>20</td>\n",
              "      <td>0</td>\n",
              "      <td>88</td>\n",
              "      <td>-1</td>\n",
              "      <td>0</td>\n",
              "      <td>1126775183065341952</td>\n",
              "      <td>2019-05-10 09:05:12</td>\n",
              "      <td>292 days 14:54:48.000000000</td>\n",
              "      <td>292</td>\n",
              "      <td>0</td>\n",
              "      <td>0.023873</td>\n",
              "      <td>0</td>\n",
              "      <td>0.031339</td>\n",
              "    </tr>\n",
              "  </tbody>\n",
              "</table>\n",
              "<p>3405 rows × 17 columns</p>\n",
              "</div>"
            ],
            "text/plain": [
              "          screen_name                          fullname  ... is_IO is_IO_prob\n",
              "0     KI36bsxg8ozf6bg                  ชัย สุขกายสบายใจ  ...     1   0.938540\n",
              "1           thaiprong                   รวมใจไทยปรองดอง  ...     1   0.918539\n",
              "2     KI36bsxg8ozf6bg                  ชัย สุขกายสบายใจ  ...     1   0.938540\n",
              "3           thaiprong                   รวมใจไทยปรองดอง  ...     1   0.918539\n",
              "4           thaiprong                   รวมใจไทยปรองดอง  ...     1   0.896328\n",
              "...               ...                               ...  ...   ...        ...\n",
              "3400           jhxcat                        ` ข้าวปั้น  ...     0   0.010584\n",
              "3401          SR1501Y   💜ปีนี้มาแน่ โซชิมาแน่!!!!~❥태연 🦋  ...     0   0.010841\n",
              "3402      zazukekenji                       zazukekenji  ...     0   0.010831\n",
              "3403      zazukekenji                       zazukekenji  ...     0   0.011197\n",
              "3404        mmmmmmmz5                          mmmmmmmz  ...     0   0.031339\n",
              "\n",
              "[3405 rows x 17 columns]"
            ]
          },
          "metadata": {
            "tags": []
          },
          "execution_count": 65
        }
      ]
    },
    {
      "cell_type": "code",
      "metadata": {
        "id": "F6ZGUbC9qT_g",
        "colab_type": "code",
        "colab": {}
      },
      "source": [
        "io_df = full_df[full_df['is_IO'] == 1]"
      ],
      "execution_count": 0,
      "outputs": []
    },
    {
      "cell_type": "code",
      "metadata": {
        "id": "S_hO1ERkqqPS",
        "colab_type": "code",
        "colab": {}
      },
      "source": [
        "io_df.reset_index(drop=True, inplace=True)"
      ],
      "execution_count": 0,
      "outputs": []
    },
    {
      "cell_type": "code",
      "metadata": {
        "id": "Psy8MDHEqu2j",
        "colab_type": "code",
        "colab": {}
      },
      "source": [
        "io_df.to_csv('predicted_io.csv', index=False, encoding='utf-8')"
      ],
      "execution_count": 0,
      "outputs": []
    },
    {
      "cell_type": "code",
      "metadata": {
        "id": "l00E_A_EXmqE",
        "colab_type": "code",
        "colab": {}
      },
      "source": [
        "full_df.to_csv('predicted_full_data.csv', index=False, encoding='utf-8')"
      ],
      "execution_count": 0,
      "outputs": []
    },
    {
      "cell_type": "code",
      "metadata": {
        "id": "hgZ9adG1Xy7S",
        "colab_type": "code",
        "colab": {}
      },
      "source": [
        "filtered_full = full_df[['following', 'followers', 'num_tweets', 'num_likes', 'days_on_twitter', 'is_IO']]"
      ],
      "execution_count": 0,
      "outputs": []
    },
    {
      "cell_type": "code",
      "metadata": {
        "id": "Wvk7d3fqXy9-",
        "colab_type": "code",
        "outputId": "5b69af6a-d9c2-4e7d-e27a-cb5c9c2c299c",
        "colab": {
          "base_uri": "https://localhost:8080/",
          "height": 297
        }
      },
      "source": [
        "sum_stats = filtered_full.describe().round(2)\n",
        "sum_stats"
      ],
      "execution_count": 0,
      "outputs": [
        {
          "output_type": "execute_result",
          "data": {
            "text/html": [
              "<div>\n",
              "<style scoped>\n",
              "    .dataframe tbody tr th:only-of-type {\n",
              "        vertical-align: middle;\n",
              "    }\n",
              "\n",
              "    .dataframe tbody tr th {\n",
              "        vertical-align: top;\n",
              "    }\n",
              "\n",
              "    .dataframe thead th {\n",
              "        text-align: right;\n",
              "    }\n",
              "</style>\n",
              "<table border=\"1\" class=\"dataframe\">\n",
              "  <thead>\n",
              "    <tr style=\"text-align: right;\">\n",
              "      <th></th>\n",
              "      <th>following</th>\n",
              "      <th>followers</th>\n",
              "      <th>num_tweets</th>\n",
              "      <th>num_likes</th>\n",
              "      <th>days_on_twitter</th>\n",
              "      <th>is_IO</th>\n",
              "    </tr>\n",
              "  </thead>\n",
              "  <tbody>\n",
              "    <tr>\n",
              "      <th>count</th>\n",
              "      <td>3405.00</td>\n",
              "      <td>3405.00</td>\n",
              "      <td>3405.00</td>\n",
              "      <td>3405.00</td>\n",
              "      <td>3405.00</td>\n",
              "      <td>3405.00</td>\n",
              "    </tr>\n",
              "    <tr>\n",
              "      <th>mean</th>\n",
              "      <td>309.59</td>\n",
              "      <td>3262.02</td>\n",
              "      <td>25341.02</td>\n",
              "      <td>11.36</td>\n",
              "      <td>1236.86</td>\n",
              "      <td>0.11</td>\n",
              "    </tr>\n",
              "    <tr>\n",
              "      <th>std</th>\n",
              "      <td>596.66</td>\n",
              "      <td>73489.34</td>\n",
              "      <td>61243.10</td>\n",
              "      <td>87.57</td>\n",
              "      <td>1237.90</td>\n",
              "      <td>0.31</td>\n",
              "    </tr>\n",
              "    <tr>\n",
              "      <th>min</th>\n",
              "      <td>0.00</td>\n",
              "      <td>0.00</td>\n",
              "      <td>1.00</td>\n",
              "      <td>0.00</td>\n",
              "      <td>8.00</td>\n",
              "      <td>0.00</td>\n",
              "    </tr>\n",
              "    <tr>\n",
              "      <th>25%</th>\n",
              "      <td>38.00</td>\n",
              "      <td>5.00</td>\n",
              "      <td>411.00</td>\n",
              "      <td>0.00</td>\n",
              "      <td>181.00</td>\n",
              "      <td>0.00</td>\n",
              "    </tr>\n",
              "    <tr>\n",
              "      <th>50%</th>\n",
              "      <td>132.00</td>\n",
              "      <td>37.00</td>\n",
              "      <td>2366.00</td>\n",
              "      <td>0.00</td>\n",
              "      <td>792.00</td>\n",
              "      <td>0.00</td>\n",
              "    </tr>\n",
              "    <tr>\n",
              "      <th>75%</th>\n",
              "      <td>325.00</td>\n",
              "      <td>162.00</td>\n",
              "      <td>15144.00</td>\n",
              "      <td>2.00</td>\n",
              "      <td>2077.00</td>\n",
              "      <td>0.00</td>\n",
              "    </tr>\n",
              "    <tr>\n",
              "      <th>max</th>\n",
              "      <td>19140.00</td>\n",
              "      <td>3173203.00</td>\n",
              "      <td>664891.00</td>\n",
              "      <td>2208.00</td>\n",
              "      <td>4563.00</td>\n",
              "      <td>1.00</td>\n",
              "    </tr>\n",
              "  </tbody>\n",
              "</table>\n",
              "</div>"
            ],
            "text/plain": [
              "       following   followers  num_tweets  num_likes  days_on_twitter    is_IO\n",
              "count    3405.00     3405.00     3405.00    3405.00          3405.00  3405.00\n",
              "mean      309.59     3262.02    25341.02      11.36          1236.86     0.11\n",
              "std       596.66    73489.34    61243.10      87.57          1237.90     0.31\n",
              "min         0.00        0.00        1.00       0.00             8.00     0.00\n",
              "25%        38.00        5.00      411.00       0.00           181.00     0.00\n",
              "50%       132.00       37.00     2366.00       0.00           792.00     0.00\n",
              "75%       325.00      162.00    15144.00       2.00          2077.00     0.00\n",
              "max     19140.00  3173203.00   664891.00    2208.00          4563.00     1.00"
            ]
          },
          "metadata": {
            "tags": []
          },
          "execution_count": 69
        }
      ]
    },
    {
      "cell_type": "code",
      "metadata": {
        "id": "4N_1coZrXzAx",
        "colab_type": "code",
        "outputId": "65b40c9d-c0a8-4f14-b2a0-fb8d1b96ffe8",
        "colab": {
          "base_uri": "https://localhost:8080/",
          "height": 272
        }
      },
      "source": [
        "print(sum_stats.to_latex())"
      ],
      "execution_count": 0,
      "outputs": [
        {
          "output_type": "stream",
          "text": [
            "\\begin{tabular}{lrrrrrr}\n",
            "\\toprule\n",
            "{} &  following &   followers &  num\\_tweets &  num\\_likes &  days\\_on\\_twitter &    is\\_IO \\\\\n",
            "\\midrule\n",
            "count &    3405.00 &     3405.00 &     3405.00 &    3405.00 &          3405.00 &  3405.00 \\\\\n",
            "mean  &     309.59 &     3262.02 &    25341.02 &      11.36 &          1236.86 &     0.11 \\\\\n",
            "std   &     596.66 &    73489.34 &    61243.10 &      87.57 &          1237.90 &     0.31 \\\\\n",
            "min   &       0.00 &        0.00 &        1.00 &       0.00 &             8.00 &     0.00 \\\\\n",
            "25\\%   &      38.00 &        5.00 &      411.00 &       0.00 &           181.00 &     0.00 \\\\\n",
            "50\\%   &     132.00 &       37.00 &     2366.00 &       0.00 &           792.00 &     0.00 \\\\\n",
            "75\\%   &     325.00 &      162.00 &    15144.00 &       2.00 &          2077.00 &     0.00 \\\\\n",
            "max   &   19140.00 &  3173203.00 &   664891.00 &    2208.00 &          4563.00 &     1.00 \\\\\n",
            "\\bottomrule\n",
            "\\end{tabular}\n",
            "\n"
          ],
          "name": "stdout"
        }
      ]
    },
    {
      "cell_type": "code",
      "metadata": {
        "id": "IEpcBL5hXzDX",
        "colab_type": "code",
        "outputId": "785ab471-2cee-487d-d05d-da88d7e9f756",
        "colab": {
          "base_uri": "https://localhost:8080/",
          "height": 142
        }
      },
      "source": [
        "mean_by_class = filtered_full.groupby('is_IO').mean().round(2)\n",
        "mean_by_class"
      ],
      "execution_count": 0,
      "outputs": [
        {
          "output_type": "execute_result",
          "data": {
            "text/html": [
              "<div>\n",
              "<style scoped>\n",
              "    .dataframe tbody tr th:only-of-type {\n",
              "        vertical-align: middle;\n",
              "    }\n",
              "\n",
              "    .dataframe tbody tr th {\n",
              "        vertical-align: top;\n",
              "    }\n",
              "\n",
              "    .dataframe thead th {\n",
              "        text-align: right;\n",
              "    }\n",
              "</style>\n",
              "<table border=\"1\" class=\"dataframe\">\n",
              "  <thead>\n",
              "    <tr style=\"text-align: right;\">\n",
              "      <th></th>\n",
              "      <th>following</th>\n",
              "      <th>followers</th>\n",
              "      <th>num_tweets</th>\n",
              "      <th>num_likes</th>\n",
              "      <th>days_on_twitter</th>\n",
              "    </tr>\n",
              "    <tr>\n",
              "      <th>is_IO</th>\n",
              "      <th></th>\n",
              "      <th></th>\n",
              "      <th></th>\n",
              "      <th></th>\n",
              "      <th></th>\n",
              "    </tr>\n",
              "  </thead>\n",
              "  <tbody>\n",
              "    <tr>\n",
              "      <th>0</th>\n",
              "      <td>334.70</td>\n",
              "      <td>3664.66</td>\n",
              "      <td>28389.48</td>\n",
              "      <td>12.43</td>\n",
              "      <td>1380.68</td>\n",
              "    </tr>\n",
              "    <tr>\n",
              "      <th>1</th>\n",
              "      <td>106.69</td>\n",
              "      <td>8.71</td>\n",
              "      <td>709.43</td>\n",
              "      <td>2.69</td>\n",
              "      <td>74.77</td>\n",
              "    </tr>\n",
              "  </tbody>\n",
              "</table>\n",
              "</div>"
            ],
            "text/plain": [
              "       following  followers  num_tweets  num_likes  days_on_twitter\n",
              "is_IO                                                              \n",
              "0         334.70    3664.66    28389.48      12.43          1380.68\n",
              "1         106.69       8.71      709.43       2.69            74.77"
            ]
          },
          "metadata": {
            "tags": []
          },
          "execution_count": 71
        }
      ]
    },
    {
      "cell_type": "code",
      "metadata": {
        "id": "x3I19hydXzF0",
        "colab_type": "code",
        "outputId": "4bcba7ce-090f-4102-db29-515e1f33fcfc",
        "colab": {
          "base_uri": "https://localhost:8080/",
          "height": 187
        }
      },
      "source": [
        "print(mean_by_class.to_latex())"
      ],
      "execution_count": 0,
      "outputs": [
        {
          "output_type": "stream",
          "text": [
            "\\begin{tabular}{lrrrrr}\n",
            "\\toprule\n",
            "{} &  following &  followers &  num\\_tweets &  num\\_likes &  days\\_on\\_twitter \\\\\n",
            "is\\_IO &            &            &             &            &                  \\\\\n",
            "\\midrule\n",
            "0     &     334.70 &    3664.66 &    28389.48 &      12.43 &          1380.68 \\\\\n",
            "1     &     106.69 &       8.71 &      709.43 &       2.69 &            74.77 \\\\\n",
            "\\bottomrule\n",
            "\\end{tabular}\n",
            "\n"
          ],
          "name": "stdout"
        }
      ]
    },
    {
      "cell_type": "code",
      "metadata": {
        "id": "iDGUGJD0aeQV",
        "colab_type": "code",
        "colab": {}
      },
      "source": [
        ""
      ],
      "execution_count": 0,
      "outputs": []
    }
  ]
}